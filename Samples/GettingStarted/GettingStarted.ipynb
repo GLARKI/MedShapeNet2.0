{
 "cells": [
  {
   "cell_type": "markdown",
   "metadata": {},
   "source": [
    "# Create a temporary virtual environment to demonstrate the functionality of MedShapenet\n",
    "- Activate the environment manually after creating it! <br>\n",
    "*(upper right corner or cntrl+p -> >python: Select Interpreter VS code)*"
   ]
  },
  {
   "cell_type": "code",
   "execution_count": 1,
   "metadata": {
    "vscode": {
     "languageId": "shellscript"
    }
   },
   "outputs": [],
   "source": [
    "%%capture\n",
    "\n",
    "# STEP 1\n",
    "# Create the conda environment with python 3.12 and ipykernel (to allow working in jypnb)\n",
    "!conda create --name temp_env python=3.12 ipykernel --yes\n",
    "\n",
    "\n",
    "# Manually select the inteperter to get temp_env as the enviornment."
   ]
  },
  {
   "cell_type": "code",
   "execution_count": 2,
   "metadata": {},
   "outputs": [
    {
     "name": "stdout",
     "output_type": "stream",
     "text": [
      "Current environment path: c:\\Users\\gijsl\\anaconda3\\envs\\temp_env\\python.exe\n",
      "Manual switched to environment 'temp_env' succesfully, python version: ['Python 3.12.5']\n"
     ]
    }
   ],
   "source": [
    "# STEP 2\n",
    "# Check if you have selected the temp_env -> cntrl+p -> >python: Select Interpreter\n",
    "import sys\n",
    "from pathlib import Path\n",
    "\n",
    "current_env_path = sys.executable\n",
    "print(f\"Current environment path: {current_env_path}\")\n",
    "current_env_path = Path(current_env_path)\n",
    "py_version = !python --version\n",
    "if current_env_path.parts[-2] == 'temp_env':\n",
    "    print(f\"Manual switched to environment '{current_env_path.parts[-2]}' succesfully, python version: {py_version}\")\n",
    "else:\n",
    "    print('SELECT THE TEMP_ENV AS YOUR INTERPRETER -> cntr + P: python:Select Interpreter')"
   ]
  },
  {
   "cell_type": "code",
   "execution_count": 1,
   "metadata": {
    "vscode": {
     "languageId": "shellscript"
    }
   },
   "outputs": [],
   "source": [
    "%%capture\n",
    "# STEP 3\n",
    "# install requirements\n",
    "\n",
    "# Install ipykernall for temp_env\n",
    "!python -m ipykernel install --user --name temp_env --display-name \"Python (temp_env)\"\n",
    "\n",
    "# Install MedShapeNet\n",
    "!pip install MedShapeNet"
   ]
  },
  {
   "cell_type": "code",
   "execution_count": 3,
   "metadata": {
    "vscode": {
     "languageId": "shellscript"
    }
   },
   "outputs": [
    {
     "name": "stdout",
     "output_type": "stream",
     "text": [
      "Package              Version\n",
      "-------------------- -----------\n",
      "argon2-cffi          23.1.0\n",
      "argon2-cffi-bindings 21.2.0\n",
      "asttokens            2.0.5\n",
      "certifi              2024.8.30\n",
      "cffi                 1.17.1\n",
      "charset-normalizer   3.3.2\n",
      "colorama             0.4.6\n",
      "comm                 0.2.1\n",
      "debugpy              1.6.7\n",
      "decorator            5.1.1\n",
      "executing            0.8.3\n",
      "fire                 0.6.0\n",
      "idna                 3.10\n",
      "ipykernel            6.28.0\n",
      "ipython              8.27.0\n",
      "jedi                 0.19.1\n",
      "jupyter_client       8.6.0\n",
      "jupyter_core         5.7.2\n",
      "matplotlib-inline    0.1.6\n",
      "MedShapeNet          0.1.7\n",
      "minio                7.2.8\n",
      "nest-asyncio         1.6.0\n",
      "numpy                2.1.1\n",
      "numpy-stl            3.1.2\n",
      "packaging            24.1\n",
      "parso                0.8.3\n",
      "pip                  24.2\n",
      "platformdirs         3.10.0\n",
      "prompt-toolkit       3.0.43\n",
      "psutil               5.9.0\n",
      "pure-eval            0.2.2\n",
      "pycparser            2.22\n",
      "pycryptodome         3.20.0\n",
      "Pygments             2.15.1\n",
      "python-dateutil      2.9.0.post0\n",
      "python-utils         3.8.2\n",
      "pywin32              305.1\n",
      "pyzmq                25.1.2\n",
      "requests             2.32.3\n",
      "setuptools           75.1.0\n",
      "six                  1.16.0\n",
      "stack-data           0.2.0\n",
      "termcolor            2.4.0\n",
      "tornado              6.4.1\n",
      "tqdm                 4.66.5\n",
      "traitlets            5.14.3\n",
      "typing_extensions    4.12.2\n",
      "urllib3              2.2.3\n",
      "wcwidth              0.2.5\n",
      "wheel                0.44.0\n"
     ]
    }
   ],
   "source": [
    "# STEP 4: Sanity Check if the installed requirements are actually installed\n",
    "!pip list"
   ]
  },
  {
   "cell_type": "markdown",
   "metadata": {},
   "source": [
    "# Examples of the following usage in Python:\n",
    "\n",
    "| Function Name                  | Description                                                                                                                  |\n",
    "|--------------------------------|------------------------------------------------------------------------------------------------------------------------------|\n",
    "| **`__init__`**                 | Setup connection with the database as an object through the MedShapeNet init, and create a directory to store related downloads. |\n",
    "| **`help`**                     | Ask for help specifying all functions.                                                                                       |\n",
    "| **`search_by_name`** incl. download a single file from url| Search the original MedShapeNet (Sciebo storage) by name and get a list of all download URLs, downside: you have to look up the reference and license manually based on the paper.|\n",
    "| **`search_and_download_by_name`** | Search and download the original MedShapeNet (Sciebo storage) by name, downside: you have to look up the reference and license manually based on the paper. |\n",
    "| **`datasets`**                 | Get a list of all datasets included in MedShapeNet and stored on the S3 storage.                                             |\n",
    "| **`dataset_info`**             | Print license, citation, and number of files for a dataset.                                                                  |\n",
    "| **`dataset_files`**            | Get a list of files inside the dataset.                                                                                      |\n",
    "| **`download_file`**            | Download a file from a dataset.                                                                                              |\n",
    "| **`download_dataset`**         | Download separate datasets completely based on the name.                                                                     |\n",
    "| **`stl_to_npz`**               | Convert an STL file to a numpy mask.                                                                                         |\n",
    "| **`dataset_stl_to_npz`**       | Convert an already downloaded dataset to numpy masks stored in the same directory.                                           |\n",
    "| **`download_stl_as_numpy`**    | Download a shape from the database directly as a numpy mask, conversion from STL to NPZ happens in memory.                   |\n",
    "| **`download_dataset_masks`**   | Download a complete dataset but get masks instead of STL files, conversion from STL to NPZ happens in memory.                |\n"
   ]
  },
  {
   "cell_type": "code",
   "execution_count": 1,
   "metadata": {},
   "outputs": [
    {
     "name": "stdout",
     "output_type": "stream",
     "text": [
      "\n",
      "        This message only displays once when importing MedShapeNet for the first time.\n",
      "\n",
      "        MedShapeNet API is under construction, more functionality will come soon!\n",
      "\n",
      "        For information use MedShapeNet.msn_help().\n",
      "        Alternatively, check the GitHub Page: https://github.com/GLARKI/MedShapeNet2.0\n",
      "\n",
      "        PLEASE CITE US If you used MedShapeNet API for your (research) project:\n",
      "        \n",
      "        @article{li2023medshapenet,\n",
      "        title={MedShapeNet--A Large-Scale Dataset of 3D Medical Shapes for Computer Vision},\n",
      "        author={Li, Jianning and Pepe, Antonio and Gsaxner, Christina and Luijten, Gijs and Jin, Yuan and Ambigapathy, Narmada, and others},\n",
      "        journal={arXiv preprint arXiv:2308.16139},\n",
      "        year={2023}\n",
      "        }\n",
      "\n",
      "        PLEASE USE the def dataset_info(self, bucket_name: str) to find the proper citation alongside MedShapeNet when utilizing a dataset for your resarch project.\n",
      "        \n",
      "Connection to MinIO server successful.\n",
      "\n",
      "Download directory already exists at: E:\\OneDrive\\Article_projects\\MedShapeNet_OvertakeJianning\\MSN_NEW_S3_PIP_INSTALL\\Github\\MedShapeNet2.0\\Samples\\GettingStarted\\msn_downloads\n"
     ]
    }
   ],
   "source": [
    "# __init__: Instantiate the class object\n",
    "from MedShapeNet import MedShapeNet as msn\n",
    "\n",
    "# This will create a folder to store and sort your data automatically\n",
    "msn_instance = msn()"
   ]
  },
  {
   "cell_type": "code",
   "execution_count": 2,
   "metadata": {},
   "outputs": [
    {
     "name": "stdout",
     "output_type": "stream",
     "text": [
      "________________________________________________________________________________\n",
      "\n",
      "                NOTE:\n",
      "                This package is currently under heavy construction, more functionality will come soon!\n",
      "                Current S3 access is for development only and reachable via https://xrlab.ikim.nrw wifi, full access will come soon!\n",
      "                Want to contribute, contact me Gijs Luijten via LinkedIn, my work email or the MedShapeNet 2.0 GitHub.\n",
      "                \n",
      "                SAMPLE USAGE - With Jupyter Notebook examples:\n",
      "                https://github.com/GLARKI/MedShapeNet2.0/tree/main/Samples\n",
      "\n",
      "                CITE:\n",
      "                If you used MedShapeNet within your research please CITE:\n",
      "                @article{li2023medshapenet,\n",
      "                title={MedShapeNet--A Large-Scale Dataset of 3D Medical Shapes for Computer Vision},\n",
      "                author={Li, Jianning and Pepe, Antonio and Gsaxner, Christina and Luijten, Gijs and Jin, Yuan and Ambigapathy, Narmada and Nasca, Enrico and Solak, Naida and Melito, Gian Marco and Memon, Afaque R and others},\n",
      "                journal={arXiv preprint arXiv:2308.16139},\n",
      "                year={2023}\n",
      "                }\n",
      "              \n",
      "                CALL DOCSTRING/INFO of MedShapeNet class or method (in Python) using:\n",
      "                print(MedShapeNet.__doc__) OR print(MedShapeNet.'{'method_name'}'.__doc__)\n",
      "              \n",
      "                CURRENT (PYTHON) METHODS:\n",
      "                    - def __init__: Setup connection with the database as an object through the MedShapeNet init, and create a directory to store related downloads.\n",
      "                    - def help(): Ask for help specifying all functions.\n",
      "                    - def datasets(): Get a list of all datasets included in MedShapeNet and stored on the S3 storage. \n",
      "                    - def dataset_info(): Print licence, citation and number of files for a dataset.\n",
      "                    - def dataset_files(): Get a list of files inside the dataset.\n",
      "                    - def download_file(): Download a file from a dataset\n",
      "                    - def download_dataset(): Download seperate datasets completely based on the name.\n",
      "                    - def stl_to_npz(): Convert a STL file to a numpy mask.\n",
      "                    - def dataset_stl_to_npz(): Convert an already downloaded dataset to numpy masks stored in the same directory.\n",
      "                    - def download_stl_as_numpy(): Download a shape from the database directly as numpy mask, conversion from stl to npz happens in memory.\n",
      "                    - def download_dataset_masks(): Download a complete dataset but get masks instead of stl files, conversion from stl to npz happens in memory.\n",
      "                    - def search_by_name(): Search the original MedShapeNet (Sciebo storage) by name and get a list of all download urls, downside: you have to look up the reference and licence manually based on the paper. \n",
      "                    - def search_and_download_by_name(): Search and download the original MedShapeNet (Sciebo storage) by name, downside: you have to look up the reference and licence manually based on the paper.\n",
      "\n",
      "                COMMAND LINE INTERFACE\n",
      "                    - Methods are callable via the command line interface as well.\n",
      "                    e.g., call in cli using: python CLI.py download_file --bucket_name \"example-bucket\" --object_name \"file.stl\" --file_path \"./local/path/\"\n",
      "                    CLI Methods:\n",
      "                        'MedShapeNet': MedShapeNet,\n",
      "                        'help':MedShapeNet.help,\n",
      "                        'datasets':MedShapeNet.datasets,\n",
      "                        'dataset_info': MedShapeNet.dataset_info,\n",
      "                        'dataset_files':MedShapeNet.dataset_files,\n",
      "                        'download_file':MedShapeNet.download_file,\n",
      "                        'download_dataset':MedShapeNet.download_dataset,\n",
      "                        'stl_to_npz':MedShapeNet.stl_to_npz,\n",
      "                        'dataset_stl_to_npz':MedShapeNet.dataset_stl_to_npz,\n",
      "                        'download_stl_as_numpy':MedShapeNet.download_stl_as_numpy,\n",
      "                        'download_dataset_masks':MedShapeNet.download_dataset_masks,\n",
      "                        'search_by_name':MedShapeNet.search_by_name,\n",
      "                        'search_and_download_by_name':MedShapeNet.search_and_download_by_name\n",
      "\n",
      "                Datasets within the s3 bucket:\n",
      "                *under construction*\n",
      "              \n",
      "                \n",
      "________________________________________________________________________________\n",
      "\n",
      "                METHODS IN DETAIL\n",
      "              \n",
      "                    - def __init__(self, minio_endpoint: str, minio_endpoint: str, access_key: str, secret_key: str, secure: bool, timeout: int) -> None:\n",
      "                        Initializes an instance of the class with a MinIO client and sets up a default download directory.\n",
      "                        Configures the MinIO client with the provided endpoint, access credentials, and security settings. Also creates a \n",
      "                        local directory for storing downloaded files if it does not already exist.\n",
      "\n",
      "                        :param minio_endpoint: Endpoint for the MinIO server (e.g., 'localhost:9000'). \n",
      "                                                Can also be set to a remote server address.\n",
      "                        :param access_key: Access key for authenticating with the MinIO server.\n",
      "                        :param secret_key: Secret key for authenticating with the MinIO server.\n",
      "                        :param secure: Boolean flag indicating whether to use HTTPS for communication with the MinIO server. Defaults to False.\n",
      "                        :param timeout: Timeout duration in seconds for connection and read operations. Defaults to 5 seconds.\n",
      "\n",
      "                        :raises urllib3.exceptions.TimeoutError: If the connection to MinIO times out.\n",
      "                        :raises urllib3.exceptions.HTTPError: For general HTTP errors during connection.\n",
      "                        :raises S3Error: If an error occurs related to MinIO operations.\n",
      "                        :raises socket.timeout: If a socket operation times out.\n",
      "\n",
      "                        Initializes the `self.minio_client` with the provided settings and verifies the connection by listing the buckets. \n",
      "                        Creates the download directory at `self.download_dir` if it does not exist.\n",
      "              \n",
      "                    - def help() -> None:\n",
      "                        Prints a help message regarding current functionality of MedShapeNet API.\n",
      "                        Returns: None\n",
      "              \n",
      "                    - def datasets(self, print_output: bool = False) -> list:\n",
      "                        Retrieves a list of top-level datasets from the MinIO server. This includes both bucket names and top-level folders \n",
      "                        within the buckets. It excludes nested folders to provide a clear list of primary datasets.\n",
      "                        This method first lists all buckets and then inspects each bucket to find top-level folders. It ensures that nested \n",
      "                        folders are not included in the final dataset list. \n",
      "\n",
      "                        :param print_output: If True, prints the list of datasets with corresponding indices. Defaults to False.\n",
      "                        :return: A list of dataset names, including both bucket names and top-level folder names. Nested folders are excluded.\n",
      "              \n",
      "                    - def dataset_info(self, bucket_name: str) -> None:\n",
      "                        Displays detailed information about a dataset stored in a specified bucket.\n",
      "                        \n",
      "                        This method performs the following actions:\n",
      "                        1. Prints the contents of 'cite.txt' and 'licence.txt' files if they exist in the dataset.\n",
      "                        2. Counts and prints the total number of '.txt', '.json', and '.stl' files in the dataset.\n",
      "\n",
      "                        :param bucket_name: Name of the bucket or a path within a bucket from which to extract dataset information.\n",
      "                        :raises S3Error: If an error occurs while accessing or reading files from the bucket.\n",
      "                    \n",
      "                    - def dataset_files(self, bucket_name: str, file_extension: str = None, print_output: bool = False) -> list:\n",
      "                        Lists all files in a specified bucket and optionally filters by file extension.\n",
      "\n",
      "                        This method performs the following actions:\n",
      "                        1. Lists all files in the specified bucket, optionally filtering by a given file extension.\n",
      "                        2. Counts and prints the total number of '.txt', '.json', and '.stl' files in the bucket.\n",
      "                        3. Prints the file names and summary statistics if requested.\n",
      "\n",
      "                        :param bucket_name: Name of the bucket or dataset to list files from. May include a folder prefix.\n",
      "                        :param file_extension: (Optional) File extension to filter the files by (e.g., '.stl', '.txt', '.json'). If None, all files are listed.\n",
      "                        :param print_output: Whether to print the file names and file type counts to the console.\n",
      "                        :return: A list of file names in the bucket, filtered by the specified file extension if provided.\n",
      "                        :raises S3Error: If an error occurs while listing objects from the bucket.\n",
      "              \n",
      "                    - def download_file(self, bucket_name: str, object_name: str, file_path: Path = None, print_output: bool = True) -> None:\n",
      "                        Downloads a file from a specified bucket in MinIO to a local path.\n",
      "\n",
      "                        This method handles both cases where the bucket name includes a folder path or not:\n",
      "                        - If no file path is provided, it automatically creates a directory structure based on the bucket name and saves the file there.\n",
      "                        - If a folder path is included in the bucket name, it extracts the bucket name and creates a subdirectory for the dataset.\n",
      "\n",
      "                        :param bucket_name: Name of the bucket from which the file is to be downloaded. It may include a folder path.\n",
      "                        :param object_name: Name of the file (object) within the bucket.\n",
      "                        :param file_path: (Optional) Local path where the downloaded file should be saved. If None, the file is saved in a directory created based on the bucket name.\n",
      "                        :param print_output: Whether to print a success message after the file is downloaded.\n",
      "                        :raises S3Error: If an error occurs during the download process.\n",
      "              \n",
      "                    - def download_dataset(self, dataset_name: str, download_dir: Path = None, num_threads: int = 4, print_output: bool = True) -> list:\n",
      "                        Downloads all files from a specified dataset to a local directory, with parallel downloading for increased speed.\n",
      "                        Retries failed downloads once and returns a list of failed downloads after retry attempts.\n",
      "\n",
      "                        :param dataset_name: Name of the dataset, which can be a bucket name or a folder within a bucket.\n",
      "                        :param download_dir: Path to the local directory where files will be saved. If None, a default directory based on \n",
      "                                            the dataset name is created.\n",
      "                        :param num_threads: Number of threads to use for parallel downloading.\n",
      "                        :param print_output: Whether to print progress and error messages during the download process.\n",
      "                        :return: A list of tuples, each containing (bucket_name, file, file_path) for downloads that failed after retrying.\n",
      "              \n",
      "                    - def stl_to_npz(self, stl_file: str, npz_file: str, print_output = True) -> None:\n",
      "                        Converts an STL file to a NumPy .npz file, compressing the data.\n",
      "\n",
      "                        :param stl_file: Path to the input .stl file containing 3D shape data.\n",
      "                        :param npz_file: Path where the converted .npz file will be saved.\n",
      "                        :param print_output: Whether to print a success message upon successful conversion\n",
      "\n",
      "                    - def dataset_stl_to_npz(self, dataset: str, num_threads: int = 4, output_dir: Path = None, print_output: bool = False) -> None:                \n",
      "                        Converts all .stl files in the specified dataset directory to NumPy .npz format and saves them in a designated output directory.\n",
      "                        Additionally, copies any .txt and .json files from the dataset to the output directory.\n",
      "\n",
      "                        :param dataset: Name of the dataset, which can be a bucket or folder name.\n",
      "                        :param num_threads: Number of threads for parallel processing of .stl files.\n",
      "                        :param output_dir: Directory to save the converted .npz files. Defaults to 'masks_numpy' within the dataset directory.\n",
      "                        :param print_output: Whether to print progress messages during the conversion process.\n",
      "\n",
      "                    - def download_stl_as_numpy(self, bucket_name: str, stl_file: str, output_dir: Path, print_output: True) -> None:\n",
      "                        Downloads an STL file from a specified bucket, converts it to a NumPy .npz file, and saves it in the given directory.\n",
      "\n",
      "                        :param bucket_name: Name of the bucket or dataset where the STL file is located.\n",
      "                        :param stl_file: Path to the STL file within the bucket.\n",
      "                        :param output_dir: Directory where the converted .npz file will be saved.\n",
      "                        :param print_output: Whether to print progress messages.\n",
      "              \n",
      "                    - def download_dataset_masks(self, dataset_name: str, download_dir: Path = None, num_threads: int = 4, print_output: bool = True) -> list:\n",
      "                        Downloads files from a dataset, converting STL files to NumPy masks and saving them as .npz files,\n",
      "                        while directly saving non-STL files to the specified directory.\n",
      "\n",
      "                        STL files are processed in memory and converted to NumPy arrays, which are saved as compressed .npz files.\n",
      "                        Non-STL files (e.g., .txt, .json) are copied directly to the download directory.\n",
      "\n",
      "                        :param dataset_name: Name of the dataset, which may include a bucket name and an optional folder path.\n",
      "                        :param download_dir: Directory where the converted and non-STL files should be saved. If None, a default directory\n",
      "                                            within the class's download directory is used.\n",
      "                        :param num_threads: Number of threads for parallel downloading and processing.\n",
      "                        :param print_output: Whether to print progress messages.\n",
      "                        :return: A list of STL files that failed to download or convert, even after retry attempts.\n",
      "              \n",
      "                    - def search_and_download_by_name(self, name: str = None, max_threads: int = 5, save_folder: Path = None, extension: str = '.stl', print_output = True) -> list:\n",
      "                        This is a function that still uses the download links from sciebo and will be eventually replaced.\n",
      "                        Make sure to look up the correct citations/licence per shape based on the paper \"https://arxiv.org/abs/2308.16139\"\n",
      "                        \n",
      "                        Searches for and downloads files based on a name search. STL files will be downloaded in parallel.\n",
      "\n",
      "                        The method searches for files related to the specified name, downloads them, and saves them in the designated folder.\n",
      "                        Failed downloads are retried.\n",
      "\n",
      "                        :param name: The name of the organ or disease to search for.\n",
      "                        :param max_threads: Maximum number of threads to use for downloading files.\n",
      "                        :param save_folder: Path to the folder where the found STL files should be saved. If None, a folder named after the search query with \"_stl\" appended will be created.\n",
      "                        :param extension: File extension to use when saving files (default is '.stl').\n",
      "                        :param print_output: Whether to print progress messages.\n",
      "                        :return: A list of URLs for downloads that failed even after retry attempts.\n",
      "              \n",
      "                HELPER FUNCTIONS WITHIN THE CLASS\n",
      "                - def print_dynamic_line():\n",
      "                    Prints a line of underscores across the terminal width for visual separation between commands.\n",
      "                    This function determines the terminal width and prints a line of underscores to enhance readability between terminal outputs.\n",
      "                    If the terminal width cannot be determined, a default width of 80 characters is used.\n",
      "\n",
      "                - def download_file(minio_client: Minio, bucket_name: str, object_name: str, file_path: Path) -> None:\n",
      "                    Downloads a file from a specified bucket in MinIO.\n",
      "                    :param minio_client: MinIO client object used to interact with the MinIO server.\n",
      "                    :param bucket_name: Name of the bucket containing the file.\n",
      "                    :param object_name: Name of the object (file) in the bucket.\n",
      "                    :param file_path: Path where the downloaded file will be saved.\n",
      "\n",
      "                - def download_file_from_url(url: str, save_folder: str, filename: str = None, extension: str = '.stl', print_output=False) -> None:\n",
      "                    Downloads a file from a URL and saves it to a specified folder.\n",
      "                    :param url: URL of the file to be downloaded.\n",
      "                    :param save_folder: Directory where the downloaded file will be saved.\n",
      "                    :param filename: Optional custom filename for the downloaded file. If None, filename is extracted from the URL.\n",
      "                    :param extension: File extension to be used if filename is not provided. Defaults to '.stl'.\n",
      "                    :param print_output: Whether to print progress messages.\n",
      "                \n",
      "________________________________________________________________________________\n"
     ]
    }
   ],
   "source": [
    "# MedShapeNet.help(): Print the help statement to gain details on all functions\n",
    "\n",
    "# Imports\n",
    "from MedShapeNet import MedShapeNet as msn\n",
    "\n",
    "# help function\n",
    "# I prefer to type the command in python i.e. MedShapeNet.method() and hover above it with the mous, We used Linting/PEP8 to clarify all functions this way\n",
    "msn.help()\n"
   ]
  },
  {
   "cell_type": "code",
   "execution_count": 6,
   "metadata": {},
   "outputs": [
    {
     "name": "stdout",
     "output_type": "stream",
     "text": [
      "_________ URLs:\n",
      "https://uni-duisburg-essen.sciebo.de/s/HeShw1G4da15OOZ/download?path=%2F&files=face_1.stl\n",
      "https://uni-duisburg-essen.sciebo.de/s/HeShw1G4da15OOZ/download?path=%2F&files=face_10.stl\n",
      "https://uni-duisburg-essen.sciebo.de/s/HeShw1G4da15OOZ/download?path=%2F&files=face_11.stl\n",
      "https://uni-duisburg-essen.sciebo.de/s/HeShw1G4da15OOZ/download?path=%2F&files=face_12.stl\n",
      "https://uni-duisburg-essen.sciebo.de/s/HeShw1G4da15OOZ/download?path=%2F&files=face_2.stl\n",
      "https://uni-duisburg-essen.sciebo.de/s/HeShw1G4da15OOZ/download?path=%2F&files=face_3.stl\n",
      "https://uni-duisburg-essen.sciebo.de/s/HeShw1G4da15OOZ/download?path=%2F&files=face_4.stl\n",
      "https://uni-duisburg-essen.sciebo.de/s/HeShw1G4da15OOZ/download?path=%2F&files=face_5.stl\n",
      "https://uni-duisburg-essen.sciebo.de/s/HeShw1G4da15OOZ/download?path=%2F&files=face_6.stl\n",
      "https://uni-duisburg-essen.sciebo.de/s/HeShw1G4da15OOZ/download?path=%2F&files=face_7.stl\n",
      "https://uni-duisburg-essen.sciebo.de/s/HeShw1G4da15OOZ/download?path=%2F&files=face_8.stl\n",
      "https://uni-duisburg-essen.sciebo.de/s/HeShw1G4da15OOZ/download?path=%2F&files=face_9.stl\n",
      "\n",
      "\n",
      "Found 12 entries for \"face\"\n"
     ]
    }
   ],
   "source": [
    "# MedShapeNet.search_by_name(): search the original MedShapeNet (Sciebo storage) by name -> check references manually in the paper: https://arxiv.org/abs/2308.16139\n",
    "\n",
    "# imports\n",
    "from MedShapeNet import MedShapeNet as msn\n",
    "\n",
    "# search by name\n",
    "list_instruments_urls = msn.search_by_name(name='instrument', print_output=False)\n",
    "list_face_urls = msn_instance.search_by_name('face')\n"
   ]
  },
  {
   "cell_type": "code",
   "execution_count": 13,
   "metadata": {},
   "outputs": [
    {
     "name": "stdout",
     "output_type": "stream",
     "text": [
      "Download from url: https://uni-duisburg-essen.sciebo.de/s/HeShw1G4da15OOZ/download?path=%2F&files=001_instrument3DCOSI_BoneForceps.stl\n",
      "Downloaded 001_instrument3DCOSI_BoneForceps.stl, to directory single_downloads_from_url\n"
     ]
    }
   ],
   "source": [
    "# download_file_from_url(): download a single file from the original MedShapeNet (Sciebo storage) -> reference in the paper: https://arxiv.org/abs/2308.16139\n",
    "\n",
    "# imports\n",
    "from MedShapeNet import download_file_from_url\n",
    "\n",
    "# Get a list urls of all instruments\n",
    "list_instruments_urls = msn.search_by_name(name='instrument', print_output=False)\n",
    "\n",
    "# download a single file of choice to a folder (all args / minimal args)\n",
    "download_file_from_url(list_instruments_urls[0], save_folder='single_downloads_from_url', filename=None, extension='.stl', print_output=True)\n",
    "download_file_from_url(list_instruments_urls[-1], save_folder='single_downloads_from_url')\n"
   ]
  },
  {
   "cell_type": "code",
   "execution_count": 3,
   "metadata": {},
   "outputs": [
    {
     "name": "stderr",
     "output_type": "stream",
     "text": [
      "Downloading files: 100%|██████████| 12/12 [00:54<00:00,  4.52s/it]\n"
     ]
    },
    {
     "name": "stdout",
     "output_type": "stream",
     "text": [
      "Starting download of 12 files for search 'face'...\n"
     ]
    },
    {
     "name": "stderr",
     "output_type": "stream",
     "text": [
      "Downloading files: 100%|██████████| 12/12 [00:51<00:00,  4.32s/it]\n"
     ]
    },
    {
     "name": "stdout",
     "output_type": "stream",
     "text": [
      "Download complete! Files are stored in folder: faces\n",
      "0 downloads failed.\n"
     ]
    }
   ],
   "source": [
    "# MedShapeNet.search_and_download_by_name(): search and download the original MedShapeNet (Sciebo storage) by name -> check references manually in the paper: https://arxiv.org/abs/2308.16139\n",
    "\n",
    "#   -> instance of MedShapeNet needed for  self.search_by_name and self.download_dir within the method search_and_download_by_name.\n",
    "failed_downloads_2 = msn_instance.search_and_download_by_name(name='face', max_threads = 5, save_folder=None, extension='.stl', print_output=False)\n",
    "\n",
    "# Download to a folder of your own choice (minimal args needed)\n",
    "folder = 'faces'\n",
    "failed_downloads_1 = msn_instance.search_and_download_by_name(name='face', save_folder=folder)"
   ]
  },
  {
   "cell_type": "code",
   "execution_count": 4,
   "metadata": {},
   "outputs": [
    {
     "name": "stdout",
     "output_type": "stream",
     "text": [
      "________________________________________________________________________________\n",
      "1. asoca1\n",
      "2. asoca2\n",
      "3. liver1234test\n",
      "4. msn1datasets/ASOCA3\n",
      "5. msn1datasets/ASOCA2\n",
      "6. msn1datasets/ASOCA1\n",
      "________________________________________________________________________________\n"
     ]
    }
   ],
   "source": [
    "# MedShapeNet.datasets(): Print a list of datasets (no args are needed)\n",
    "list_of_datasets = msn_instance.datasets(True)\n"
   ]
  },
  {
   "cell_type": "code",
   "execution_count": 5,
   "metadata": {},
   "outputs": [
    {
     "name": "stdout",
     "output_type": "stream",
     "text": [
      "________________________________________________________________________________\n",
      "\n",
      "DATASET: asoca1\n",
      "\n",
      "\n",
      "CITATION INFO:\n",
      "Please cite the challenge manuscript and data descriptor:\n",
      "\n",
      "\n",
      "R. Gharleghi et al., ‘Automated segmentation of normal and diseased coronary arteries – The ASOCA challenge’, Computerized Medical Imaging and Graphics, vol. 97, p. 102049, 2022, doi: https://doi.org/10.1016/j.compmedimag.2022.102049\n",
      "\n",
      "R. Gharleghi et al. \"Annotated computed tomography coronary angiogram images and associated data of normal and diseased arteries.\"Scientific Data 10.1 (2023): 128. doi:  https://doi.org/10.1038/s41597-023-02016-2\n",
      "\n",
      "\n",
      "Bibtex:\n",
      "@article{gharleghi2022automated,\n",
      "\ttitle        = {Automated segmentation of normal and diseased coronary arteries – The ASOCA challenge},\n",
      "\tauthor       = {Ramtin Gharleghi and Dona Adikari and Katy Ellenberger and Sze-Yuan Ooi and Chris Ellis and Chung-Ming Chen and Ruochen Gao and Yuting He and Raabid Hussain and Chia-Yen Lee and Jun Li and Jun Ma and Ziwei Nie and Bruno Oliveira and Yaolei Qi and Youssef Skandarani and João L. Vilaça and Xiyue Wang and Sen Yang and Arcot Sowmya and Susann Beier},\n",
      "\tyear         = 2022,\n",
      "\tjournal      = {Computerized Medical Imaging and Graphics},\n",
      "\tvolume       = 97,\n",
      "\tpages        = 102049,\n",
      "\tdoi          = {https://doi.org/10.1016/j.compmedimag.2022.102049},\n",
      "\tissn         = {0895-6111},\n",
      "\turl          = {https://www.sciencedirect.com/science/article/pii/S0895611122000222},\n",
      "\tkeywords     = {Coronary arteries, Image segmentation, Machine learning}\n",
      "}\n",
      "@article{gharleghi2023annotated,\n",
      "  title={Annotated computed tomography coronary angiogram images and associated data of normal and diseased arteries},\n",
      "  author={Gharleghi, R and Adikari, D and Ellenberger, K and Webster, M and Ellis, C and Sowmya, A and Ooi, S and Beier, S},\n",
      "  journal={Scientific Data},\n",
      "  volume={10},\n",
      "  number={1},\n",
      "  pages={128},\n",
      "  year={2023},\n",
      "  publisher={Nature Publishing Group UK London}\n",
      "}\n",
      "\n",
      "LICENCE INFO:\n",
      "The author of this work allowed this data to be part of the work done for https://arxiv.org/pdf/2308.16139, i.e., MedShapeNet and its API.\n",
      "You can use it within the API for learning and testing purposes.\n",
      "\n",
      "If you plan on using this work for publication or further distribution.\n",
      "Please get in touch with the original owner of the data via the contact form at https://asoca.grand-challenge.org/access/\n",
      "\n",
      "\n",
      "Total .txt files (how to cite, license file):                    2\n",
      "Total .json files (labels, if in dataset as json):               1\n",
      "Total .stl files (shapes):                                      40\n",
      "\n",
      "\n",
      "            THANK YOU FOR USING MedShapeNet  2.0 API\n",
      "            If you used MedShapeNet within your research please CITE:\n",
      "                @article{li2023medshapenet,\n",
      "                title={MedShapeNet--A Large-Scale Dataset of 3D Medical Shapes for Computer Vision},\n",
      "                author={Li, Jianning and Pepe, Antonio and Gsaxner, Christina and Luijten, Gijs and Jin, Yuan and \n",
      "                Ambigapathy, Narmada and Nasca, Enrico and Solak, Naida and Melito, Gian Marco and Memon, Afaque R and others},\n",
      "                journal={arXiv preprint arXiv:2308.16139},\n",
      "                year={2023}}\n",
      "            THANK YOU AGAIN, ALL FEEDBACK IS WELCOME AT https://github.com/GLARKI/MedShapeNet2.0 or email me https://ait.ikim.nrw/authors/gijs-luijten/ !!!\n",
      "            \n",
      "________________________________________________________________________________\n",
      "________________________________________________________________________________\n",
      "\n",
      "DATASET: asoca2\n",
      "\n",
      "\n",
      "CITATION INFO:\n",
      "Please cite the challenge manuscript and data descriptor:\n",
      "\n",
      "\n",
      "R. Gharleghi et al., ‘Automated segmentation of normal and diseased coronary arteries – The ASOCA challenge’, Computerized Medical Imaging and Graphics, vol. 97, p. 102049, 2022, doi: https://doi.org/10.1016/j.compmedimag.2022.102049\n",
      "\n",
      "R. Gharleghi et al. \"Annotated computed tomography coronary angiogram images and associated data of normal and diseased arteries.\"Scientific Data 10.1 (2023): 128. doi:  https://doi.org/10.1038/s41597-023-02016-2\n",
      "\n",
      "\n",
      "Bibtex:\n",
      "@article{gharleghi2022automated,\n",
      "\ttitle        = {Automated segmentation of normal and diseased coronary arteries – The ASOCA challenge},\n",
      "\tauthor       = {Ramtin Gharleghi and Dona Adikari and Katy Ellenberger and Sze-Yuan Ooi and Chris Ellis and Chung-Ming Chen and Ruochen Gao and Yuting He and Raabid Hussain and Chia-Yen Lee and Jun Li and Jun Ma and Ziwei Nie and Bruno Oliveira and Yaolei Qi and Youssef Skandarani and João L. Vilaça and Xiyue Wang and Sen Yang and Arcot Sowmya and Susann Beier},\n",
      "\tyear         = 2022,\n",
      "\tjournal      = {Computerized Medical Imaging and Graphics},\n",
      "\tvolume       = 97,\n",
      "\tpages        = 102049,\n",
      "\tdoi          = {https://doi.org/10.1016/j.compmedimag.2022.102049},\n",
      "\tissn         = {0895-6111},\n",
      "\turl          = {https://www.sciencedirect.com/science/article/pii/S0895611122000222},\n",
      "\tkeywords     = {Coronary arteries, Image segmentation, Machine learning}\n",
      "}\n",
      "@article{gharleghi2023annotated,\n",
      "  title={Annotated computed tomography coronary angiogram images and associated data of normal and diseased arteries},\n",
      "  author={Gharleghi, R and Adikari, D and Ellenberger, K and Webster, M and Ellis, C and Sowmya, A and Ooi, S and Beier, S},\n",
      "  journal={Scientific Data},\n",
      "  volume={10},\n",
      "  number={1},\n",
      "  pages={128},\n",
      "  year={2023},\n",
      "  publisher={Nature Publishing Group UK London}\n",
      "}\n",
      "\n",
      "LICENCE INFO:\n",
      "The author of this work allowed this data to be part of the work done for https://arxiv.org/pdf/2308.16139, i.e., MedShapeNet and its API.\n",
      "You can use it within the API for learning and testing purposes.\n",
      "\n",
      "If you plan on using this work for publication or further distribution.\n",
      "Please get in touch with the original owner of the data via the contact form at https://asoca.grand-challenge.org/access/\n",
      "\n",
      "\n",
      "Total .txt files (how to cite, license file):                    2\n",
      "Total .json files (labels, if in dataset as json):               1\n",
      "Total .stl files (shapes):                                      40\n",
      "\n",
      "\n",
      "            THANK YOU FOR USING MedShapeNet  2.0 API\n",
      "            If you used MedShapeNet within your research please CITE:\n",
      "                @article{li2023medshapenet,\n",
      "                title={MedShapeNet--A Large-Scale Dataset of 3D Medical Shapes for Computer Vision},\n",
      "                author={Li, Jianning and Pepe, Antonio and Gsaxner, Christina and Luijten, Gijs and Jin, Yuan and \n",
      "                Ambigapathy, Narmada and Nasca, Enrico and Solak, Naida and Melito, Gian Marco and Memon, Afaque R and others},\n",
      "                journal={arXiv preprint arXiv:2308.16139},\n",
      "                year={2023}}\n",
      "            THANK YOU AGAIN, ALL FEEDBACK IS WELCOME AT https://github.com/GLARKI/MedShapeNet2.0 or email me https://ait.ikim.nrw/authors/gijs-luijten/ !!!\n",
      "            \n",
      "________________________________________________________________________________\n",
      "________________________________________________________________________________\n",
      "\n",
      "DATASET: liver1234test\n",
      "\n",
      "\n",
      "CITATION INFO:\n",
      "Please cite the challenge manuscript and data descriptor:\n",
      "\n",
      "Test liver test\n",
      "\n",
      "\n",
      "LICENCE INFO:\n",
      "The author of this work allowed this data to be part of the work done for https://arxiv.org/pdf/2308.16139, i.e., MedShapeNet and its API.\n",
      "You can use it within the API for learning and testing purposes.\n",
      "\n",
      "If you plan on using this work for publication or further distribution.\n",
      "Please get in touch with the original owner of the data via the contact form at https://asoca.grand-challenge.org/access/\n",
      "\n",
      "\n",
      "Total .txt files (how to cite, license file):                    2\n",
      "Total .json files (labels, if in dataset as json):               1\n",
      "Total .stl files (shapes):                                       1\n",
      "\n",
      "\n",
      "            THANK YOU FOR USING MedShapeNet  2.0 API\n",
      "            If you used MedShapeNet within your research please CITE:\n",
      "                @article{li2023medshapenet,\n",
      "                title={MedShapeNet--A Large-Scale Dataset of 3D Medical Shapes for Computer Vision},\n",
      "                author={Li, Jianning and Pepe, Antonio and Gsaxner, Christina and Luijten, Gijs and Jin, Yuan and \n",
      "                Ambigapathy, Narmada and Nasca, Enrico and Solak, Naida and Melito, Gian Marco and Memon, Afaque R and others},\n",
      "                journal={arXiv preprint arXiv:2308.16139},\n",
      "                year={2023}}\n",
      "            THANK YOU AGAIN, ALL FEEDBACK IS WELCOME AT https://github.com/GLARKI/MedShapeNet2.0 or email me https://ait.ikim.nrw/authors/gijs-luijten/ !!!\n",
      "            \n",
      "________________________________________________________________________________\n",
      "________________________________________________________________________________\n",
      "\n",
      "DATASET: msn1datasets/ASOCA3\n",
      "\n",
      "\n",
      "CITATION INFO:\n",
      "Please cite the challenge manuscript and data descriptor:\n",
      "\n",
      "\n",
      "R. Gharleghi et al., ‘Automated segmentation of normal and diseased coronary arteries – The ASOCA challenge’, Computerized Medical Imaging and Graphics, vol. 97, p. 102049, 2022, doi: https://doi.org/10.1016/j.compmedimag.2022.102049\n",
      "\n",
      "R. Gharleghi et al. \"Annotated computed tomography coronary angiogram images and associated data of normal and diseased arteries.\"Scientific Data 10.1 (2023): 128. doi:  https://doi.org/10.1038/s41597-023-02016-2\n",
      "\n",
      "\n",
      "Bibtex:\n",
      "@article{gharleghi2022automated,\n",
      "\ttitle        = {Automated segmentation of normal and diseased coronary arteries – The ASOCA challenge},\n",
      "\tauthor       = {Ramtin Gharleghi and Dona Adikari and Katy Ellenberger and Sze-Yuan Ooi and Chris Ellis and Chung-Ming Chen and Ruochen Gao and Yuting He and Raabid Hussain and Chia-Yen Lee and Jun Li and Jun Ma and Ziwei Nie and Bruno Oliveira and Yaolei Qi and Youssef Skandarani and João L. Vilaça and Xiyue Wang and Sen Yang and Arcot Sowmya and Susann Beier},\n",
      "\tyear         = 2022,\n",
      "\tjournal      = {Computerized Medical Imaging and Graphics},\n",
      "\tvolume       = 97,\n",
      "\tpages        = 102049,\n",
      "\tdoi          = {https://doi.org/10.1016/j.compmedimag.2022.102049},\n",
      "\tissn         = {0895-6111},\n",
      "\turl          = {https://www.sciencedirect.com/science/article/pii/S0895611122000222},\n",
      "\tkeywords     = {Coronary arteries, Image segmentation, Machine learning}\n",
      "}\n",
      "@article{gharleghi2023annotated,\n",
      "  title={Annotated computed tomography coronary angiogram images and associated data of normal and diseased arteries},\n",
      "  author={Gharleghi, R and Adikari, D and Ellenberger, K and Webster, M and Ellis, C and Sowmya, A and Ooi, S and Beier, S},\n",
      "  journal={Scientific Data},\n",
      "  volume={10},\n",
      "  number={1},\n",
      "  pages={128},\n",
      "  year={2023},\n",
      "  publisher={Nature Publishing Group UK London}\n",
      "}\n",
      "\n",
      "LICENCE INFO:\n",
      "The author of this work allowed this data to be part of the work done for https://arxiv.org/pdf/2308.16139, i.e., MedShapeNet and its API.\n",
      "You can use it within the API for learning and testing purposes.\n",
      "\n",
      "If you plan on using this work for publication or further distribution.\n",
      "Please get in touch with the original owner of the data via the contact form at https://asoca.grand-challenge.org/access/\n",
      "\n",
      "\n",
      "Total .txt files (how to cite, license file):                    2\n",
      "Total .json files (labels, if in dataset as json):               1\n",
      "Total .stl files (shapes):                                      40\n",
      "\n",
      "\n",
      "            THANK YOU FOR USING MedShapeNet  2.0 API\n",
      "            If you used MedShapeNet within your research please CITE:\n",
      "                @article{li2023medshapenet,\n",
      "                title={MedShapeNet--A Large-Scale Dataset of 3D Medical Shapes for Computer Vision},\n",
      "                author={Li, Jianning and Pepe, Antonio and Gsaxner, Christina and Luijten, Gijs and Jin, Yuan and \n",
      "                Ambigapathy, Narmada and Nasca, Enrico and Solak, Naida and Melito, Gian Marco and Memon, Afaque R and others},\n",
      "                journal={arXiv preprint arXiv:2308.16139},\n",
      "                year={2023}}\n",
      "            THANK YOU AGAIN, ALL FEEDBACK IS WELCOME AT https://github.com/GLARKI/MedShapeNet2.0 or email me https://ait.ikim.nrw/authors/gijs-luijten/ !!!\n",
      "            \n",
      "________________________________________________________________________________\n",
      "________________________________________________________________________________\n",
      "\n",
      "DATASET: msn1datasets/ASOCA2\n",
      "\n",
      "\n",
      "CITATION INFO:\n",
      "Please cite the challenge manuscript and data descriptor:\n",
      "\n",
      "\n",
      "R. Gharleghi et al., ‘Automated segmentation of normal and diseased coronary arteries – The ASOCA challenge’, Computerized Medical Imaging and Graphics, vol. 97, p. 102049, 2022, doi: https://doi.org/10.1016/j.compmedimag.2022.102049\n",
      "\n",
      "R. Gharleghi et al. \"Annotated computed tomography coronary angiogram images and associated data of normal and diseased arteries.\"Scientific Data 10.1 (2023): 128. doi:  https://doi.org/10.1038/s41597-023-02016-2\n",
      "\n",
      "\n",
      "Bibtex:\n",
      "@article{gharleghi2022automated,\n",
      "\ttitle        = {Automated segmentation of normal and diseased coronary arteries – The ASOCA challenge},\n",
      "\tauthor       = {Ramtin Gharleghi and Dona Adikari and Katy Ellenberger and Sze-Yuan Ooi and Chris Ellis and Chung-Ming Chen and Ruochen Gao and Yuting He and Raabid Hussain and Chia-Yen Lee and Jun Li and Jun Ma and Ziwei Nie and Bruno Oliveira and Yaolei Qi and Youssef Skandarani and João L. Vilaça and Xiyue Wang and Sen Yang and Arcot Sowmya and Susann Beier},\n",
      "\tyear         = 2022,\n",
      "\tjournal      = {Computerized Medical Imaging and Graphics},\n",
      "\tvolume       = 97,\n",
      "\tpages        = 102049,\n",
      "\tdoi          = {https://doi.org/10.1016/j.compmedimag.2022.102049},\n",
      "\tissn         = {0895-6111},\n",
      "\turl          = {https://www.sciencedirect.com/science/article/pii/S0895611122000222},\n",
      "\tkeywords     = {Coronary arteries, Image segmentation, Machine learning}\n",
      "}\n",
      "@article{gharleghi2023annotated,\n",
      "  title={Annotated computed tomography coronary angiogram images and associated data of normal and diseased arteries},\n",
      "  author={Gharleghi, R and Adikari, D and Ellenberger, K and Webster, M and Ellis, C and Sowmya, A and Ooi, S and Beier, S},\n",
      "  journal={Scientific Data},\n",
      "  volume={10},\n",
      "  number={1},\n",
      "  pages={128},\n",
      "  year={2023},\n",
      "  publisher={Nature Publishing Group UK London}\n",
      "}\n",
      "\n",
      "LICENCE INFO:\n",
      "The author of this work allowed this data to be part of the work done for https://arxiv.org/pdf/2308.16139, i.e., MedShapeNet and its API.\n",
      "You can use it within the API for learning and testing purposes.\n",
      "\n",
      "If you plan on using this work for publication or further distribution.\n",
      "Please get in touch with the original owner of the data via the contact form at https://asoca.grand-challenge.org/access/\n",
      "\n",
      "\n",
      "Total .txt files (how to cite, license file):                    2\n",
      "Total .json files (labels, if in dataset as json):               1\n",
      "Total .stl files (shapes):                                      40\n",
      "\n",
      "\n",
      "            THANK YOU FOR USING MedShapeNet  2.0 API\n",
      "            If you used MedShapeNet within your research please CITE:\n",
      "                @article{li2023medshapenet,\n",
      "                title={MedShapeNet--A Large-Scale Dataset of 3D Medical Shapes for Computer Vision},\n",
      "                author={Li, Jianning and Pepe, Antonio and Gsaxner, Christina and Luijten, Gijs and Jin, Yuan and \n",
      "                Ambigapathy, Narmada and Nasca, Enrico and Solak, Naida and Melito, Gian Marco and Memon, Afaque R and others},\n",
      "                journal={arXiv preprint arXiv:2308.16139},\n",
      "                year={2023}}\n",
      "            THANK YOU AGAIN, ALL FEEDBACK IS WELCOME AT https://github.com/GLARKI/MedShapeNet2.0 or email me https://ait.ikim.nrw/authors/gijs-luijten/ !!!\n",
      "            \n",
      "________________________________________________________________________________\n",
      "________________________________________________________________________________\n",
      "\n",
      "DATASET: msn1datasets/ASOCA1\n",
      "\n",
      "\n",
      "CITATION INFO:\n",
      "Please cite the challenge manuscript and data descriptor:\n",
      "\n",
      "\n",
      "R. Gharleghi et al., ‘Automated segmentation of normal and diseased coronary arteries – The ASOCA challenge’, Computerized Medical Imaging and Graphics, vol. 97, p. 102049, 2022, doi: https://doi.org/10.1016/j.compmedimag.2022.102049\n",
      "\n",
      "R. Gharleghi et al. \"Annotated computed tomography coronary angiogram images and associated data of normal and diseased arteries.\"Scientific Data 10.1 (2023): 128. doi:  https://doi.org/10.1038/s41597-023-02016-2\n",
      "\n",
      "\n",
      "Bibtex:\n",
      "@article{gharleghi2022automated,\n",
      "\ttitle        = {Automated segmentation of normal and diseased coronary arteries – The ASOCA challenge},\n",
      "\tauthor       = {Ramtin Gharleghi and Dona Adikari and Katy Ellenberger and Sze-Yuan Ooi and Chris Ellis and Chung-Ming Chen and Ruochen Gao and Yuting He and Raabid Hussain and Chia-Yen Lee and Jun Li and Jun Ma and Ziwei Nie and Bruno Oliveira and Yaolei Qi and Youssef Skandarani and João L. Vilaça and Xiyue Wang and Sen Yang and Arcot Sowmya and Susann Beier},\n",
      "\tyear         = 2022,\n",
      "\tjournal      = {Computerized Medical Imaging and Graphics},\n",
      "\tvolume       = 97,\n",
      "\tpages        = 102049,\n",
      "\tdoi          = {https://doi.org/10.1016/j.compmedimag.2022.102049},\n",
      "\tissn         = {0895-6111},\n",
      "\turl          = {https://www.sciencedirect.com/science/article/pii/S0895611122000222},\n",
      "\tkeywords     = {Coronary arteries, Image segmentation, Machine learning}\n",
      "}\n",
      "@article{gharleghi2023annotated,\n",
      "  title={Annotated computed tomography coronary angiogram images and associated data of normal and diseased arteries},\n",
      "  author={Gharleghi, R and Adikari, D and Ellenberger, K and Webster, M and Ellis, C and Sowmya, A and Ooi, S and Beier, S},\n",
      "  journal={Scientific Data},\n",
      "  volume={10},\n",
      "  number={1},\n",
      "  pages={128},\n",
      "  year={2023},\n",
      "  publisher={Nature Publishing Group UK London}\n",
      "}\n",
      "\n",
      "LICENCE INFO:\n",
      "The author of this work allowed this data to be part of the work done for https://arxiv.org/pdf/2308.16139, i.e., MedShapeNet and its API.\n",
      "You can use it within the API for learning and testing purposes.\n",
      "\n",
      "If you plan on using this work for publication or further distribution.\n",
      "Please get in touch with the original owner of the data via the contact form at https://asoca.grand-challenge.org/access/\n",
      "\n",
      "\n",
      "Total .txt files (how to cite, license file):                    2\n",
      "Total .json files (labels, if in dataset as json):               1\n",
      "Total .stl files (shapes):                                      40\n",
      "\n",
      "\n",
      "            THANK YOU FOR USING MedShapeNet  2.0 API\n",
      "            If you used MedShapeNet within your research please CITE:\n",
      "                @article{li2023medshapenet,\n",
      "                title={MedShapeNet--A Large-Scale Dataset of 3D Medical Shapes for Computer Vision},\n",
      "                author={Li, Jianning and Pepe, Antonio and Gsaxner, Christina and Luijten, Gijs and Jin, Yuan and \n",
      "                Ambigapathy, Narmada and Nasca, Enrico and Solak, Naida and Melito, Gian Marco and Memon, Afaque R and others},\n",
      "                journal={arXiv preprint arXiv:2308.16139},\n",
      "                year={2023}}\n",
      "            THANK YOU AGAIN, ALL FEEDBACK IS WELCOME AT https://github.com/GLARKI/MedShapeNet2.0 or email me https://ait.ikim.nrw/authors/gijs-luijten/ !!!\n",
      "            \n",
      "________________________________________________________________________________\n"
     ]
    }
   ],
   "source": [
    "# MedShapeNet.datset_info(): Print info (licence, citation, number/type of files) of the dataset\n",
    "for dataset in list_of_datasets:\n",
    "    msn_instance.dataset_info(dataset)\n"
   ]
  },
  {
   "cell_type": "code",
   "execution_count": 6,
   "metadata": {},
   "outputs": [
    {
     "name": "stdout",
     "output_type": "stream",
     "text": [
      "________________________________________________________________________________\n",
      "Files and overview of dataset: asoca2\n",
      " \n",
      "File: asoca_cite.txt\n",
      "File: asoca_licence.txt\n",
      "\n",
      "\n",
      "Total .txt files (how to cite, license file):          2\n",
      "Total .json files (labels, if in dataset as json):     1\n",
      "Total .stl files (shapes):                            40\n",
      "________________________________________________________________________________\n"
     ]
    }
   ],
   "source": [
    "# MedShapeNet_dataset_files(): Get a list of files per dataset: all files, or based on file type\n",
    "\n",
    "# Get a name of a dataset\n",
    "dataset = list_of_datasets[1]\n",
    "\n",
    "# Get a list of file names based on their file extension, or all files\n",
    "list_of_stl_files   = msn_instance.dataset_files(bucket_name=dataset, file_extension='.stl', print_output=False)\n",
    "list_of_txt_files   = msn_instance.dataset_files(dataset, '.txt', True)\n",
    "list_of_json_files  = msn_instance.dataset_files(dataset, '.json')\n",
    "list_of_files       = msn_instance.dataset_files(dataset)\n",
    "\n",
    "\n",
    "# print(f'\\nNumber of .txt files: {len(list_of_txt_files)}.\\nNumber of .json (label) files: {len(list_of_json_files)}.\\nNumber of STL files: {len(list_of_stl_files)}.\\nTotal number of files: {len(list_of_files)}\\n')\n",
    "\n",
    "# print(list_of_files)\n"
   ]
  },
  {
   "cell_type": "code",
   "execution_count": 7,
   "metadata": {},
   "outputs": [
    {
     "name": "stdout",
     "output_type": "stream",
     "text": [
      "'ASOCA1/CoronaryArtery_1.stl', from dataset 'msn1datasets/ASOCA1', successfully downloaded to 'msn_downloads\\ASOCA1\\CoronaryArtery_1.stl'\n"
     ]
    }
   ],
   "source": [
    "# MedShapeNet.download_file(): Download a specific file\n",
    "\n",
    "# get a name of a dataset in the list of datasets\n",
    "dataset = msn_instance.datasets()[-1]\n",
    "\n",
    "# get an stl file name\n",
    "stl_file = msn_instance.dataset_files(dataset, '.stl')[1]\n",
    "\n",
    "# download the file from the S3 storage (minimal input / all input)\n",
    "msn_instance.download_file(dataset, stl_file)\n",
    "\n",
    "# Note: file_path must be a directory\n",
    "msn_instance.download_file(msn_instance.datasets()[-1], msn_instance.dataset_files(dataset, '.stl')[-1], file_path=None, print_output=False)\n"
   ]
  },
  {
   "cell_type": "code",
   "execution_count": 8,
   "metadata": {},
   "outputs": [
    {
     "name": "stderr",
     "output_type": "stream",
     "text": [
      "Downloading files: 100%|██████████| 43/43 [00:01<00:00, 42.06it/s]\n"
     ]
    },
    {
     "name": "stdout",
     "output_type": "stream",
     "text": [
      "________________________________________________________________________________\n",
      "\n",
      "DATASET: msn1datasets/ASOCA1\n",
      "\n",
      "\n",
      "CITATION INFO:\n",
      "Please cite the challenge manuscript and data descriptor:\n",
      "\n",
      "\n",
      "R. Gharleghi et al., ‘Automated segmentation of normal and diseased coronary arteries – The ASOCA challenge’, Computerized Medical Imaging and Graphics, vol. 97, p. 102049, 2022, doi: https://doi.org/10.1016/j.compmedimag.2022.102049\n",
      "\n",
      "R. Gharleghi et al. \"Annotated computed tomography coronary angiogram images and associated data of normal and diseased arteries.\"Scientific Data 10.1 (2023): 128. doi:  https://doi.org/10.1038/s41597-023-02016-2\n",
      "\n",
      "\n",
      "Bibtex:\n",
      "@article{gharleghi2022automated,\n",
      "\ttitle        = {Automated segmentation of normal and diseased coronary arteries – The ASOCA challenge},\n",
      "\tauthor       = {Ramtin Gharleghi and Dona Adikari and Katy Ellenberger and Sze-Yuan Ooi and Chris Ellis and Chung-Ming Chen and Ruochen Gao and Yuting He and Raabid Hussain and Chia-Yen Lee and Jun Li and Jun Ma and Ziwei Nie and Bruno Oliveira and Yaolei Qi and Youssef Skandarani and João L. Vilaça and Xiyue Wang and Sen Yang and Arcot Sowmya and Susann Beier},\n",
      "\tyear         = 2022,\n",
      "\tjournal      = {Computerized Medical Imaging and Graphics},\n",
      "\tvolume       = 97,\n",
      "\tpages        = 102049,\n",
      "\tdoi          = {https://doi.org/10.1016/j.compmedimag.2022.102049},\n",
      "\tissn         = {0895-6111},\n",
      "\turl          = {https://www.sciencedirect.com/science/article/pii/S0895611122000222},\n",
      "\tkeywords     = {Coronary arteries, Image segmentation, Machine learning}\n",
      "}\n",
      "@article{gharleghi2023annotated,\n",
      "  title={Annotated computed tomography coronary angiogram images and associated data of normal and diseased arteries},\n",
      "  author={Gharleghi, R and Adikari, D and Ellenberger, K and Webster, M and Ellis, C and Sowmya, A and Ooi, S and Beier, S},\n",
      "  journal={Scientific Data},\n",
      "  volume={10},\n",
      "  number={1},\n",
      "  pages={128},\n",
      "  year={2023},\n",
      "  publisher={Nature Publishing Group UK London}\n",
      "}\n",
      "\n",
      "LICENCE INFO:\n",
      "The author of this work allowed this data to be part of the work done for https://arxiv.org/pdf/2308.16139, i.e., MedShapeNet and its API.\n",
      "You can use it within the API for learning and testing purposes.\n",
      "\n",
      "If you plan on using this work for publication or further distribution.\n",
      "Please get in touch with the original owner of the data via the contact form at https://asoca.grand-challenge.org/access/\n",
      "\n",
      "\n",
      "Total .txt files (how to cite, license file):                    2\n",
      "Total .json files (labels, if in dataset as json):               1\n",
      "Total .stl files (shapes):                                      40\n",
      "\n",
      "\n",
      "            THANK YOU FOR USING MedShapeNet  2.0 API\n",
      "            If you used MedShapeNet within your research please CITE:\n",
      "                @article{li2023medshapenet,\n",
      "                title={MedShapeNet--A Large-Scale Dataset of 3D Medical Shapes for Computer Vision},\n",
      "                author={Li, Jianning and Pepe, Antonio and Gsaxner, Christina and Luijten, Gijs and Jin, Yuan and \n",
      "                Ambigapathy, Narmada and Nasca, Enrico and Solak, Naida and Melito, Gian Marco and Memon, Afaque R and others},\n",
      "                journal={arXiv preprint arXiv:2308.16139},\n",
      "                year={2023}}\n",
      "            THANK YOU AGAIN, ALL FEEDBACK IS WELCOME AT https://github.com/GLARKI/MedShapeNet2.0 or email me https://ait.ikim.nrw/authors/gijs-luijten/ !!!\n",
      "            \n",
      "________________________________________________________________________________\n"
     ]
    },
    {
     "name": "stderr",
     "output_type": "stream",
     "text": [
      "Downloading files: 100%|██████████| 43/43 [00:01<00:00, 37.09it/s]\n"
     ]
    },
    {
     "name": "stdout",
     "output_type": "stream",
     "text": [
      "________________________________________________________________________________\n",
      "\n",
      "DATASET: asoca2\n",
      "\n",
      "\n",
      "CITATION INFO:\n",
      "Please cite the challenge manuscript and data descriptor:\n",
      "\n",
      "\n",
      "R. Gharleghi et al., ‘Automated segmentation of normal and diseased coronary arteries – The ASOCA challenge’, Computerized Medical Imaging and Graphics, vol. 97, p. 102049, 2022, doi: https://doi.org/10.1016/j.compmedimag.2022.102049\n",
      "\n",
      "R. Gharleghi et al. \"Annotated computed tomography coronary angiogram images and associated data of normal and diseased arteries.\"Scientific Data 10.1 (2023): 128. doi:  https://doi.org/10.1038/s41597-023-02016-2\n",
      "\n",
      "\n",
      "Bibtex:\n",
      "@article{gharleghi2022automated,\n",
      "\ttitle        = {Automated segmentation of normal and diseased coronary arteries – The ASOCA challenge},\n",
      "\tauthor       = {Ramtin Gharleghi and Dona Adikari and Katy Ellenberger and Sze-Yuan Ooi and Chris Ellis and Chung-Ming Chen and Ruochen Gao and Yuting He and Raabid Hussain and Chia-Yen Lee and Jun Li and Jun Ma and Ziwei Nie and Bruno Oliveira and Yaolei Qi and Youssef Skandarani and João L. Vilaça and Xiyue Wang and Sen Yang and Arcot Sowmya and Susann Beier},\n",
      "\tyear         = 2022,\n",
      "\tjournal      = {Computerized Medical Imaging and Graphics},\n",
      "\tvolume       = 97,\n",
      "\tpages        = 102049,\n",
      "\tdoi          = {https://doi.org/10.1016/j.compmedimag.2022.102049},\n",
      "\tissn         = {0895-6111},\n",
      "\turl          = {https://www.sciencedirect.com/science/article/pii/S0895611122000222},\n",
      "\tkeywords     = {Coronary arteries, Image segmentation, Machine learning}\n",
      "}\n",
      "@article{gharleghi2023annotated,\n",
      "  title={Annotated computed tomography coronary angiogram images and associated data of normal and diseased arteries},\n",
      "  author={Gharleghi, R and Adikari, D and Ellenberger, K and Webster, M and Ellis, C and Sowmya, A and Ooi, S and Beier, S},\n",
      "  journal={Scientific Data},\n",
      "  volume={10},\n",
      "  number={1},\n",
      "  pages={128},\n",
      "  year={2023},\n",
      "  publisher={Nature Publishing Group UK London}\n",
      "}\n",
      "\n",
      "LICENCE INFO:\n",
      "The author of this work allowed this data to be part of the work done for https://arxiv.org/pdf/2308.16139, i.e., MedShapeNet and its API.\n",
      "You can use it within the API for learning and testing purposes.\n",
      "\n",
      "If you plan on using this work for publication or further distribution.\n",
      "Please get in touch with the original owner of the data via the contact form at https://asoca.grand-challenge.org/access/\n",
      "\n",
      "\n",
      "Total .txt files (how to cite, license file):                    2\n",
      "Total .json files (labels, if in dataset as json):               1\n",
      "Total .stl files (shapes):                                      40\n",
      "\n",
      "\n",
      "            THANK YOU FOR USING MedShapeNet  2.0 API\n",
      "            If you used MedShapeNet within your research please CITE:\n",
      "                @article{li2023medshapenet,\n",
      "                title={MedShapeNet--A Large-Scale Dataset of 3D Medical Shapes for Computer Vision},\n",
      "                author={Li, Jianning and Pepe, Antonio and Gsaxner, Christina and Luijten, Gijs and Jin, Yuan and \n",
      "                Ambigapathy, Narmada and Nasca, Enrico and Solak, Naida and Melito, Gian Marco and Memon, Afaque R and others},\n",
      "                journal={arXiv preprint arXiv:2308.16139},\n",
      "                year={2023}}\n",
      "            THANK YOU AGAIN, ALL FEEDBACK IS WELCOME AT https://github.com/GLARKI/MedShapeNet2.0 or email me https://ait.ikim.nrw/authors/gijs-luijten/ !!!\n",
      "            \n",
      "________________________________________________________________________________\n",
      "\n",
      "Dataset asoca2 is downloaded with 0 failures\n"
     ]
    }
   ],
   "source": [
    "# MedShapeNet.download_dataset(): Download an entire dataset\n",
    "\n",
    "# Note that we always print licence and citation info, the print_output also returns the number of failed downloads\n",
    "msn_instance.download_dataset(dataset_name = dataset, download_dir = None, num_threads=4, print_output= False)\n",
    "list_of_failed_downloads = msn_instance.download_dataset(msn_instance.datasets()[1])\n"
   ]
  },
  {
   "cell_type": "code",
   "execution_count": 14,
   "metadata": {},
   "outputs": [
    {
     "name": "stdout",
     "output_type": "stream",
     "text": [
      "Successfully converted msn_downloads\\ASOCA1\\CoronaryArtery_9.stl to msn_downloads\\ASOCA1\\CoronaryArtery_9.npz\n"
     ]
    }
   ],
   "source": [
    "# MedShapeNet.stl_to_npz(): Convert an already downloaded STL file to a numpy mask\n",
    "\n",
    "\n",
    "# get file names\n",
    "stl_file_1 = msn_instance.dataset_files(dataset, '.stl')[1]\n",
    "stl_file_2 = msn_instance.dataset_files(dataset, '.stl')[-1]\n",
    "\n",
    "# download files, to be sure we can later convert them to npz\n",
    "msn_instance.download_file(dataset, stl_file_1, print_output=False)\n",
    "msn_instance.download_file(dataset, stl_file_2, print_output=False)\n",
    "\n",
    "# create the paths to the stl files to be converted, and where to store the converted npz files\n",
    "stl_1_path = msn_instance.download_dir  / dataset.split('/')[-1] / stl_file_1.split('/')[-1]\n",
    "stl_2_path = msn_instance.download_dir  / dataset.split('/')[-1] / stl_file_2.split('/')[-1]\n",
    "\n",
    "# # convert stl to npz long version and short version\n",
    "msn_instance.stl_to_npz(stl_file=stl_1_path, npz_file=stl_1_path.with_suffix('.npz'), print_output=False)\n",
    "msn_instance.stl_to_npz(stl_2_path, stl_2_path.with_suffix('.npz'))\n"
   ]
  },
  {
   "cell_type": "code",
   "execution_count": 15,
   "metadata": {},
   "outputs": [
    {
     "name": "stderr",
     "output_type": "stream",
     "text": [
      "Downloading files: 100%|██████████| 43/43 [00:00<00:00, 47.07it/s]\n"
     ]
    },
    {
     "name": "stdout",
     "output_type": "stream",
     "text": [
      "________________________________________________________________________________\n",
      "\n",
      "DATASET: msn1datasets/ASOCA1\n",
      "\n",
      "\n",
      "CITATION INFO:\n",
      "Please cite the challenge manuscript and data descriptor:\n",
      "\n",
      "\n",
      "R. Gharleghi et al., ‘Automated segmentation of normal and diseased coronary arteries – The ASOCA challenge’, Computerized Medical Imaging and Graphics, vol. 97, p. 102049, 2022, doi: https://doi.org/10.1016/j.compmedimag.2022.102049\n",
      "\n",
      "R. Gharleghi et al. \"Annotated computed tomography coronary angiogram images and associated data of normal and diseased arteries.\"Scientific Data 10.1 (2023): 128. doi:  https://doi.org/10.1038/s41597-023-02016-2\n",
      "\n",
      "\n",
      "Bibtex:\n",
      "@article{gharleghi2022automated,\n",
      "\ttitle        = {Automated segmentation of normal and diseased coronary arteries – The ASOCA challenge},\n",
      "\tauthor       = {Ramtin Gharleghi and Dona Adikari and Katy Ellenberger and Sze-Yuan Ooi and Chris Ellis and Chung-Ming Chen and Ruochen Gao and Yuting He and Raabid Hussain and Chia-Yen Lee and Jun Li and Jun Ma and Ziwei Nie and Bruno Oliveira and Yaolei Qi and Youssef Skandarani and João L. Vilaça and Xiyue Wang and Sen Yang and Arcot Sowmya and Susann Beier},\n",
      "\tyear         = 2022,\n",
      "\tjournal      = {Computerized Medical Imaging and Graphics},\n",
      "\tvolume       = 97,\n",
      "\tpages        = 102049,\n",
      "\tdoi          = {https://doi.org/10.1016/j.compmedimag.2022.102049},\n",
      "\tissn         = {0895-6111},\n",
      "\turl          = {https://www.sciencedirect.com/science/article/pii/S0895611122000222},\n",
      "\tkeywords     = {Coronary arteries, Image segmentation, Machine learning}\n",
      "}\n",
      "@article{gharleghi2023annotated,\n",
      "  title={Annotated computed tomography coronary angiogram images and associated data of normal and diseased arteries},\n",
      "  author={Gharleghi, R and Adikari, D and Ellenberger, K and Webster, M and Ellis, C and Sowmya, A and Ooi, S and Beier, S},\n",
      "  journal={Scientific Data},\n",
      "  volume={10},\n",
      "  number={1},\n",
      "  pages={128},\n",
      "  year={2023},\n",
      "  publisher={Nature Publishing Group UK London}\n",
      "}\n",
      "\n",
      "LICENCE INFO:\n",
      "The author of this work allowed this data to be part of the work done for https://arxiv.org/pdf/2308.16139, i.e., MedShapeNet and its API.\n",
      "You can use it within the API for learning and testing purposes.\n",
      "\n",
      "If you plan on using this work for publication or further distribution.\n",
      "Please get in touch with the original owner of the data via the contact form at https://asoca.grand-challenge.org/access/\n",
      "\n",
      "\n",
      "Total .txt files (how to cite, license file):                    2\n",
      "Total .json files (labels, if in dataset as json):               1\n",
      "Total .stl files (shapes):                                      40\n",
      "\n",
      "\n",
      "            THANK YOU FOR USING MedShapeNet  2.0 API\n",
      "            If you used MedShapeNet within your research please CITE:\n",
      "                @article{li2023medshapenet,\n",
      "                title={MedShapeNet--A Large-Scale Dataset of 3D Medical Shapes for Computer Vision},\n",
      "                author={Li, Jianning and Pepe, Antonio and Gsaxner, Christina and Luijten, Gijs and Jin, Yuan and \n",
      "                Ambigapathy, Narmada and Nasca, Enrico and Solak, Naida and Melito, Gian Marco and Memon, Afaque R and others},\n",
      "                journal={arXiv preprint arXiv:2308.16139},\n",
      "                year={2023}}\n",
      "            THANK YOU AGAIN, ALL FEEDBACK IS WELCOME AT https://github.com/GLARKI/MedShapeNet2.0 or email me https://ait.ikim.nrw/authors/gijs-luijten/ !!!\n",
      "            \n",
      "________________________________________________________________________________\n"
     ]
    },
    {
     "name": "stderr",
     "output_type": "stream",
     "text": [
      "Converting STL to NPZ: 100%|██████████| 40/40 [00:02<00:00, 19.59file/s]\n"
     ]
    },
    {
     "name": "stdout",
     "output_type": "stream",
     "text": [
      "Converted STLs from msn1datasets/ASOCA1 to Numpy Mask and saved to folder msn_downloads\\ASOCA1\\masks_numpy.\n",
      " Also coppied the licence and labels to this folder.\n"
     ]
    }
   ],
   "source": [
    "# MedShapeNet.dataset_stl_to_npz(): convert an already downloaded dataset to numpy masks\n",
    "\n",
    "# download a dataset to guarantee we can later convert them to npz\n",
    "msn_instance.download_dataset(dataset_name = dataset, download_dir = None, num_threads=4, print_output= False)\n",
    "\n",
    "# Convert downloaded dataset to npz masks\n",
    "msn_instance.dataset_stl_to_npz(dataset, num_threads = 4, output_dir = None, print_output = True)\n"
   ]
  },
  {
   "cell_type": "code",
   "execution_count": 16,
   "metadata": {},
   "outputs": [
    {
     "name": "stdout",
     "output_type": "stream",
     "text": [
      "Downloaded and converted STL: ASOCA1/CoronaryArtery_1.stl -> to numpy, from dataset: ASOCA1 and stored in: msn_downloads\\ASOCA1\\masks_numpy\\CoronaryArtery_1.npz\n",
      "Downloaded and converted STL: ASOCA1/CoronaryArtery_1.stl -> to numpy, from dataset: ASOCA1 and stored in: msn_downloads\\ASOCA1\\masks_numpy\\CoronaryArtery_1.npz\n",
      "Downloaded and converted STL: ASOCA1/CoronaryArtery_1.stl -> to numpy, from dataset: ASOCA1 and stored in: single_masks\\CoronaryArtery_1.npz\n"
     ]
    }
   ],
   "source": [
    "# MedShapeNet.download_stl_as_numpy(): download a shape from the database directly as a numpy mask\n",
    "\n",
    "# get a file name of an stl file [1] in a dataset [-1]\n",
    "dataset = msn_instance.datasets()[-1]\n",
    "stl_file_1 = msn_instance.dataset_files(dataset, '.stl')[1]\n",
    "\n",
    "#  download the file from the S3 storage as numpy mask (all / minimal args)\n",
    "msn_instance.download_stl_as_numpy(bucket_name = dataset, stl_file = stl_file_1, output_dir = None, print_output=True)\n",
    "msn_instance.download_stl_as_numpy(dataset, stl_file)\n",
    "\n",
    "# download the file from the S3 storage as a numpy mask to a directory of choice.\n",
    "msn_instance.download_stl_as_numpy(dataset, stl_file, 'single_masks')\n",
    "\n"
   ]
  },
  {
   "cell_type": "code",
   "execution_count": 17,
   "metadata": {},
   "outputs": [
    {
     "name": "stderr",
     "output_type": "stream",
     "text": [
      "Downloading and processing files: 100%|██████████| 43/43 [00:02<00:00, 15.89file/s]\n"
     ]
    },
    {
     "name": "stdout",
     "output_type": "stream",
     "text": [
      "Dataset msn1datasets/ASOCA1 STL files converted to NumPy masks with 0 failures.\n",
      "Other files (licence, citation and labels) and all STL files are stored in msn_downloads\\ASOCA1\\masks_numpy.\n",
      "________________________________________________________________________________\n",
      "\n",
      "DATASET: msn1datasets/ASOCA1\n",
      "\n",
      "\n",
      "CITATION INFO:\n",
      "Please cite the challenge manuscript and data descriptor:\n",
      "\n",
      "\n",
      "R. Gharleghi et al., ‘Automated segmentation of normal and diseased coronary arteries – The ASOCA challenge’, Computerized Medical Imaging and Graphics, vol. 97, p. 102049, 2022, doi: https://doi.org/10.1016/j.compmedimag.2022.102049\n",
      "\n",
      "R. Gharleghi et al. \"Annotated computed tomography coronary angiogram images and associated data of normal and diseased arteries.\"Scientific Data 10.1 (2023): 128. doi:  https://doi.org/10.1038/s41597-023-02016-2\n",
      "\n",
      "\n",
      "Bibtex:\n",
      "@article{gharleghi2022automated,\n",
      "\ttitle        = {Automated segmentation of normal and diseased coronary arteries – The ASOCA challenge},\n",
      "\tauthor       = {Ramtin Gharleghi and Dona Adikari and Katy Ellenberger and Sze-Yuan Ooi and Chris Ellis and Chung-Ming Chen and Ruochen Gao and Yuting He and Raabid Hussain and Chia-Yen Lee and Jun Li and Jun Ma and Ziwei Nie and Bruno Oliveira and Yaolei Qi and Youssef Skandarani and João L. Vilaça and Xiyue Wang and Sen Yang and Arcot Sowmya and Susann Beier},\n",
      "\tyear         = 2022,\n",
      "\tjournal      = {Computerized Medical Imaging and Graphics},\n",
      "\tvolume       = 97,\n",
      "\tpages        = 102049,\n",
      "\tdoi          = {https://doi.org/10.1016/j.compmedimag.2022.102049},\n",
      "\tissn         = {0895-6111},\n",
      "\turl          = {https://www.sciencedirect.com/science/article/pii/S0895611122000222},\n",
      "\tkeywords     = {Coronary arteries, Image segmentation, Machine learning}\n",
      "}\n",
      "@article{gharleghi2023annotated,\n",
      "  title={Annotated computed tomography coronary angiogram images and associated data of normal and diseased arteries},\n",
      "  author={Gharleghi, R and Adikari, D and Ellenberger, K and Webster, M and Ellis, C and Sowmya, A and Ooi, S and Beier, S},\n",
      "  journal={Scientific Data},\n",
      "  volume={10},\n",
      "  number={1},\n",
      "  pages={128},\n",
      "  year={2023},\n",
      "  publisher={Nature Publishing Group UK London}\n",
      "}\n",
      "\n",
      "LICENCE INFO:\n",
      "The author of this work allowed this data to be part of the work done for https://arxiv.org/pdf/2308.16139, i.e., MedShapeNet and its API.\n",
      "You can use it within the API for learning and testing purposes.\n",
      "\n",
      "If you plan on using this work for publication or further distribution.\n",
      "Please get in touch with the original owner of the data via the contact form at https://asoca.grand-challenge.org/access/\n",
      "\n",
      "\n",
      "Total .txt files (how to cite, license file):                    2\n",
      "Total .json files (labels, if in dataset as json):               1\n",
      "Total .stl files (shapes):                                      40\n",
      "\n",
      "\n",
      "            THANK YOU FOR USING MedShapeNet  2.0 API\n",
      "            If you used MedShapeNet within your research please CITE:\n",
      "                @article{li2023medshapenet,\n",
      "                title={MedShapeNet--A Large-Scale Dataset of 3D Medical Shapes for Computer Vision},\n",
      "                author={Li, Jianning and Pepe, Antonio and Gsaxner, Christina and Luijten, Gijs and Jin, Yuan and \n",
      "                Ambigapathy, Narmada and Nasca, Enrico and Solak, Naida and Melito, Gian Marco and Memon, Afaque R and others},\n",
      "                journal={arXiv preprint arXiv:2308.16139},\n",
      "                year={2023}}\n",
      "            THANK YOU AGAIN, ALL FEEDBACK IS WELCOME AT https://github.com/GLARKI/MedShapeNet2.0 or email me https://ait.ikim.nrw/authors/gijs-luijten/ !!!\n",
      "            \n",
      "________________________________________________________________________________\n"
     ]
    },
    {
     "name": "stderr",
     "output_type": "stream",
     "text": [
      "Downloading and processing files: 100%|██████████| 43/43 [00:02<00:00, 16.30file/s]\n"
     ]
    },
    {
     "name": "stdout",
     "output_type": "stream",
     "text": [
      "Dataset msn1datasets/ASOCA1 STL files converted to NumPy masks with 0 failures.\n",
      "Other files (licence, citation and labels) and all STL files are stored in dataset_masks.\n",
      "________________________________________________________________________________\n",
      "\n",
      "DATASET: msn1datasets/ASOCA1\n",
      "\n",
      "\n",
      "CITATION INFO:\n",
      "Please cite the challenge manuscript and data descriptor:\n",
      "\n",
      "\n",
      "R. Gharleghi et al., ‘Automated segmentation of normal and diseased coronary arteries – The ASOCA challenge’, Computerized Medical Imaging and Graphics, vol. 97, p. 102049, 2022, doi: https://doi.org/10.1016/j.compmedimag.2022.102049\n",
      "\n",
      "R. Gharleghi et al. \"Annotated computed tomography coronary angiogram images and associated data of normal and diseased arteries.\"Scientific Data 10.1 (2023): 128. doi:  https://doi.org/10.1038/s41597-023-02016-2\n",
      "\n",
      "\n",
      "Bibtex:\n",
      "@article{gharleghi2022automated,\n",
      "\ttitle        = {Automated segmentation of normal and diseased coronary arteries – The ASOCA challenge},\n",
      "\tauthor       = {Ramtin Gharleghi and Dona Adikari and Katy Ellenberger and Sze-Yuan Ooi and Chris Ellis and Chung-Ming Chen and Ruochen Gao and Yuting He and Raabid Hussain and Chia-Yen Lee and Jun Li and Jun Ma and Ziwei Nie and Bruno Oliveira and Yaolei Qi and Youssef Skandarani and João L. Vilaça and Xiyue Wang and Sen Yang and Arcot Sowmya and Susann Beier},\n",
      "\tyear         = 2022,\n",
      "\tjournal      = {Computerized Medical Imaging and Graphics},\n",
      "\tvolume       = 97,\n",
      "\tpages        = 102049,\n",
      "\tdoi          = {https://doi.org/10.1016/j.compmedimag.2022.102049},\n",
      "\tissn         = {0895-6111},\n",
      "\turl          = {https://www.sciencedirect.com/science/article/pii/S0895611122000222},\n",
      "\tkeywords     = {Coronary arteries, Image segmentation, Machine learning}\n",
      "}\n",
      "@article{gharleghi2023annotated,\n",
      "  title={Annotated computed tomography coronary angiogram images and associated data of normal and diseased arteries},\n",
      "  author={Gharleghi, R and Adikari, D and Ellenberger, K and Webster, M and Ellis, C and Sowmya, A and Ooi, S and Beier, S},\n",
      "  journal={Scientific Data},\n",
      "  volume={10},\n",
      "  number={1},\n",
      "  pages={128},\n",
      "  year={2023},\n",
      "  publisher={Nature Publishing Group UK London}\n",
      "}\n",
      "\n",
      "LICENCE INFO:\n",
      "The author of this work allowed this data to be part of the work done for https://arxiv.org/pdf/2308.16139, i.e., MedShapeNet and its API.\n",
      "You can use it within the API for learning and testing purposes.\n",
      "\n",
      "If you plan on using this work for publication or further distribution.\n",
      "Please get in touch with the original owner of the data via the contact form at https://asoca.grand-challenge.org/access/\n",
      "\n",
      "\n",
      "Total .txt files (how to cite, license file):                    2\n",
      "Total .json files (labels, if in dataset as json):               1\n",
      "Total .stl files (shapes):                                      40\n",
      "\n",
      "\n",
      "            THANK YOU FOR USING MedShapeNet  2.0 API\n",
      "            If you used MedShapeNet within your research please CITE:\n",
      "                @article{li2023medshapenet,\n",
      "                title={MedShapeNet--A Large-Scale Dataset of 3D Medical Shapes for Computer Vision},\n",
      "                author={Li, Jianning and Pepe, Antonio and Gsaxner, Christina and Luijten, Gijs and Jin, Yuan and \n",
      "                Ambigapathy, Narmada and Nasca, Enrico and Solak, Naida and Melito, Gian Marco and Memon, Afaque R and others},\n",
      "                journal={arXiv preprint arXiv:2308.16139},\n",
      "                year={2023}}\n",
      "            THANK YOU AGAIN, ALL FEEDBACK IS WELCOME AT https://github.com/GLARKI/MedShapeNet2.0 or email me https://ait.ikim.nrw/authors/gijs-luijten/ !!!\n",
      "            \n",
      "________________________________________________________________________________\n"
     ]
    }
   ],
   "source": [
    "# MedShapeNet.download_dataset_masks(): download a complete dataset but get masks instead of STL files, conversion from STL to NPZ happens in memory.\n",
    "\n",
    "# Minmal arguments\n",
    "msn_instance.download_dataset_masks(dataset)\n",
    "\n",
    "# All arguments - With own choosen output directory - Print output of number of failed downloads and folder directory - Citation/Licence is always printed.\n",
    "msn_instance.download_dataset_masks(dataset, download_dir = 'dataset_masks', num_threads=4, print_output= True)\n"
   ]
  },
  {
   "cell_type": "markdown",
   "metadata": {},
   "source": [
    "# Examples of the following usage in the COMMAND LINE INTERFACE:\n",
    "MedShapeNet is intended as a Python API and CLI functions might not be optimal. <br>\n",
    "However, some users might prefer the CLI to, e.g., do a quick search and download by names. <br>\n",
    "Within this Jupyter Notebook the '!' tag is used to send commands to the CLI. <br>\n",
    "This '!' tag is not needed when directly inputting it into the CLI. <br><br>\n",
    "\n",
    "In this Jupyter Notebook the following functionality will be demonstrated:\n",
    "- msn help\n",
    "<br><br>\n",
    "- msn search_by_name\n",
    "- msn search_and_download_by_name\n",
    "<br><br>\n",
    "- msn datasets\n",
    "<br><br>\n",
    "- msn download_dataset\n",
    "- msn dataset_stl_to_npz\n",
    "- msn download_dataset_masks\n",
    "<br><br>\n",
    "- msn dataset_info\n",
    "<br><br>\n",
    "- msn dataset_files\n",
    "- msn download_file\n",
    "- msn stl_to_npz\n",
    "- msn download_stl_as_numpy\n",
    "\n",
    "Ps: Keep in mind dat while updating the database, some inputs (e.g., dataset name) for the cli commands might be different."
   ]
  },
  {
   "cell_type": "code",
   "execution_count": 18,
   "metadata": {},
   "outputs": [
    {
     "name": "stdout",
     "output_type": "stream",
     "text": [
      "\n",
      "        This message only displays once when importing MedShapeNet for the first time.\n",
      "\n",
      "        MedShapeNet API is under construction, more functionality will come soon!\n",
      "\n",
      "        For information use MedShapeNet.msn_help().\n",
      "        Alternatively, check the GitHub Page: https://github.com/GLARKI/MedShapeNet2.0\n",
      "\n",
      "        PLEASE CITE US If you used MedShapeNet API for your (research) project:\n",
      "        \n",
      "        @article{li2023medshapenet,\n",
      "        title={MedShapeNet--A Large-Scale Dataset of 3D Medical Shapes for Computer Vision},\n",
      "        author={Li, Jianning and Pepe, Antonio and Gsaxner, Christina and Luijten, Gijs and Jin, Yuan and Ambigapathy, Narmada, and others},"
     ]
    },
    {
     "name": "stdout",
     "output_type": "stream",
     "text": [
      "\n",
      "        journal={arXiv preprint arXiv:2308.16139},\n",
      "        year={2023}\n",
      "        }\n",
      "\n",
      "        PLEASE USE the def dataset_info(self, bucket_name: str) to find the proper citation alongside MedShapeNet when utilizing a dataset for your resarch project.\n",
      "        \n",
      "Connection to MinIO server successful.\n",
      "\n",
      "Download directory already exists at: E:\\OneDrive\\Article_projects\\MedShapeNet_OvertakeJianning\\MSN_NEW_S3_PIP_INSTALL\\Github\\MedShapeNet2.0\\Samples\\GettingStarted\\msn_downloads\n",
      "________________________________________________________________________________\n",
      "\n",
      "                NOTE:\n",
      "                This package is currently under heavy construction, more functionality will come soon!\n",
      "                Current S3 access is for development only and reachable via https://xrlab.ikim.nrw wifi, full access will come soon!\n",
      "                Want to contribute, contact me Gijs Luijten via LinkedIn, my work email or the MedShapeNet 2.0 GitHub.\n",
      "                \n",
      "                SAMPLE USAGE - With Jupyter Notebook examples:\n",
      "                https://github.com/GLARKI/MedShapeNet2.0/tree/main/Samples\n",
      "\n",
      "                CITE:\n",
      "                If you used MedShapeNet within your research please CITE:\n",
      "                @article{li2023medshapenet,\n",
      "                title={MedShapeNet--A Large-Scale Dataset of 3D Medical Shapes for Computer Vision},\n",
      "                author={Li, Jianning and Pepe, Antonio and Gsaxner, Christina and Luijten, Gijs and Jin, Yuan and Ambigapathy, Narmada and Nasca, Enrico and Solak, Naida and Melito, Gian Marco and Memon, Afaque R and others},\n",
      "                journal={arXiv preprint arXiv:2308.16139},\n",
      "                year={2023}\n",
      "                }\n",
      "              \n",
      "                CALL DOCSTRING/INFO of MedShapeNet class or method (in Python) using:\n",
      "                print(MedShapeNet.__doc__) OR print(MedShapeNet.'{'method_name'}'.__doc__)\n",
      "              \n",
      "                CURRENT (PYTHON) METHODS:\n",
      "                    - def __init__: Setup connection with the database as an object through the MedShapeNet init, and create a directory to store related downloads.\n",
      "                    - def help(): Ask for help specifying all functions.\n",
      "                    - def datasets(): Get a list of all datasets included in MedShapeNet and stored on the S3 storage. \n",
      "                    - def dataset_info(): Print licence, citation and number of files for a dataset.\n",
      "                    - def dataset_files(): Get a list of files inside the dataset.\n",
      "                    - def download_file(): Download a file from a dataset\n",
      "                    - def download_dataset(): Download seperate datasets completely based on the name.\n",
      "                    - def stl_to_npz(): Convert a STL file to a numpy mask.\n",
      "                    - def dataset_stl_to_npz(): Convert an already downloaded dataset to numpy masks stored in the same directory.\n",
      "                    - def download_stl_as_numpy(): Download a shape from the database directly as numpy mask, conversion from stl to npz happens in memory.\n",
      "                    - def download_dataset_masks(): Download a complete dataset but get masks instead of stl files, conversion from stl to npz happens in memory.\n",
      "                    - def search_by_name(): Search the original MedShapeNet (Sciebo storage) by name and get a list of all download urls, downside: you have to look up the reference and licence manually based on the paper. \n",
      "                    - def search_and_download_by_name(): Search and download the original MedShapeNet (Sciebo storage) by name, downside: you have to look up the reference and licence manually based on the paper.\n",
      "\n",
      "                COMMAND LINE INTERFACE\n",
      "                    - Methods are callable via the command line interface as well.\n",
      "                    e.g., call in cli using: python CLI.py download_file --bucket_name \"example-bucket\" --object_name \"file.stl\" --file_path \"./local/path/\"\n",
      "                    CLI Methods:\n",
      "                        'MedShapeNet': MedShapeNet,\n",
      "                        'help':MedShapeNet.help,\n",
      "                        'datasets':MedShapeNet.datasets,\n",
      "                        'dataset_info': MedShapeNet.dataset_info,\n",
      "                        'dataset_files':MedShapeNet.dataset_files,\n",
      "                        'download_file':MedShapeNet.download_file,\n",
      "                        'download_dataset':MedShapeNet.download_dataset,\n",
      "                        'stl_to_npz':MedShapeNet.stl_to_npz,\n",
      "                        'dataset_stl_to_npz':MedShapeNet.dataset_stl_to_npz,\n",
      "                        'download_stl_as_numpy':MedShapeNet.download_stl_as_numpy,\n",
      "                        'download_dataset_masks':MedShapeNet.download_dataset_masks,\n",
      "                        'search_by_name':MedShapeNet.search_by_name,\n",
      "                        'search_and_download_by_name':MedShapeNet.search_and_download_by_name\n",
      "\n",
      "                Datasets within the s3 bucket:\n",
      "                *under construction*\n",
      "              \n",
      "                \n",
      "________________________________________________________________________________\n",
      "\n",
      "                METHODS IN DETAIL\n",
      "              \n",
      "                    - def __init__(self, minio_endpoint: str, minio_endpoint: str, access_key: str, secret_key: str, secure: bool, timeout: int) -> None:\n",
      "                        Initializes an instance of the class with a MinIO client and sets up a default download directory.\n",
      "                        Configures the MinIO client with the provided endpoint, access credentials, and security settings. Also creates a \n",
      "                        local directory for storing downloaded files if it does not already exist.\n",
      "\n",
      "                        :param minio_endpoint: Endpoint for the MinIO server (e.g., 'localhost:9000'). \n",
      "                                                Can also be set to a remote server address.\n",
      "                        :param access_key: Access key for authenticating with the MinIO server.\n",
      "                        :param secret_key: Secret key for authenticating with the MinIO server.\n",
      "                        :param secure: Boolean flag indicating whether to use HTTPS for communication with the MinIO server. Defaults to False.\n",
      "                        :param timeout: Timeout duration in seconds for connection and read operations. Defaults to 5 seconds.\n",
      "\n",
      "                        :raises urllib3.exceptions.TimeoutError: If the connection to MinIO times out.\n",
      "                        :raises urllib3.exceptions.HTTPError: For general HTTP errors during connection.\n",
      "                        :raises S3Error: If an error occurs related to MinIO operations.\n",
      "                        :raises socket.timeout: If a socket operation times out.\n",
      "\n",
      "                        Initializes the `self.minio_client` with the provided settings and verifies the connection by listing the buckets. \n",
      "                        Creates the download directory at `self.download_dir` if it does not exist.\n",
      "              \n",
      "                    - def help() -> None:\n",
      "                        Prints a help message regarding current functionality of MedShapeNet API.\n",
      "                        Returns: None\n",
      "              \n",
      "                    - def datasets(self, print_output: bool = False) -> list:\n",
      "                        Retrieves a list of top-level datasets from the MinIO server. This includes both bucket names and top-level folders \n",
      "                        within the buckets. It excludes nested folders to provide a clear list of primary datasets.\n",
      "                        This method first lists all buckets and then inspects each bucket to find top-level folders. It ensures that nested \n",
      "                        folders are not included in the final dataset list. \n",
      "\n",
      "                        :param print_output: If True, prints the list of datasets with corresponding indices. Defaults to False.\n",
      "                        :return: A list of dataset names, including both bucket names and top-level folder names. Nested folders are excluded.\n",
      "              \n",
      "                    - def dataset_info(self, bucket_name: str) -> None:\n",
      "                        Displays detailed information about a dataset stored in a specified bucket.\n",
      "                        \n",
      "                        This method performs the following actions:\n",
      "                        1. Prints the contents of 'cite.txt' and 'licence.txt' files if they exist in the dataset.\n",
      "                        2. Counts and prints the total number of '.txt', '.json', and '.stl' files in the dataset.\n",
      "\n",
      "                        :param bucket_name: Name of the bucket or a path within a bucket from which to extract dataset information.\n",
      "                        :raises S3Error: If an error occurs while accessing or reading files from the bucket.\n",
      "                    \n",
      "                    - def dataset_files(self, bucket_name: str, file_extension: str = None, print_output: bool = False) -> list:\n",
      "                        Lists all files in a specified bucket and optionally filters by file extension.\n",
      "\n",
      "                        This method performs the following actions:\n",
      "                        1. Lists all files in the specified bucket, optionally filtering by a given file extension.\n",
      "                        2. Counts and prints the total number of '.txt', '.json', and '.stl' files in the bucket.\n",
      "                        3. Prints the file names and summary statistics if requested.\n",
      "\n",
      "                        :param bucket_name: Name of the bucket or dataset to list files from. May include a folder prefix.\n",
      "                        :param file_extension: (Optional) File extension to filter the files by (e.g., '.stl', '.txt', '.json'). If None, all files are listed.\n",
      "                        :param print_output: Whether to print the file names and file type counts to the console.\n",
      "                        :return: A list of file names in the bucket, filtered by the specified file extension if provided.\n",
      "                        :raises S3Error: If an error occurs while listing objects from the bucket.\n",
      "              \n",
      "                    - def download_file(self, bucket_name: str, object_name: str, file_path: Path = None, print_output: bool = True) -> None:\n",
      "                        Downloads a file from a specified bucket in MinIO to a local path.\n",
      "\n",
      "                        This method handles both cases where the bucket name includes a folder path or not:\n",
      "                        - If no file path is provided, it automatically creates a directory structure based on the bucket name and saves the file there.\n",
      "                        - If a folder path is included in the bucket name, it extracts the bucket name and creates a subdirectory for the dataset.\n",
      "\n",
      "                        :param bucket_name: Name of the bucket from which the file is to be downloaded. It may include a folder path.\n",
      "                        :param object_name: Name of the file (object) within the bucket.\n",
      "                        :param file_path: (Optional) Local path where the downloaded file should be saved. If None, the file is saved in a directory created based on the bucket name.\n",
      "                        :param print_output: Whether to print a success message after the file is downloaded.\n",
      "                        :raises S3Error: If an error occurs during the download process.\n",
      "              \n",
      "                    - def download_dataset(self, dataset_name: str, download_dir: Path = None, num_threads: int = 4, print_output: bool = True) -> list:\n",
      "                        Downloads all files from a specified dataset to a local directory, with parallel downloading for increased speed.\n",
      "                        Retries failed downloads once and returns a list of failed downloads after retry attempts.\n",
      "\n",
      "                        :param dataset_name: Name of the dataset, which can be a bucket name or a folder within a bucket.\n",
      "                        :param download_dir: Path to the local directory where files will be saved. If None, a default directory based on \n",
      "                                            the dataset name is created.\n",
      "                        :param num_threads: Number of threads to use for parallel downloading.\n",
      "                        :param print_output: Whether to print progress and error messages during the download process.\n",
      "                        :return: A list of tuples, each containing (bucket_name, file, file_path) for downloads that failed after retrying.\n",
      "              \n",
      "                    - def stl_to_npz(self, stl_file: str, npz_file: str, print_output = True) -> None:\n",
      "                        Converts an STL file to a NumPy .npz file, compressing the data.\n",
      "\n",
      "                        :param stl_file: Path to the input .stl file containing 3D shape data.\n",
      "                        :param npz_file: Path where the converted .npz file will be saved.\n",
      "                        :param print_output: Whether to print a success message upon successful conversion\n",
      "\n",
      "                    - def dataset_stl_to_npz(self, dataset: str, num_threads: int = 4, output_dir: Path = None, print_output: bool = False) -> None:                \n",
      "                        Converts all .stl files in the specified dataset directory to NumPy .npz format and saves them in a designated output directory.\n",
      "                        Additionally, copies any .txt and .json files from the dataset to the output directory.\n",
      "\n",
      "                        :param dataset: Name of the dataset, which can be a bucket or folder name.\n",
      "                        :param num_threads: Number of threads for parallel processing of .stl files.\n",
      "                        :param output_dir: Directory to save the converted .npz files. Defaults to 'masks_numpy' within the dataset directory.\n",
      "                        :param print_output: Whether to print progress messages during the conversion process.\n",
      "\n",
      "                    - def download_stl_as_numpy(self, bucket_name: str, stl_file: str, output_dir: Path, print_output: True) -> None:\n",
      "                        Downloads an STL file from a specified bucket, converts it to a NumPy .npz file, and saves it in the given directory.\n",
      "\n",
      "                        :param bucket_name: Name of the bucket or dataset where the STL file is located.\n",
      "                        :param stl_file: Path to the STL file within the bucket.\n",
      "                        :param output_dir: Directory where the converted .npz file will be saved.\n",
      "                        :param print_output: Whether to print progress messages.\n",
      "              \n",
      "                    - def download_dataset_masks(self, dataset_name: str, download_dir: Path = None, num_threads: int = 4, print_output: bool = True) -> list:\n",
      "                        Downloads files from a dataset, converting STL files to NumPy masks and saving them as .npz files,\n",
      "                        while directly saving non-STL files to the specified directory.\n",
      "\n",
      "                        STL files are processed in memory and converted to NumPy arrays, which are saved as compressed .npz files.\n",
      "                        Non-STL files (e.g., .txt, .json) are copied directly to the download directory.\n",
      "\n",
      "                        :param dataset_name: Name of the dataset, which may include a bucket name and an optional folder path.\n",
      "                        :param download_dir: Directory where the converted and non-STL files should be saved. If None, a default directory\n",
      "                                            within the class's download directory is used.\n",
      "                        :param num_threads: Number of threads for parallel downloading and processing.\n",
      "                        :param print_output: Whether to print progress messages.\n",
      "                        :return: A list of STL files that failed to download or convert, even after retry attempts.\n",
      "              \n",
      "                    - def search_and_download_by_name(self, name: str = None, max_threads: int = 5, save_folder: Path = None, extension: str = '.stl', print_output = True) -> list:\n",
      "                        This is a function that still uses the download links from sciebo and will be eventually replaced.\n",
      "                        Make sure to look up the correct citations/licence per shape based on the paper \"https://arxiv.org/abs/2308.16139\"\n",
      "                        \n",
      "                        Searches for and downloads files based on a name search. STL files will be downloaded in parallel.\n",
      "\n",
      "                        The method searches for files related to the specified name, downloads them, and saves them in the designated folder.\n",
      "                        Failed downloads are retried.\n",
      "\n",
      "                        :param name: The name of the organ or disease to search for.\n",
      "                        :param max_threads: Maximum number of threads to use for downloading files.\n",
      "                        :param save_folder: Path to the folder where the found STL files should be saved. If None, a folder named after the search query with \"_stl\" appended will be created.\n",
      "                        :param extension: File extension to use when saving files (default is '.stl').\n",
      "                        :param print_output: Whether to print progress messages.\n",
      "                        :return: A list of URLs for downloads that failed even after retry attempts.\n",
      "              \n",
      "                HELPER FUNCTIONS WITHIN THE CLASS\n",
      "                - def print_dynamic_line():\n",
      "                    Prints a line of underscores across the terminal width for visual separation between commands.\n",
      "                    This function determines the terminal width and prints a line of underscores to enhance readability between terminal outputs.\n",
      "                    If the terminal width cannot be determined, a default width of 80 characters is used.\n",
      "\n",
      "                - def download_file(minio_client: Minio, bucket_name: str, object_name: str, file_path: Path) -> None:\n",
      "                    Downloads a file from a specified bucket in MinIO.\n",
      "                    :param minio_client: MinIO client object used to interact with the MinIO server.\n",
      "                    :param bucket_name: Name of the bucket containing the file.\n",
      "                    :param object_name: Name of the object (file) in the bucket.\n",
      "                    :param file_path: Path where the downloaded file will be saved.\n",
      "\n",
      "                - def download_file_from_url(url: str, save_folder: str, filename: str = None, extension: str = '.stl', print_output=False) -> None:\n",
      "                    Downloads a file from a URL and saves it to a specified folder.\n",
      "                    :param url: URL of the file to be downloaded.\n",
      "                    :param save_folder: Directory where the downloaded file will be saved.\n",
      "                    :param filename: Optional custom filename for the downloaded file. If None, filename is extracted from the URL.\n",
      "                    :param extension: File extension to be used if filename is not provided. Defaults to '.stl'.\n",
      "                    :param print_output: Whether to print progress messages.\n",
      "                \n",
      "________________________________________________________________________________\n"
     ]
    }
   ],
   "source": [
    "# print the functionality of MSN\n",
    "# I prefer to type the command in python i.e. MedShapeNet.method() and hover above it with the mous, We used Linting/PEP8 to clarify all functions this way\n",
    "!msn help"
   ]
  },
  {
   "cell_type": "code",
   "execution_count": 19,
   "metadata": {},
   "outputs": [
    {
     "name": "stdout",
     "output_type": "stream",
     "text": [
      "\n",
      "        This message only displays once when importing MedShapeNet for the first time.\n",
      "\n",
      "        MedShapeNet API is under construction, more functionality will come soon!\n",
      "\n",
      "        For information use MedShapeNet.msn_help().\n",
      "        Alternatively, check the GitHub Page: https://github.com/GLARKI/MedShapeNet2.0\n",
      "\n",
      "        PLEASE CITE US If you used MedShapeNet API for your (research) project:\n",
      "        \n",
      "        @article{li2023medshapenet,\n",
      "        title={MedShapeNet--A Large-Scale Dataset of 3D Medical Shapes for Computer Vision},\n",
      "        author={Li, Jianning and Pepe, Antonio and Gsaxner, Christina and Luijten, Gijs and Jin, Yuan and Ambigapathy, Narmada, and others},\n",
      "        journal={arXiv preprint arXiv:2308.16139},\n",
      "        year={2023}\n",
      "        }\n",
      "\n",
      "        PLEASE USE the def dataset_info(self, bucket_name: str) to find the proper citation alongside MedShapeNet when utilizing a dataset for your resarch project.\n",
      "        \n",
      "Connection to MinIO server successful.\n",
      "\n",
      "Download directory already exists at: E:\\OneDrive\\Article_projects\\MedShapeNet_OvertakeJianning\\MSN_NEW_S3_PIP_INSTALL\\Github\\MedShapeNet2.0\\Samples\\GettingStarted\\msn_downloads\n",
      "_________ URLs:\n",
      "https://uni-duisburg-essen.sciebo.de/s/HeShw1G4da15OOZ/download?path=%2F&files=face_1.stl\n",
      "https://uni-duisburg-essen.sciebo.de/s/HeShw1G4da15OOZ/download?path=%2F&files=face_10.stl\n",
      "https://uni-duisburg-essen.sciebo.de/s/HeShw1G4da15OOZ/download?path=%2F&files=face_11.stl\n",
      "https://uni-duisburg-essen.sciebo.de/s/HeShw1G4da15OOZ/download?path=%2F&files=face_12.stl\n",
      "https://uni-duisburg-essen.sciebo.de/s/HeShw1G4da15OOZ/download?path=%2F&files=face_2.stl\n",
      "https://uni-duisburg-essen.sciebo.de/s/HeShw1G4da15OOZ/download?path=%2F&files=face_3.stl\n",
      "https://uni-duisburg-essen.sciebo.de/s/HeShw1G4da15OOZ/download?path=%2F&files=face_4.stl\n",
      "https://uni-duisburg-essen.sciebo.de/s/HeShw1G4da15OOZ/download?path=%2F&files=face_5.stl\n",
      "https://uni-duisburg-essen.sciebo.de/s/HeShw1G4da15OOZ/download?path=%2F&files=face_6.stl\n",
      "https://uni-duisburg-essen.sciebo.de/s/HeShw1G4da15OOZ/download?path=%2F&files=face_7.stl\n",
      "https://uni-duisburg-essen.sciebo.de/s/HeShw1G4da15OOZ/download?path=%2F&files=face_8.stl\n",
      "https://uni-duisburg-essen.sciebo.de/s/HeShw1G4da15OOZ/download?path=%2F&files=face_9.stl\n",
      "\n",
      "\n",
      "Found 12 entries for \"face\"\n",
      "https://uni-duisburg-essen.sciebo.de/s/HeShw1G4da15OOZ/download?path=%2F&files=face_1.stl\n",
      "https://uni-duisburg-essen.sciebo.de/s/HeShw1G4da15OOZ/download?path=%2F&files=face_10.stl\n",
      "https://uni-duisburg-essen.sciebo.de/s/HeShw1G4da15OOZ/download?path=%2F&files=face_11.stl\n",
      "https://uni-duisburg-essen.sciebo.de/s/HeShw1G4da15OOZ/download?path=%2F&files=face_12.stl\n",
      "https://uni-duisburg-essen.sciebo.de/s/HeShw1G4da15OOZ/download?path=%2F&files=face_2.stl\n",
      "https://uni-duisburg-essen.sciebo.de/s/HeShw1G4da15OOZ/download?path=%2F&files=face_3.stl\n",
      "https://uni-duisburg-essen.sciebo.de/s/HeShw1G4da15OOZ/download?path=%2F&files=face_4.stl\n",
      "https://uni-duisburg-essen.sciebo.de/s/HeShw1G4da15OOZ/download?path=%2F&files=face_5.stl\n",
      "https://uni-duisburg-essen.sciebo.de/s/HeShw1G4da15OOZ/download?path=%2F&files=face_6.stl\n",
      "https://uni-duisburg-essen.sciebo.de/s/HeShw1G4da15OOZ/download?path=%2F&files=face_7.stl\n",
      "https://uni-duisburg-essen.sciebo.de/s/HeShw1G4da15OOZ/download?path=%2F&files=face_8.stl\n",
      "https://uni-duisburg-essen.sciebo.de/s/HeShw1G4da15OOZ/download?path=%2F&files=face_9.stl\n"
     ]
    }
   ],
   "source": [
    "# Show list of urls in the CLI\n",
    "# Please note that additional tags equial to those in  the Python methods can be used.\n",
    "!msn search_by_name --name \"face\"\n",
    "\n",
    "# Store the list of urls and print output in a json file (look inside the original article for additional citation)\n",
    "!msn search_by_name --name \"face\" > face_result.json"
   ]
  },
  {
   "cell_type": "code",
   "execution_count": 20,
   "metadata": {},
   "outputs": [
    {
     "name": "stderr",
     "output_type": "stream",
     "text": [
      "\n"
     ]
    },
    {
     "name": "stdout",
     "output_type": "stream",
     "text": [
      "\n",
      "        This message only displays once when importing MedShapeNet for the first time."
     ]
    },
    {
     "name": "stderr",
     "output_type": "stream",
     "text": [
      "Downloading files:   0%|          | 0/12 [00:00<?, ?it/s]\n"
     ]
    },
    {
     "name": "stdout",
     "output_type": "stream",
     "text": [
      "\n",
      "\n"
     ]
    },
    {
     "name": "stderr",
     "output_type": "stream",
     "text": [
      "Downloading files:   8%|▊         | 1/12 [00:02<00:31,  2.82s/it]\n"
     ]
    },
    {
     "name": "stdout",
     "output_type": "stream",
     "text": [
      "        MedShapeNet API is under construction, more functionality will come soon!"
     ]
    },
    {
     "name": "stderr",
     "output_type": "stream",
     "text": [
      "Downloading files:  17%|█▋        | 2/12 [00:03<00:16,  1.63s/it]\n"
     ]
    },
    {
     "name": "stdout",
     "output_type": "stream",
     "text": [
      "\n"
     ]
    },
    {
     "name": "stderr",
     "output_type": "stream",
     "text": [
      "Downloading files:  25%|██▌       | 3/12 [00:03<00:08,  1.01it/s]"
     ]
    },
    {
     "name": "stdout",
     "output_type": "stream",
     "text": [
      "\n"
     ]
    },
    {
     "name": "stderr",
     "output_type": "stream",
     "text": [
      "\n"
     ]
    },
    {
     "name": "stdout",
     "output_type": "stream",
     "text": [
      "        For information use MedShapeNet.msn_help()."
     ]
    },
    {
     "name": "stderr",
     "output_type": "stream",
     "text": [
      "Downloading files:  33%|███▎      | 4/12 [00:06<00:12,  1.53s/it]\n"
     ]
    },
    {
     "name": "stdout",
     "output_type": "stream",
     "text": [
      "\n",
      "        Alternatively, check the GitHub Page: https://github.com/GLARKI/MedShapeNet2.0"
     ]
    },
    {
     "name": "stderr",
     "output_type": "stream",
     "text": [
      "Downloading files:  42%|████▏     | 5/12 [00:06<00:08,  1.17s/it]\n"
     ]
    },
    {
     "name": "stdout",
     "output_type": "stream",
     "text": [
      "\n",
      "\n"
     ]
    },
    {
     "name": "stderr",
     "output_type": "stream",
     "text": [
      "Downloading files:  50%|█████     | 6/12 [00:08<00:07,  1.26s/it]\n"
     ]
    },
    {
     "name": "stdout",
     "output_type": "stream",
     "text": [
      "        PLEASE CITE US If you used MedShapeNet API for your (research) project:"
     ]
    },
    {
     "name": "stderr",
     "output_type": "stream",
     "text": [
      "Downloading files:  58%|█████▊    | 7/12 [00:09<00:06,  1.34s/it]"
     ]
    },
    {
     "name": "stdout",
     "output_type": "stream",
     "text": [
      "\n",
      "        "
     ]
    },
    {
     "name": "stderr",
     "output_type": "stream",
     "text": [
      "\n",
      "Downloading files:  67%|██████▋   | 8/12 [00:10<00:05,  1.27s/it]"
     ]
    },
    {
     "name": "stdout",
     "output_type": "stream",
     "text": [
      "\n"
     ]
    },
    {
     "name": "stderr",
     "output_type": "stream",
     "text": [
      "\n"
     ]
    },
    {
     "name": "stdout",
     "output_type": "stream",
     "text": [
      "        @article{li2023medshapenet,\n"
     ]
    },
    {
     "name": "stderr",
     "output_type": "stream",
     "text": [
      "Downloading files:  83%|████████▎ | 10/12 [00:11<00:01,  1.36it/s]"
     ]
    },
    {
     "name": "stdout",
     "output_type": "stream",
     "text": [
      "        title={MedShapeNet--A Large-Scale Dataset of 3D Medical Shapes for Computer Vision},"
     ]
    },
    {
     "name": "stderr",
     "output_type": "stream",
     "text": [
      "\n",
      "Downloading files:  92%|█████████▏| 11/12 [00:12<00:01,  1.03s/it]\n",
      "Downloading files: 100%|██████████| 12/12 [01:02<00:00, 14.01s/it]"
     ]
    },
    {
     "name": "stdout",
     "output_type": "stream",
     "text": [
      "\n"
     ]
    },
    {
     "name": "stderr",
     "output_type": "stream",
     "text": [
      "\n"
     ]
    },
    {
     "name": "stdout",
     "output_type": "stream",
     "text": [
      "        author={Li, Jianning and Pepe, Antonio and Gsaxner, Christina and Luijten, Gijs and Jin, Yuan and Ambigapathy, Narmada, and others},\n"
     ]
    },
    {
     "name": "stderr",
     "output_type": "stream",
     "text": [
      "Downloading files: 100%|██████████| 12/12 [01:02<00:00,  5.23s/it]\n"
     ]
    },
    {
     "name": "stdout",
     "output_type": "stream",
     "text": [
      "        journal={arXiv preprint arXiv:2308.16139},\n",
      "        year={2023}\n",
      "        }\n",
      "\n",
      "        PLEASE USE the def dataset_info(self, bucket_name: str) to find the proper citation alongside MedShapeNet when utilizing a dataset for your resarch project.\n",
      "        \n",
      "Connection to MinIO server successful.\n",
      "\n",
      "Download directory already exists at: E:\\OneDrive\\Article_projects\\MedShapeNet_OvertakeJianning\\MSN_NEW_S3_PIP_INSTALL\\Github\\MedShapeNet2.0\\Samples\\GettingStarted\\msn_downloads\n",
      "\n"
     ]
    },
    {
     "name": "stderr",
     "output_type": "stream",
     "text": [
      "\n",
      "Downloading files:   0%|          | 0/12 [00:00<?, ?it/s]"
     ]
    },
    {
     "name": "stdout",
     "output_type": "stream",
     "text": [
      "        This message only displays once when importing MedShapeNet for the first time.\n"
     ]
    },
    {
     "name": "stderr",
     "output_type": "stream",
     "text": [
      "\n",
      "Downloading files:   8%|▊         | 1/12 [00:03<00:34,  3.10s/it]"
     ]
    },
    {
     "name": "stdout",
     "output_type": "stream",
     "text": [
      "\n"
     ]
    },
    {
     "name": "stderr",
     "output_type": "stream",
     "text": [
      "\n"
     ]
    },
    {
     "name": "stdout",
     "output_type": "stream",
     "text": [
      "        MedShapeNet API is under construction, more functionality will come soon!\n"
     ]
    },
    {
     "name": "stderr",
     "output_type": "stream",
     "text": [
      "Downloading files:  17%|█▋        | 2/12 [00:04<00:19,  1.91s/it]\n"
     ]
    },
    {
     "name": "stdout",
     "output_type": "stream",
     "text": [
      "\n"
     ]
    }
   ],
   "source": [
    "# Download the found files to the default msn_downloads folder (look inside the original article for additional citation)\n",
    "!msn search_and_download_by_name --name \"face\" --print_output False\n",
    "\n",
    "# Download the found files a folder of your choice (look inside the original article for additional citation)\n",
    "!msn search_and_download_by_name --name \"face\" --max_threads 5 --save_folder \"downloaded_files\" --extension \".stl\" --print_output True"
   ]
  },
  {
   "cell_type": "code",
   "execution_count": 22,
   "metadata": {},
   "outputs": [
    {
     "name": "stdout",
     "output_type": "stream",
     "text": [
      "\n",
      "        This message only displays once when importing MedShapeNet for the first time.\n",
      "\n",
      "        MedShapeNet API is under construction, more functionality will come soon!\n",
      "\n",
      "        For information use MedShapeNet.msn_help().\n",
      "        Alternatively, check the GitHub Page: https://github.com/GLARKI/MedShapeNet2.0\n",
      "\n",
      "        PLEASE CITE US If you used MedShapeNet API for your (research) project:\n",
      "        \n",
      "        @article{li2023medshapenet,\n",
      "        title={MedShapeNet--A Large-Scale Dataset of 3D Medical Shapes for Computer Vision},\n",
      "        author={Li, Jianning and Pepe, Antonio and Gsaxner, Christina and Luijten, Gijs and Jin, Yuan and Ambigapathy, Narmada, and others},\n",
      "        journal={arXiv preprint arXiv:2308.16139},\n",
      "        year={2023}\n",
      "        }\n",
      "\n",
      "        PLEASE USE the def dataset_info(self, bucket_name: str) to find the proper citation alongside MedShapeNet when utilizing a dataset for your resarch project.\n",
      "        \n",
      "Connection to MinIO server successful.\n",
      "\n",
      "Download directory already exists at: E:\\OneDrive\\Article_projects\\MedShapeNet_OvertakeJianning\\MSN_NEW_S3_PIP_INSTALL\\Github\\MedShapeNet2.0\\Samples\\GettingStarted\\msn_downloads\n",
      "asoca1\n",
      "asoca2\n",
      "liver1234test\n",
      "msn1datasets/ASOCA2\n",
      "msn1datasets/ASOCA1\n",
      "msn1datasets/ASOCA3\n"
     ]
    }
   ],
   "source": [
    "# Print a list of datasets, and store these (incl. print statements) in a json file\n",
    "!msn datasets\n",
    "!msn datasets > dataset_list.json"
   ]
  },
  {
   "cell_type": "code",
   "execution_count": 23,
   "metadata": {},
   "outputs": [
    {
     "name": "stdout",
     "output_type": "stream",
     "text": [
      "\n"
     ]
    },
    {
     "name": "stderr",
     "output_type": "stream",
     "text": [
      "\n",
      "Downloading files:   0%|          | 0/43 [00:00<?, ?it/s]"
     ]
    },
    {
     "name": "stdout",
     "output_type": "stream",
     "text": [
      "        This message only displays once when importing MedShapeNet for the first time.\n"
     ]
    },
    {
     "name": "stderr",
     "output_type": "stream",
     "text": [
      "\n"
     ]
    },
    {
     "name": "stdout",
     "output_type": "stream",
     "text": [
      "\n"
     ]
    },
    {
     "name": "stderr",
     "output_type": "stream",
     "text": [
      "Downloading files:   2%|▏         | 1/43 [00:00<00:04,  9.89it/s]\n"
     ]
    },
    {
     "name": "stdout",
     "output_type": "stream",
     "text": [
      "        MedShapeNet API is under construction, more functionality will come soon!\n"
     ]
    },
    {
     "name": "stderr",
     "output_type": "stream",
     "text": [
      "Downloading files:  12%|█▏        | 5/43 [00:00<00:01, 26.95it/s]"
     ]
    },
    {
     "name": "stdout",
     "output_type": "stream",
     "text": [
      "\n"
     ]
    },
    {
     "name": "stderr",
     "output_type": "stream",
     "text": [
      "\n",
      "Downloading files:  26%|██▌       | 11/43 [00:00<00:00, 40.47it/s]"
     ]
    },
    {
     "name": "stdout",
     "output_type": "stream",
     "text": [
      "        For information use MedShapeNet.msn_help()."
     ]
    },
    {
     "name": "stderr",
     "output_type": "stream",
     "text": [
      "\n"
     ]
    },
    {
     "name": "stdout",
     "output_type": "stream",
     "text": [
      "\n",
      "        Alternatively, check the GitHub Page: https://github.com/GLARKI/MedShapeNet2.0"
     ]
    },
    {
     "name": "stderr",
     "output_type": "stream",
     "text": [
      "Downloading files:  40%|███▉      | 17/43 [00:00<00:00, 43.50it/s]\n"
     ]
    },
    {
     "name": "stdout",
     "output_type": "stream",
     "text": [
      "\n"
     ]
    },
    {
     "name": "stderr",
     "output_type": "stream",
     "text": [
      "Downloading files:  51%|█████     | 22/43 [00:00<00:00, 38.07it/s]"
     ]
    },
    {
     "name": "stdout",
     "output_type": "stream",
     "text": [
      "\n",
      "        PLEASE CITE US If you used MedShapeNet API for your (research) project:\n"
     ]
    },
    {
     "name": "stderr",
     "output_type": "stream",
     "text": [
      "\n",
      "Downloading files:  65%|██████▌   | 28/43 [00:00<00:00, 44.14it/s]"
     ]
    },
    {
     "name": "stdout",
     "output_type": "stream",
     "text": [
      "        "
     ]
    },
    {
     "name": "stderr",
     "output_type": "stream",
     "text": [
      "\n"
     ]
    },
    {
     "name": "stdout",
     "output_type": "stream",
     "text": [
      "\n"
     ]
    },
    {
     "name": "stderr",
     "output_type": "stream",
     "text": [
      "Downloading files:  77%|███████▋  | 33/43 [00:00<00:00, 45.33it/s]"
     ]
    },
    {
     "name": "stdout",
     "output_type": "stream",
     "text": [
      "        @article{li2023medshapenet,"
     ]
    },
    {
     "name": "stderr",
     "output_type": "stream",
     "text": [
      "\n"
     ]
    },
    {
     "name": "stdout",
     "output_type": "stream",
     "text": [
      "\n"
     ]
    },
    {
     "name": "stderr",
     "output_type": "stream",
     "text": [
      "Downloading files:  88%|████████▊ | 38/43 [00:00<00:00, 43.57it/s]"
     ]
    },
    {
     "name": "stdout",
     "output_type": "stream",
     "text": [
      "        title={MedShapeNet--A Large-Scale Dataset of 3D Medical Shapes for Computer Vision},"
     ]
    },
    {
     "name": "stderr",
     "output_type": "stream",
     "text": [
      "\n"
     ]
    },
    {
     "name": "stdout",
     "output_type": "stream",
     "text": [
      "\n"
     ]
    },
    {
     "name": "stderr",
     "output_type": "stream",
     "text": [
      "Downloading files: 100%|██████████| 43/43 [00:01<00:00, 42.04it/s]"
     ]
    },
    {
     "name": "stdout",
     "output_type": "stream",
     "text": [
      "        author={Li, Jianning and Pepe, Antonio and Gsaxner, Christina and Luijten, Gijs and Jin, Yuan and Ambigapathy, Narmada, and others},"
     ]
    },
    {
     "name": "stderr",
     "output_type": "stream",
     "text": [
      "\n"
     ]
    },
    {
     "name": "stdout",
     "output_type": "stream",
     "text": [
      "\n",
      "        journal={arXiv preprint arXiv:2308.16139},\n",
      "        year={2023}\n",
      "        }\n",
      "\n",
      "        PLEASE USE the def dataset_info(self, bucket_name: str) to find the proper citation alongside MedShapeNet when utilizing a dataset for your resarch project.\n",
      "        \n",
      "Connection to MinIO server successful.\n",
      "\n",
      "Download directory already exists at: E:\\OneDrive\\Article_projects\\MedShapeNet_OvertakeJianning\\MSN_NEW_S3_PIP_INSTALL\\Github\\MedShapeNet2.0\\Samples\\GettingStarted\\msn_downloads\n",
      "________________________________________________________________________________\n",
      "\n",
      "DATASET: asoca1\n",
      "\n",
      "\n",
      "CITATION INFO:\n",
      "Please cite the challenge manuscript and data descriptor:\n",
      "\n",
      "\n",
      "\n",
      "\n",
      "\n",
      "R. Gharleghi et al., ‘Automated segmentation of normal and diseased coronary arteries – The ASOCA challenge’, Computerized Medical Imaging and Graphics, vol. 97, p. 102049, 2022, doi: https://doi.org/10.1016/j.compmedimag.2022.102049\n",
      "\n",
      "\n",
      "\n",
      "R. Gharleghi et al. \"Annotated computed tomography coronary angiogram images and associated data of normal and diseased arteries.\"Scientific Data 10.1 (2023): 128. doi:  https://doi.org/10.1038/s41597-023-02016-2\n",
      "\n",
      "\n",
      "\n",
      "\n",
      "\n",
      "Bibtex:\n",
      "\n",
      "@article{gharleghi2022automated,\n",
      "\n",
      "\ttitle        = {Automated segmentation of normal and diseased coronary arteries – The ASOCA challenge},\n",
      "\n",
      "\tauthor       = {Ramtin Gharleghi and Dona Adikari and Katy Ellenberger and Sze-Yuan Ooi and Chris Ellis and Chung-Ming Chen and Ruochen Gao and Yuting He and Raabid Hussain and Chia-Yen Lee and Jun Li and Jun Ma and Ziwei Nie and Bruno Oliveira and Yaolei Qi and Youssef Skandarani and João L. Vilaça and Xiyue Wang and Sen Yang and Arcot Sowmya and Susann Beier},\n",
      "\n",
      "\tyear         = 2022,\n",
      "\n",
      "\tjournal      = {Computerized Medical Imaging and Graphics},\n",
      "\n",
      "\tvolume       = 97,\n",
      "\n",
      "\tpages        = 102049,\n",
      "\n",
      "\tdoi          = {https://doi.org/10.1016/j.compmedimag.2022.102049},\n",
      "\n",
      "\tissn         = {0895-6111},\n",
      "\n",
      "\turl          = {https://www.sciencedirect.com/science/article/pii/S0895611122000222},\n",
      "\n",
      "\tkeywords     = {Coronary arteries, Image segmentation, Machine learning}\n",
      "\n",
      "}\n",
      "\n",
      "@article{gharleghi2023annotated,\n",
      "\n",
      "  title={Annotated computed tomography coronary angiogram images and associated data of normal and diseased arteries},\n",
      "\n",
      "  author={Gharleghi, R and Adikari, D and Ellenberger, K and Webster, M and Ellis, C and Sowmya, A and Ooi, S and Beier, S},\n",
      "\n",
      "  journal={Scientific Data},\n",
      "\n",
      "  volume={10},\n",
      "\n",
      "  number={1},\n",
      "\n",
      "  pages={128},\n",
      "\n",
      "  year={2023},\n",
      "\n",
      "  publisher={Nature Publishing Group UK London}\n",
      "\n",
      "}\n",
      "\n",
      "LICENCE INFO:\n",
      "The author of this work allowed this data to be part of the work done for https://arxiv.org/pdf/2308.16139, i.e., MedShapeNet and its API.\n",
      "\n",
      "You can use it within the API for learning and testing purposes.\n",
      "\n",
      "\n",
      "\n",
      "If you plan on using this work for publication or further distribution.\n",
      "\n",
      "Please get in touch with the original owner of the data via the contact form at https://asoca.grand-challenge.org/access/\n",
      "\n",
      "\n",
      "\n",
      "Total .txt files (how to cite, license file):                    2\n",
      "Total .json files (labels, if in dataset as json):               1\n",
      "Total .stl files (shapes):                                      40\n",
      "\n",
      "\n",
      "            THANK YOU FOR USING MedShapeNet  2.0 API\n",
      "            If you used MedShapeNet within your research please CITE:\n",
      "                @article{li2023medshapenet,\n",
      "                title={MedShapeNet--A Large-Scale Dataset of 3D Medical Shapes for Computer Vision},\n",
      "                author={Li, Jianning and Pepe, Antonio and Gsaxner, Christina and Luijten, Gijs and Jin, Yuan and \n",
      "                Ambigapathy, Narmada and Nasca, Enrico and Solak, Naida and Melito, Gian Marco and Memon, Afaque R and others},\n",
      "                journal={arXiv preprint arXiv:2308.16139},\n",
      "                year={2023}}\n",
      "            THANK YOU AGAIN, ALL FEEDBACK IS WELCOME AT https://github.com/GLARKI/MedShapeNet2.0 or email me https://ait.ikim.nrw/authors/gijs-luijten/ !!!\n",
      "            \n",
      "________________________________________________________________________________\n",
      "\n",
      "Dataset asoca1 is downloaded with 0 failures\n",
      "\n"
     ]
    },
    {
     "name": "stderr",
     "output_type": "stream",
     "text": [
      "\n",
      "Converting STL to NPZ:   0%|          | 0/40 [00:00<?, ?file/s]"
     ]
    },
    {
     "name": "stdout",
     "output_type": "stream",
     "text": [
      "        This message only displays once when importing MedShapeNet for the first time."
     ]
    },
    {
     "name": "stderr",
     "output_type": "stream",
     "text": [
      "\n"
     ]
    },
    {
     "name": "stdout",
     "output_type": "stream",
     "text": [
      "\n"
     ]
    },
    {
     "name": "stderr",
     "output_type": "stream",
     "text": [
      "Converting STL to NPZ:   2%|▎         | 1/40 [00:00<00:05,  7.47file/s]"
     ]
    },
    {
     "name": "stdout",
     "output_type": "stream",
     "text": [
      "\n",
      "        MedShapeNet API is under construction, more functionality will come soon!"
     ]
    },
    {
     "name": "stderr",
     "output_type": "stream",
     "text": [
      "\n"
     ]
    },
    {
     "name": "stdout",
     "output_type": "stream",
     "text": [
      "\n",
      "\n"
     ]
    },
    {
     "name": "stderr",
     "output_type": "stream",
     "text": [
      "Converting STL to NPZ:  12%|█▎        | 5/40 [00:00<00:02, 17.38file/s]"
     ]
    },
    {
     "name": "stdout",
     "output_type": "stream",
     "text": [
      "        For information use MedShapeNet.msn_help()."
     ]
    },
    {
     "name": "stderr",
     "output_type": "stream",
     "text": [
      "\n",
      "Converting STL to NPZ:  22%|██▎       | 9/40 [00:00<00:01, 20.42file/s]"
     ]
    },
    {
     "name": "stdout",
     "output_type": "stream",
     "text": [
      "\n"
     ]
    },
    {
     "name": "stderr",
     "output_type": "stream",
     "text": [
      "\n"
     ]
    },
    {
     "name": "stdout",
     "output_type": "stream",
     "text": [
      "        Alternatively, check the GitHub Page: https://github.com/GLARKI/MedShapeNet2.0"
     ]
    },
    {
     "name": "stderr",
     "output_type": "stream",
     "text": [
      "Converting STL to NPZ:  32%|███▎      | 13/40 [00:00<00:01, 23.02file/s]"
     ]
    },
    {
     "name": "stdout",
     "output_type": "stream",
     "text": [
      "\n"
     ]
    },
    {
     "name": "stderr",
     "output_type": "stream",
     "text": [
      "\n"
     ]
    },
    {
     "name": "stdout",
     "output_type": "stream",
     "text": [
      "\n"
     ]
    },
    {
     "name": "stderr",
     "output_type": "stream",
     "text": [
      "Converting STL to NPZ:  40%|████      | 16/40 [00:00<00:01, 22.59file/s]"
     ]
    },
    {
     "name": "stdout",
     "output_type": "stream",
     "text": [
      "        PLEASE CITE US If you used MedShapeNet API for your (research) project:\n"
     ]
    },
    {
     "name": "stderr",
     "output_type": "stream",
     "text": [
      "\n",
      "Converting STL to NPZ:  48%|████▊     | 19/40 [00:00<00:00, 21.97file/s]"
     ]
    },
    {
     "name": "stdout",
     "output_type": "stream",
     "text": [
      "        "
     ]
    },
    {
     "name": "stderr",
     "output_type": "stream",
     "text": [
      "\n",
      "Converting STL to NPZ:  55%|█████▌    | 22/40 [00:01<00:00, 21.16file/s]"
     ]
    },
    {
     "name": "stdout",
     "output_type": "stream",
     "text": [
      "\n"
     ]
    },
    {
     "name": "stderr",
     "output_type": "stream",
     "text": [
      "\n"
     ]
    },
    {
     "name": "stdout",
     "output_type": "stream",
     "text": [
      "        @article{li2023medshapenet,\n"
     ]
    },
    {
     "name": "stderr",
     "output_type": "stream",
     "text": [
      "Converting STL to NPZ:  65%|██████▌   | 26/40 [00:01<00:00, 23.29file/s]\n",
      "Converting STL to NPZ:  72%|███████▎  | 29/40 [00:01<00:00, 23.50file/s]"
     ]
    },
    {
     "name": "stdout",
     "output_type": "stream",
     "text": [
      "        title={MedShapeNet--A Large-Scale Dataset of 3D Medical Shapes for Computer Vision},\n"
     ]
    },
    {
     "name": "stderr",
     "output_type": "stream",
     "text": [
      "\n",
      "Converting STL to NPZ:  80%|████████  | 32/40 [00:01<00:00, 22.28file/s]"
     ]
    },
    {
     "name": "stdout",
     "output_type": "stream",
     "text": [
      "        author={Li, Jianning and Pepe, Antonio and Gsaxner, Christina and Luijten, Gijs and Jin, Yuan and Ambigapathy, Narmada, and others},"
     ]
    },
    {
     "name": "stderr",
     "output_type": "stream",
     "text": [
      "\n"
     ]
    },
    {
     "name": "stdout",
     "output_type": "stream",
     "text": [
      "\n",
      "        journal={arXiv preprint arXiv:2308.16139},"
     ]
    },
    {
     "name": "stderr",
     "output_type": "stream",
     "text": [
      "Converting STL to NPZ:  88%|████████▊ | 35/40 [00:01<00:00, 22.07file/s]"
     ]
    },
    {
     "name": "stdout",
     "output_type": "stream",
     "text": [
      "\n"
     ]
    },
    {
     "name": "stderr",
     "output_type": "stream",
     "text": [
      "\n",
      "Converting STL to NPZ:  95%|█████████▌| 38/40 [00:01<00:00, 21.42file/s]"
     ]
    },
    {
     "name": "stdout",
     "output_type": "stream",
     "text": [
      "        year={2023}\n"
     ]
    },
    {
     "name": "stderr",
     "output_type": "stream",
     "text": [
      "\n"
     ]
    },
    {
     "name": "stdout",
     "output_type": "stream",
     "text": [
      "        }"
     ]
    },
    {
     "name": "stderr",
     "output_type": "stream",
     "text": [
      "Converting STL to NPZ: 100%|██████████| 40/40 [00:01<00:00, 21.53file/s]\n"
     ]
    },
    {
     "name": "stdout",
     "output_type": "stream",
     "text": [
      "\n",
      "\n",
      "        PLEASE USE the def dataset_info(self, bucket_name: str) to find the proper citation alongside MedShapeNet when utilizing a dataset for your resarch project.\n",
      "        \n",
      "Connection to MinIO server successful.\n",
      "\n",
      "Download directory already exists at: E:\\OneDrive\\Article_projects\\MedShapeNet_OvertakeJianning\\MSN_NEW_S3_PIP_INSTALL\\Github\\MedShapeNet2.0\\Samples\\GettingStarted\\msn_downloads\n",
      "\n"
     ]
    },
    {
     "name": "stderr",
     "output_type": "stream",
     "text": [
      "\n",
      "Downloading and processing files:   0%|          | 0/43 [00:00<?, ?file/s]"
     ]
    },
    {
     "name": "stdout",
     "output_type": "stream",
     "text": [
      "        This message only displays once when importing MedShapeNet for the first time."
     ]
    },
    {
     "name": "stderr",
     "output_type": "stream",
     "text": [
      "\n"
     ]
    },
    {
     "name": "stdout",
     "output_type": "stream",
     "text": [
      "\n"
     ]
    },
    {
     "name": "stderr",
     "output_type": "stream",
     "text": [
      "Downloading and processing files:   9%|▉         | 4/43 [00:00<00:02, 17.43file/s]"
     ]
    },
    {
     "name": "stdout",
     "output_type": "stream",
     "text": [
      "\n"
     ]
    },
    {
     "name": "stderr",
     "output_type": "stream",
     "text": [
      "\n",
      "Downloading and processing files:  19%|█▊        | 8/43 [00:00<00:02, 16.20file/s]"
     ]
    },
    {
     "name": "stdout",
     "output_type": "stream",
     "text": [
      "        MedShapeNet API is under construction, more functionality will come soon!"
     ]
    },
    {
     "name": "stderr",
     "output_type": "stream",
     "text": [
      "\n"
     ]
    },
    {
     "name": "stdout",
     "output_type": "stream",
     "text": [
      "\n"
     ]
    },
    {
     "name": "stderr",
     "output_type": "stream",
     "text": [
      "Downloading and processing files:  28%|██▊       | 12/43 [00:00<00:01, 16.03file/s]"
     ]
    },
    {
     "name": "stdout",
     "output_type": "stream",
     "text": [
      "\n"
     ]
    },
    {
     "name": "stderr",
     "output_type": "stream",
     "text": [
      "\n",
      "Downloading and processing files:  37%|███▋      | 16/43 [00:00<00:01, 16.98file/s]"
     ]
    },
    {
     "name": "stdout",
     "output_type": "stream",
     "text": [
      "        For information use MedShapeNet.msn_help()."
     ]
    },
    {
     "name": "stderr",
     "output_type": "stream",
     "text": [
      "\n"
     ]
    },
    {
     "name": "stdout",
     "output_type": "stream",
     "text": [
      "\n",
      "        Alternatively, check the GitHub Page: https://github.com/GLARKI/MedShapeNet2.0"
     ]
    },
    {
     "name": "stderr",
     "output_type": "stream",
     "text": [
      "Downloading and processing files:  42%|████▏     | 18/43 [00:01<00:01, 16.11file/s]\n"
     ]
    },
    {
     "name": "stdout",
     "output_type": "stream",
     "text": [
      "\n",
      "\n"
     ]
    },
    {
     "name": "stderr",
     "output_type": "stream",
     "text": [
      "Downloading and processing files:  49%|████▉     | 21/43 [00:01<00:01, 14.57file/s]"
     ]
    },
    {
     "name": "stderr",
     "output_type": "stream",
     "text": [
      "\n"
     ]
    },
    {
     "name": "stdout",
     "output_type": "stream",
     "text": [
      "        PLEASE CITE US If you used MedShapeNet API for your (research) project:"
     ]
    },
    {
     "name": "stderr",
     "output_type": "stream",
     "text": [
      "Downloading and processing files:  56%|█████▌    | 24/43 [00:01<00:01, 17.35file/s]"
     ]
    },
    {
     "name": "stdout",
     "output_type": "stream",
     "text": [
      "\n",
      "        "
     ]
    },
    {
     "name": "stderr",
     "output_type": "stream",
     "text": [
      "\n"
     ]
    },
    {
     "name": "stdout",
     "output_type": "stream",
     "text": [
      "\n"
     ]
    },
    {
     "name": "stderr",
     "output_type": "stream",
     "text": [
      "Downloading and processing files:  60%|██████    | 26/43 [00:01<00:01, 13.69file/s]\n"
     ]
    },
    {
     "name": "stdout",
     "output_type": "stream",
     "text": [
      "        @article{li2023medshapenet,\n"
     ]
    },
    {
     "name": "stderr",
     "output_type": "stream",
     "text": [
      "Downloading and processing files:  67%|██████▋   | 29/43 [00:01<00:00, 15.64file/s]"
     ]
    },
    {
     "name": "stdout",
     "output_type": "stream",
     "text": [
      "        title={MedShapeNet--A Large-Scale Dataset of 3D Medical Shapes for Computer Vision},"
     ]
    },
    {
     "name": "stderr",
     "output_type": "stream",
     "text": [
      "\n"
     ]
    },
    {
     "name": "stdout",
     "output_type": "stream",
     "text": [
      "\n"
     ]
    },
    {
     "name": "stderr",
     "output_type": "stream",
     "text": [
      "Downloading and processing files:  72%|███████▏  | 31/43 [00:02<00:00, 14.61file/s]\n"
     ]
    },
    {
     "name": "stdout",
     "output_type": "stream",
     "text": [
      "        author={Li, Jianning and Pepe, Antonio and Gsaxner, Christina and Luijten, Gijs and Jin, Yuan and Ambigapathy, Narmada, and others},\n"
     ]
    },
    {
     "name": "stderr",
     "output_type": "stream",
     "text": [
      "Downloading and processing files:  77%|███████▋  | 33/43 [00:02<00:00, 15.28file/s]"
     ]
    },
    {
     "name": "stdout",
     "output_type": "stream",
     "text": [
      "        journal={arXiv preprint arXiv:2308.16139},"
     ]
    },
    {
     "name": "stderr",
     "output_type": "stream",
     "text": [
      "\n",
      "Downloading and processing files:  81%|████████▏ | 35/43 [00:02<00:00, 14.64file/s]"
     ]
    },
    {
     "name": "stdout",
     "output_type": "stream",
     "text": [
      "\n"
     ]
    },
    {
     "name": "stderr",
     "output_type": "stream",
     "text": [
      "\n"
     ]
    },
    {
     "name": "stdout",
     "output_type": "stream",
     "text": [
      "        year={2023}"
     ]
    },
    {
     "name": "stderr",
     "output_type": "stream",
     "text": [
      "Downloading and processing files:  86%|████████▌ | 37/43 [00:02<00:00, 15.50file/s]\n"
     ]
    },
    {
     "name": "stdout",
     "output_type": "stream",
     "text": [
      "\n",
      "        }"
     ]
    },
    {
     "name": "stderr",
     "output_type": "stream",
     "text": [
      "Downloading and processing files:  91%|█████████ | 39/43 [00:02<00:00, 14.71file/s]\n"
     ]
    },
    {
     "name": "stdout",
     "output_type": "stream",
     "text": [
      "\n"
     ]
    },
    {
     "name": "stderr",
     "output_type": "stream",
     "text": [
      "Downloading and processing files:  95%|█████████▌| 41/43 [00:02<00:00, 15.65file/s]"
     ]
    },
    {
     "name": "stdout",
     "output_type": "stream",
     "text": [
      "\n"
     ]
    },
    {
     "name": "stderr",
     "output_type": "stream",
     "text": [
      "\n"
     ]
    },
    {
     "name": "stdout",
     "output_type": "stream",
     "text": [
      "        PLEASE USE the def dataset_info(self, bucket_name: str) to find the proper citation alongside MedShapeNet when utilizing a dataset for your resarch project."
     ]
    },
    {
     "name": "stderr",
     "output_type": "stream",
     "text": [
      "Downloading and processing files: 100%|██████████| 43/43 [00:02<00:00, 15.66file/s]"
     ]
    },
    {
     "name": "stdout",
     "output_type": "stream",
     "text": [
      "\n",
      "        "
     ]
    },
    {
     "name": "stderr",
     "output_type": "stream",
     "text": [
      "\n"
     ]
    },
    {
     "name": "stdout",
     "output_type": "stream",
     "text": [
      "\n"
     ]
    },
    {
     "name": "stderr",
     "output_type": "stream",
     "text": [
      "Downloading and processing files: 100%|██████████| 43/43 [00:02<00:00, 15.55file/s]\n"
     ]
    },
    {
     "name": "stdout",
     "output_type": "stream",
     "text": [
      "Connection to MinIO server successful.\n",
      "\n",
      "Download directory already exists at: E:\\OneDrive\\Article_projects\\MedShapeNet_OvertakeJianning\\MSN_NEW_S3_PIP_INSTALL\\Github\\MedShapeNet2.0\\Samples\\GettingStarted\\msn_downloads\n",
      "Dataset asoca2 STL files converted to NumPy masks with 0 failures.\n",
      "Other files (licence, citation and labels) and all STL files are stored in msn_downloads\\asoca2\\masks_numpy.\n",
      "________________________________________________________________________________\n",
      "\n",
      "DATASET: asoca2\n",
      "\n",
      "\n",
      "CITATION INFO:\n",
      "Please cite the challenge manuscript and data descriptor:\n",
      "\n",
      "\n",
      "\n",
      "\n",
      "\n",
      "R. Gharleghi et al., ‘Automated segmentation of normal and diseased coronary arteries – The ASOCA challenge’, Computerized Medical Imaging and Graphics, vol. 97, p. 102049, 2022, doi: https://doi.org/10.1016/j.compmedimag.2022.102049\n",
      "\n",
      "\n",
      "\n",
      "R. Gharleghi et al. \"Annotated computed tomography coronary angiogram images and associated data of normal and diseased arteries.\"Scientific Data 10.1 (2023): 128. doi:  https://doi.org/10.1038/s41597-023-02016-2\n",
      "\n",
      "\n",
      "\n",
      "\n",
      "\n",
      "Bibtex:\n",
      "\n",
      "@article{gharleghi2022automated,\n",
      "\n",
      "\ttitle        = {Automated segmentation of normal and diseased coronary arteries – The ASOCA challenge},\n",
      "\n",
      "\tauthor       = {Ramtin Gharleghi and Dona Adikari and Katy Ellenberger and Sze-Yuan Ooi and Chris Ellis and Chung-Ming Chen and Ruochen Gao and Yuting He and Raabid Hussain and Chia-Yen Lee and Jun Li and Jun Ma and Ziwei Nie and Bruno Oliveira and Yaolei Qi and Youssef Skandarani and João L. Vilaça and Xiyue Wang and Sen Yang and Arcot Sowmya and Susann Beier},\n",
      "\n",
      "\tyear         = 2022,\n",
      "\n",
      "\tjournal      = {Computerized Medical Imaging and Graphics},\n",
      "\n",
      "\tvolume       = 97,\n",
      "\n",
      "\tpages        = 102049,\n",
      "\n",
      "\tdoi          = {https://doi.org/10.1016/j.compmedimag.2022.102049},\n",
      "\n",
      "\tissn         = {0895-6111},\n",
      "\n",
      "\turl          = {https://www.sciencedirect.com/science/article/pii/S0895611122000222},\n",
      "\n",
      "\tkeywords     = {Coronary arteries, Image segmentation, Machine learning}\n",
      "\n",
      "}\n",
      "\n",
      "@article{gharleghi2023annotated,\n",
      "\n",
      "  title={Annotated computed tomography coronary angiogram images and associated data of normal and diseased arteries},\n",
      "\n",
      "  author={Gharleghi, R and Adikari, D and Ellenberger, K and Webster, M and Ellis, C and Sowmya, A and Ooi, S and Beier, S},\n",
      "\n",
      "  journal={Scientific Data},\n",
      "\n",
      "  volume={10},\n",
      "\n",
      "  number={1},\n",
      "\n",
      "  pages={128},\n",
      "\n",
      "  year={2023},\n",
      "\n",
      "  publisher={Nature Publishing Group UK London}\n",
      "\n",
      "}\n",
      "\n",
      "LICENCE INFO:\n",
      "The author of this work allowed this data to be part of the work done for https://arxiv.org/pdf/2308.16139, i.e., MedShapeNet and its API.\n",
      "\n",
      "You can use it within the API for learning and testing purposes.\n",
      "\n",
      "\n",
      "\n",
      "If you plan on using this work for publication or further distribution.\n",
      "\n",
      "Please get in touch with the original owner of the data via the contact form at https://asoca.grand-challenge.org/access/\n",
      "\n",
      "\n",
      "\n",
      "Total .txt files (how to cite, license file):                    2\n",
      "Total .json files (labels, if in dataset as json):               1\n",
      "Total .stl files (shapes):                                      40\n",
      "\n",
      "\n",
      "            THANK YOU FOR USING MedShapeNet  2.0 API\n",
      "            If you used MedShapeNet within your research please CITE:\n",
      "                @article{li2023medshapenet,\n",
      "                title={MedShapeNet--A Large-Scale Dataset of 3D Medical Shapes for Computer Vision},\n",
      "                author={Li, Jianning and Pepe, Antonio and Gsaxner, Christina and Luijten, Gijs and Jin, Yuan and \n",
      "                Ambigapathy, Narmada and Nasca, Enrico and Solak, Naida and Melito, Gian Marco and Memon, Afaque R and others},\n",
      "                journal={arXiv preprint arXiv:2308.16139},\n",
      "                year={2023}}\n",
      "            THANK YOU AGAIN, ALL FEEDBACK IS WELCOME AT https://github.com/GLARKI/MedShapeNet2.0 or email me https://ait.ikim.nrw/authors/gijs-luijten/ !!!\n",
      "            \n",
      "________________________________________________________________________________\n"
     ]
    }
   ],
   "source": [
    "# download a dataset (stls)\n",
    "!msn download_dataset --dataset_name 'ASOCA'\n",
    "\n",
    "# convert an already downloaded dataset to numpy masks\n",
    "!msn dataset_stl_to_npz --dataset 'ASOCA' \n",
    "\n",
    "# download a dataset directly as numpy masks\n",
    "!msn download_dataset_masks --dataset_name 'ASOCA'\n"
   ]
  },
  {
   "cell_type": "code",
   "execution_count": 26,
   "metadata": {},
   "outputs": [
    {
     "name": "stdout",
     "output_type": "stream",
     "text": [
      "\n",
      "        This message only displays once when importing MedShapeNet for the first time.\n",
      "\n",
      "        MedShapeNet API is under construction, more functionality will come soon!\n",
      "\n",
      "        For information use MedShapeNet.msn_help().\n",
      "        Alternatively, check the GitHub Page: https://github.com/GLARKI/MedShapeNet2.0\n"
     ]
    },
    {
     "name": "stdout",
     "output_type": "stream",
     "text": [
      "\n",
      "        PLEASE CITE US If you used MedShapeNet API for your (research) project:\n",
      "        \n",
      "        @article{li2023medshapenet,\n",
      "        title={MedShapeNet--A Large-Scale Dataset of 3D Medical Shapes for Computer Vision},\n",
      "        author={Li, Jianning and Pepe, Antonio and Gsaxner, Christina and Luijten, Gijs and Jin, Yuan and Ambigapathy, Narmada, and others},\n",
      "        journal={arXiv preprint arXiv:2308.16139},\n",
      "        year={2023}\n",
      "        }\n",
      "\n",
      "        PLEASE USE the def dataset_info(self, bucket_name: str) to find the proper citation alongside MedShapeNet when utilizing a dataset for your resarch project.\n",
      "        \n",
      "Connection to MinIO server successful.\n",
      "\n",
      "Download directory already exists at: E:\\OneDrive\\Article_projects\\MedShapeNet_OvertakeJianning\\MSN_NEW_S3_PIP_INSTALL\\Github\\MedShapeNet2.0\\Samples\\GettingStarted\\msn_downloads\n",
      "________________________________________________________________________________\n",
      "\n",
      "DATASET: asoca1\n",
      "\n",
      "\n",
      "CITATION INFO:\n",
      "Please cite the challenge manuscript and data descriptor:\n",
      "\n",
      "\n",
      "\n",
      "\n",
      "\n",
      "R. Gharleghi et al., ‘Automated segmentation of normal and diseased coronary arteries – The ASOCA challenge’, Computerized Medical Imaging and Graphics, vol. 97, p. 102049, 2022, doi: https://doi.org/10.1016/j.compmedimag.2022.102049\n",
      "\n",
      "\n",
      "\n",
      "R. Gharleghi et al. \"Annotated computed tomography coronary angiogram images and associated data of normal and diseased arteries.\"Scientific Data 10.1 (2023): 128. doi:  https://doi.org/10.1038/s41597-023-02016-2\n",
      "\n",
      "\n",
      "\n",
      "\n",
      "\n",
      "Bibtex:\n",
      "\n",
      "@article{gharleghi2022automated,\n",
      "\n",
      "\ttitle        = {Automated segmentation of normal and diseased coronary arteries – The ASOCA challenge},\n",
      "\n",
      "\tauthor       = {Ramtin Gharleghi and Dona Adikari and Katy Ellenberger and Sze-Yuan Ooi and Chris Ellis and Chung-Ming Chen and Ruochen Gao and Yuting He and Raabid Hussain and Chia-Yen Lee and Jun Li and Jun Ma and Ziwei Nie and Bruno Oliveira and Yaolei Qi and Youssef Skandarani and João L. Vilaça and Xiyue Wang and Sen Yang and Arcot Sowmya and Susann Beier},\n",
      "\n",
      "\tyear         = 2022,\n",
      "\n",
      "\tjournal      = {Computerized Medical Imaging and Graphics},\n",
      "\n",
      "\tvolume       = 97,\n",
      "\n",
      "\tpages        = 102049,\n",
      "\n",
      "\tdoi          = {https://doi.org/10.1016/j.compmedimag.2022.102049},\n",
      "\n",
      "\tissn         = {0895-6111},\n",
      "\n",
      "\turl          = {https://www.sciencedirect.com/science/article/pii/S0895611122000222},\n",
      "\n",
      "\tkeywords     = {Coronary arteries, Image segmentation, Machine learning}\n",
      "\n",
      "}\n",
      "\n",
      "@article{gharleghi2023annotated,\n",
      "\n",
      "  title={Annotated computed tomography coronary angiogram images and associated data of normal and diseased arteries},\n",
      "\n",
      "  author={Gharleghi, R and Adikari, D and Ellenberger, K and Webster, M and Ellis, C and Sowmya, A and Ooi, S and Beier, S},\n",
      "\n",
      "  journal={Scientific Data},\n",
      "\n",
      "  volume={10},\n",
      "\n",
      "  number={1},\n",
      "\n",
      "  pages={128},\n",
      "\n",
      "  year={2023},\n",
      "\n",
      "  publisher={Nature Publishing Group UK London}\n",
      "\n",
      "}\n",
      "\n",
      "LICENCE INFO:\n",
      "The author of this work allowed this data to be part of the work done for https://arxiv.org/pdf/2308.16139, i.e., MedShapeNet and its API.\n",
      "\n",
      "You can use it within the API for learning and testing purposes.\n",
      "\n",
      "\n",
      "\n",
      "If you plan on using this work for publication or further distribution.\n",
      "\n",
      "Please get in touch with the original owner of the data via the contact form at https://asoca.grand-challenge.org/access/\n",
      "\n",
      "\n",
      "\n",
      "Total .txt files (how to cite, license file):                    2\n",
      "Total .json files (labels, if in dataset as json):               1\n",
      "Total .stl files (shapes):                                      40\n",
      "\n",
      "\n",
      "            THANK YOU FOR USING MedShapeNet  2.0 API\n",
      "            If you used MedShapeNet within your research please CITE:\n",
      "                @article{li2023medshapenet,\n",
      "                title={MedShapeNet--A Large-Scale Dataset of 3D Medical Shapes for Computer Vision},\n",
      "                author={Li, Jianning and Pepe, Antonio and Gsaxner, Christina and Luijten, Gijs and Jin, Yuan and \n",
      "                Ambigapathy, Narmada and Nasca, Enrico and Solak, Naida and Melito, Gian Marco and Memon, Afaque R and others},\n",
      "                journal={arXiv preprint arXiv:2308.16139},\n",
      "                year={2023}}\n",
      "            THANK YOU AGAIN, ALL FEEDBACK IS WELCOME AT https://github.com/GLARKI/MedShapeNet2.0 or email me https://ait.ikim.nrw/authors/gijs-luijten/ !!!\n",
      "            \n",
      "________________________________________________________________________________\n"
     ]
    }
   ],
   "source": [
    "# Get info (licence, citation, number and type of files) of the dataset\n",
    "!msn dataset_info --bucket_name 'ASOCA'"
   ]
  },
  {
   "cell_type": "code",
   "execution_count": 27,
   "metadata": {},
   "outputs": [
    {
     "name": "stdout",
     "output_type": "stream",
     "text": [
      "\n",
      "        This message only displays once when importing MedShapeNet for the first time.\n",
      "\n",
      "        MedShapeNet API is under construction, more functionality will come soon!\n",
      "\n",
      "        For information use MedShapeNet.msn_help().\n",
      "        Alternatively, check the GitHub Page: https://github.com/GLARKI/MedShapeNet2.0\n",
      "\n",
      "        PLEASE CITE US If you used MedShapeNet API for your (research) project:\n",
      "        \n",
      "        @article{li2023medshapenet,\n",
      "        title={MedShapeNet--A Large-Scale Dataset of 3D Medical Shapes for Computer Vision},\n",
      "        author={Li, Jianning and Pepe, Antonio and Gsaxner, Christina and Luijten, Gijs and Jin, Yuan and Ambigapathy, Narmada, and others},\n",
      "        journal={arXiv preprint arXiv:2308.16139},\n",
      "        year={2023}\n",
      "        }\n",
      "\n",
      "        PLEASE USE the def dataset_info(self, bucket_name: str) to find the proper citation alongside MedShapeNet when utilizing a dataset for your resarch project.\n",
      "        \n",
      "Connection to MinIO server successful.\n",
      "\n",
      "Download directory already exists at: E:\\OneDrive\\Article_projects\\MedShapeNet_OvertakeJianning\\MSN_NEW_S3_PIP_INSTALL\\Github\\MedShapeNet2.0\\Samples\\GettingStarted\\msn_downloads\n",
      "CoronaryArtery_0.stl\n",
      "CoronaryArtery_1.stl\n",
      "CoronaryArtery_10.stl\n",
      "CoronaryArtery_11.stl\n",
      "CoronaryArtery_12.stl\n",
      "CoronaryArtery_13.stl\n",
      "CoronaryArtery_14.stl\n",
      "CoronaryArtery_15.stl\n",
      "CoronaryArtery_16.stl\n",
      "CoronaryArtery_17.stl\n",
      "CoronaryArtery_18.stl\n",
      "CoronaryArtery_19.stl\n",
      "CoronaryArtery_2.stl\n",
      "CoronaryArtery_20.stl\n",
      "CoronaryArtery_21.stl\n",
      "CoronaryArtery_22.stl\n",
      "CoronaryArtery_23.stl\n",
      "CoronaryArtery_24.stl\n",
      "CoronaryArtery_25.stl\n",
      "CoronaryArtery_26.stl\n",
      "CoronaryArtery_27.stl\n",
      "CoronaryArtery_28.stl\n",
      "CoronaryArtery_29.stl\n",
      "CoronaryArtery_3.stl\n",
      "CoronaryArtery_30.stl\n",
      "CoronaryArtery_31.stl\n",
      "CoronaryArtery_32.stl\n",
      "CoronaryArtery_33.stl\n",
      "CoronaryArtery_34.stl\n",
      "CoronaryArtery_35.stl\n",
      "CoronaryArtery_36.stl\n",
      "CoronaryArtery_37.stl\n",
      "CoronaryArtery_38.stl\n",
      "CoronaryArtery_39.stl\n",
      "CoronaryArtery_4.stl\n",
      "CoronaryArtery_5.stl\n",
      "CoronaryArtery_6.stl\n",
      "CoronaryArtery_7.stl\n",
      "CoronaryArtery_8.stl\n",
      "CoronaryArtery_9.stl\n",
      "asoca_cite.txt\n",
      "asoca_labels.json\n",
      "asoca_licence.txt\n",
      "\n",
      "        This message only displays once when importing MedShapeNet for the first time.\n",
      "\n",
      "        MedShapeNet API is under construction, more functionality will come soon!\n",
      "\n",
      "        For information use MedShapeNet.msn_help().\n",
      "        Alternatively, check the GitHub Page: https://github.com/GLARKI/MedShapeNet2.0\n",
      "\n",
      "        PLEASE CITE US If you used MedShapeNet API for your (research) project:\n",
      "        \n",
      "        @article{li2023medshapenet,\n",
      "        title={MedShapeNet--A Large-Scale Dataset of 3D Medical Shapes for Computer Vision},\n",
      "        author={Li, Jianning and Pepe, Antonio and Gsaxner, Christina and Luijten, Gijs and Jin, Yuan and Ambigapathy, Narmada, and others},\n",
      "        journal={arXiv preprint arXiv:2308.16139},\n",
      "        year={2023}\n",
      "        }\n",
      "\n",
      "        PLEASE USE the def dataset_info(self, bucket_name: str) to find the proper citation alongside MedShapeNet when utilizing a dataset for your resarch project.\n",
      "        \n",
      "Connection to MinIO server successful.\n",
      "\n",
      "Download directory already exists at: E:\\OneDrive\\Article_projects\\MedShapeNet_OvertakeJianning\\MSN_NEW_S3_PIP_INSTALL\\Github\\MedShapeNet2.0\\Samples\\GettingStarted\\msn_downloads\n",
      "'CoronaryArtery_3.stl', from dataset 'asoca1', successfully downloaded to 'msn_downloads\\asoca1\\CoronaryArtery_3.stl'\n",
      "\n",
      "        This message only displays once when importing MedShapeNet for the first time.\n",
      "\n",
      "        MedShapeNet API is under construction, more functionality will come soon!\n",
      "\n",
      "        For information use MedShapeNet.msn_help().\n",
      "        Alternatively, check the GitHub Page: https://github.com/GLARKI/MedShapeNet2.0\n",
      "\n",
      "        PLEASE CITE US If you used MedShapeNet API for your (research) project:\n",
      "        \n",
      "        @article{li2023medshapenet,\n",
      "        title={MedShapeNet--A Large-Scale Dataset of 3D Medical Shapes for Computer Vision},\n",
      "        author={Li, Jianning and Pepe, Antonio and Gsaxner, Christina and Luijten, Gijs and Jin, Yuan and Ambigapathy, Narmada, and others},\n",
      "        journal={arXiv preprint arXiv:2308.16139},\n",
      "        year={2023}\n",
      "        }\n",
      "\n",
      "        PLEASE USE the def dataset_info(self, bucket_name: str) to find the proper citation alongside MedShapeNet when utilizing a dataset for your resarch project.\n",
      "        \n",
      "Connection to MinIO server successful.\n",
      "\n",
      "Download directory already exists at: E:\\OneDrive\\Article_projects\\MedShapeNet_OvertakeJianning\\MSN_NEW_S3_PIP_INSTALL\\Github\\MedShapeNet2.0\\Samples\\GettingStarted\\msn_downloads\n",
      "Successfully converted msn_downloads\\asoca1\\CoronaryArtery_3.stl to msn_downloads\\asoca1\\CoronaryArtery_3.npz\n",
      "\n",
      "        This message only displays once when importing MedShapeNet for the first time.\n",
      "\n",
      "        MedShapeNet API is under construction, more functionality will come soon!\n",
      "\n",
      "        For information use MedShapeNet.msn_help().\n",
      "        Alternatively, check the GitHub Page: https://github.com/GLARKI/MedShapeNet2.0\n",
      "\n",
      "        PLEASE CITE US If you used MedShapeNet API for your (research) project:\n",
      "        \n"
     ]
    },
    {
     "name": "stdout",
     "output_type": "stream",
     "text": [
      "        @article{li2023medshapenet,\n",
      "        title={MedShapeNet--A Large-Scale Dataset of 3D Medical Shapes for Computer Vision},\n",
      "        author={Li, Jianning and Pepe, Antonio and Gsaxner, Christina and Luijten, Gijs and Jin, Yuan and Ambigapathy, Narmada, and others},\n",
      "        journal={arXiv preprint arXiv:2308.16139},\n",
      "        year={2023}\n",
      "        }\n",
      "\n",
      "        PLEASE USE the def dataset_info(self, bucket_name: str) to find the proper citation alongside MedShapeNet when utilizing a dataset for your resarch project.\n",
      "        \n",
      "Connection to MinIO server successful.\n",
      "\n",
      "Download directory already exists at: E:\\OneDrive\\Article_projects\\MedShapeNet_OvertakeJianning\\MSN_NEW_S3_PIP_INSTALL\\Github\\MedShapeNet2.0\\Samples\\GettingStarted\\msn_downloads\n",
      "Downloaded and converted STL: CoronaryArtery_3.stl -> to numpy, from dataset: asoca1 and stored in: msn_downloads\\asoca1\\masks_numpy\\CoronaryArtery_3.npz\n"
     ]
    }
   ],
   "source": [
    "# Print and store a list of files of the dataset (incl. print statements) in a json file\n",
    "!msn dataset_files --bucket_name 'ASOCA' --print_output False\n",
    "\n",
    "# Note: You can use all similar tags as the classical methods such as \"--extension '.stl'\"\n",
    "!msn dataset_files --bucket_name 'ASOCA' --print_output False > dataset_files.json\n",
    "\n",
    "# download a single file from the dataset\n",
    "!msn download_file --bucket_name 'ASOCA' --object_name '3_CoronaryArtery.stl'\n",
    "\n",
    "# convert an already downloaded stl to numpy mask\n",
    "!msn stl_to_npz --stl_file r'msn_downloads\\ASOCA\\3_CoronaryArtery.stl' --npz_file r'msn_downloads\\ASOCA\\3_CoronaryArtery.npz'\n",
    "\n",
    "# download a single file from the dataset as numpy mask\n",
    "!msn download_stl_as_numpy --bucket_name 'ASOCA' --stl_file '3_CoronaryArtery.stl'\n"
   ]
  },
  {
   "cell_type": "markdown",
   "metadata": {
    "vscode": {
     "languageId": "shellscript"
    }
   },
   "source": [
    "# Clean up the temp_env and files\n",
    "- Only run if you want to delete the files and environment"
   ]
  },
  {
   "cell_type": "code",
   "execution_count": 32,
   "metadata": {},
   "outputs": [
    {
     "name": "stdout",
     "output_type": "stream",
     "text": [
      " \n",
      "    Deleted file: dataset_masks\n",
      "    Deleted file: downloaded_files\n",
      "    Deleted file: faces\n",
      "    Deleted file: msn_downloads\n",
      "    Deleted file: single_downloads_from_url\n",
      "    Deleted file: single_masks\n",
      "    Deleted file: dataset_files.json\n",
      "    Deleted file: dataset_list.json\n",
      "    Deleted file: face_result.json\n",
      "    \n"
     ]
    }
   ],
   "source": [
    "# Remove the created files\n",
    "import os\n",
    "import shutil\n",
    "\n",
    "# List of folders to delete\n",
    "folders_to_delete = [\n",
    "    'dataset_masks',\n",
    "    'downloaded_files',\n",
    "    'faces',\n",
    "    'msn_downloads',\n",
    "    'single_downloads_from_url',  # fixed typo: removed space after 'from'\n",
    "    'single_masks'\n",
    "]\n",
    "\n",
    "# List of files to delete\n",
    "files_to_delete = [\n",
    "    'dataset_files.json',\n",
    "    'dataset_list.json',\n",
    "    'face_result.json'\n",
    "]\n",
    "\n",
    "# Remove folders\n",
    "for folder in folders_to_delete:\n",
    "    if os.path.exists(folder):\n",
    "        shutil.rmtree(folder)\n",
    "        print(f\"Deleted folder: {folder}\")\n",
    "    else:\n",
    "        print(f\"Folder does not exist: {folder}\")\n",
    "\n",
    "# Remove files\n",
    "for file in files_to_delete:\n",
    "    if os.path.exists(file):\n",
    "        os.remove(file)\n",
    "        print(f\"Deleted file: {file}\")\n",
    "    else:\n",
    "        print(f\"File does not exist: {file}\")\n"
   ]
  },
  {
   "cell_type": "code",
   "execution_count": 2,
   "metadata": {
    "vscode": {
     "languageId": "shellscript"
    }
   },
   "outputs": [
    {
     "name": "stdout",
     "output_type": "stream",
     "text": [
      "Please deactivet the environment first by selecting another enviornment\n"
     ]
    }
   ],
   "source": [
    "# Remove the Conda environment named temp_env\n",
    "\n",
    "# Deactive the environment first by selecting another enviornment\n",
    "print('Please deactivet the environment first by selecting another enviornment')\n",
    "!conda env remove --name temp_env --yes"
   ]
  }
 ],
 "metadata": {
  "kernelspec": {
   "display_name": "base",
   "language": "python",
   "name": "python3"
  },
  "language_info": {
   "codemirror_mode": {
    "name": "ipython",
    "version": 3
   },
   "file_extension": ".py",
   "mimetype": "text/x-python",
   "name": "python",
   "nbconvert_exporter": "python",
   "pygments_lexer": "ipython3",
   "version": "3.9.13"
  }
 },
 "nbformat": 4,
 "nbformat_minor": 2
}

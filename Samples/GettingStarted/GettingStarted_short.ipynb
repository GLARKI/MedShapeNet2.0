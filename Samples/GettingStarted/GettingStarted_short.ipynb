{
 "cells": [
  {
   "cell_type": "markdown",
   "metadata": {},
   "source": [
    "# Getting Started with MedShapenet\n",
    "Step One:\n",
    "- Create an environment or install Medshapenet it an existing one. <br>\n",
    "- If you want to create a new one you can run the following cell, and activate the environment manually.<br>\n",
    "    - If you are using VS code: <br> \n",
    "        - upper right corner or cntrl+p -> >python: Select Interpreter VS code\n",
    "        - Restart VS code if the environment does not show up."
   ]
  },
  {
   "cell_type": "code",
   "execution_count": 1,
   "metadata": {},
   "outputs": [
    {
     "name": "stdout",
     "output_type": "stream",
     "text": [
      "Collecting package metadata (current_repodata.json): done\n",
      "Solving environment: done\n",
      "\n",
      "\n",
      "==> WARNING: A newer version of conda exists. <==\n",
      "  current version: 4.10.1\n",
      "  latest version: 24.9.1\n",
      "\n",
      "Please update conda by running\n",
      "\n",
      "    $ conda update -n base -c defaults conda\n",
      "\n",
      "\n",
      "\n",
      "## Package Plan ##\n",
      "\n",
      "  environment location: /Users/jana/opt/anaconda3/envs/temp_env\n",
      "\n",
      "  added / updated specs:\n",
      "    - ipykernel\n",
      "    - python=3.11\n",
      "\n",
      "\n",
      "The following packages will be downloaded:\n",
      "\n",
      "    package                    |            build\n",
      "    ---------------------------|-----------------\n",
      "    python-3.11.10             |       h4d6d9e5_0        15.7 MB\n",
      "    ------------------------------------------------------------\n",
      "                                           Total:        15.7 MB\n",
      "\n",
      "The following NEW packages will be INSTALLED:\n",
      "\n",
      "  appnope            pkgs/main/osx-64::appnope-0.1.2-py311hecd8cb5_1001\n",
      "  asttokens          pkgs/main/noarch::asttokens-2.0.5-pyhd3eb1b0_0\n",
      "  bzip2              pkgs/main/osx-64::bzip2-1.0.8-h6c40b1e_6\n",
      "  ca-certificates    pkgs/main/osx-64::ca-certificates-2024.9.24-hecd8cb5_0\n",
      "  comm               pkgs/main/osx-64::comm-0.2.1-py311hecd8cb5_0\n",
      "  debugpy            pkgs/main/osx-64::debugpy-1.6.7-py311hcec6c5f_0\n",
      "  decorator          pkgs/main/noarch::decorator-5.1.1-pyhd3eb1b0_0\n",
      "  executing          pkgs/main/noarch::executing-0.8.3-pyhd3eb1b0_0\n",
      "  ipykernel          pkgs/main/osx-64::ipykernel-6.28.0-py311hecd8cb5_0\n",
      "  ipython            pkgs/main/osx-64::ipython-8.27.0-py311hecd8cb5_0\n",
      "  jedi               pkgs/main/osx-64::jedi-0.19.1-py311hecd8cb5_0\n",
      "  jupyter_client     pkgs/main/osx-64::jupyter_client-8.6.0-py311hecd8cb5_0\n",
      "  jupyter_core       pkgs/main/osx-64::jupyter_core-5.7.2-py311hecd8cb5_0\n",
      "  libcxx             pkgs/main/osx-64::libcxx-14.0.6-h9765a3e_0\n",
      "  libffi             pkgs/main/osx-64::libffi-3.4.4-hecd8cb5_1\n",
      "  libsodium          pkgs/main/osx-64::libsodium-1.0.18-h1de35cc_0\n",
      "  matplotlib-inline  pkgs/main/osx-64::matplotlib-inline-0.1.6-py311hecd8cb5_0\n",
      "  ncurses            pkgs/main/osx-64::ncurses-6.4-hcec6c5f_0\n",
      "  nest-asyncio       pkgs/main/osx-64::nest-asyncio-1.6.0-py311hecd8cb5_0\n",
      "  openssl            pkgs/main/osx-64::openssl-3.0.15-h46256e1_0\n",
      "  packaging          pkgs/main/osx-64::packaging-24.1-py311hecd8cb5_0\n",
      "  parso              pkgs/main/noarch::parso-0.8.3-pyhd3eb1b0_0\n",
      "  pexpect            pkgs/main/noarch::pexpect-4.8.0-pyhd3eb1b0_3\n",
      "  pip                pkgs/main/osx-64::pip-24.2-py311hecd8cb5_0\n",
      "  platformdirs       pkgs/main/osx-64::platformdirs-3.10.0-py311hecd8cb5_0\n",
      "  prompt-toolkit     pkgs/main/osx-64::prompt-toolkit-3.0.43-py311hecd8cb5_0\n",
      "  prompt_toolkit     pkgs/main/noarch::prompt_toolkit-3.0.43-hd3eb1b0_0\n",
      "  psutil             pkgs/main/osx-64::psutil-5.9.0-py311h6c40b1e_0\n",
      "  ptyprocess         pkgs/main/noarch::ptyprocess-0.7.0-pyhd3eb1b0_2\n",
      "  pure_eval          pkgs/main/noarch::pure_eval-0.2.2-pyhd3eb1b0_0\n",
      "  pygments           pkgs/main/osx-64::pygments-2.15.1-py311hecd8cb5_1\n",
      "  python             pkgs/main/osx-64::python-3.11.10-h4d6d9e5_0\n",
      "  python-dateutil    pkgs/main/osx-64::python-dateutil-2.9.0post0-py311hecd8cb5_2\n",
      "  pyzmq              pkgs/main/osx-64::pyzmq-25.1.2-py311hcec6c5f_0\n",
      "  readline           pkgs/main/osx-64::readline-8.2-hca72f7f_0\n",
      "  setuptools         pkgs/main/osx-64::setuptools-75.1.0-py311hecd8cb5_0\n",
      "  six                pkgs/main/noarch::six-1.16.0-pyhd3eb1b0_1\n",
      "  sqlite             pkgs/main/osx-64::sqlite-3.45.3-h6c40b1e_0\n",
      "  stack_data         pkgs/main/noarch::stack_data-0.2.0-pyhd3eb1b0_0\n",
      "  tk                 pkgs/main/osx-64::tk-8.6.14-h4d00af3_0\n",
      "  tornado            pkgs/main/osx-64::tornado-6.4.1-py311h46256e1_0\n",
      "  traitlets          pkgs/main/osx-64::traitlets-5.14.3-py311hecd8cb5_0\n",
      "  typing_extensions  pkgs/main/osx-64::typing_extensions-4.11.0-py311hecd8cb5_0\n",
      "  tzdata             pkgs/main/noarch::tzdata-2024a-h04d1e81_0\n",
      "  wcwidth            pkgs/main/noarch::wcwidth-0.2.5-pyhd3eb1b0_0\n",
      "  wheel              pkgs/main/osx-64::wheel-0.44.0-py311hecd8cb5_0\n",
      "  xz                 pkgs/main/osx-64::xz-5.4.6-h6c40b1e_1\n",
      "  zeromq             pkgs/main/osx-64::zeromq-4.3.5-hcec6c5f_0\n",
      "  zlib               pkgs/main/osx-64::zlib-1.2.13-h4b97444_1\n",
      "\n",
      "\n",
      "\n",
      "Downloading and Extracting Packages\n",
      "python-3.11.10       | 15.7 MB   | ##################################### | 100% \n",
      "Preparing transaction: done\n",
      "Verifying transaction: done\n",
      "Executing transaction: done\n",
      "#\n",
      "# To activate this environment, use\n",
      "#\n",
      "#     $ conda activate temp_env\n",
      "#\n",
      "# To deactivate an active environment, use\n",
      "#\n",
      "#     $ conda deactivate\n",
      "\n"
     ]
    }
   ],
   "source": [
    "# Create the conda environment with python 3.11 and ipykernel (to allow working in jypnb)\n",
    "!conda create --name temp_env python=3.11 ipykernel --yes"
   ]
  },
  {
   "cell_type": "markdown",
   "metadata": {},
   "source": [
    "Step two: <br>\n",
    "- Check if you have selected the temp_env -> cntrl+p -> >python: Select Interpreter"
   ]
  },
  {
   "cell_type": "code",
   "execution_count": 1,
   "metadata": {},
   "outputs": [
    {
     "name": "stdout",
     "output_type": "stream",
     "text": [
      "Current environment path: /Users/jana/opt/anaconda3/envs/temp_env/bin/python\n",
      "SELECT THE TEMP_ENV AS YOUR INTERPRETER -> cntr + P: python:Select Interpreter\n"
     ]
    }
   ],
   "source": [
    "import sys\n",
    "from pathlib import Path\n",
    "\n",
    "current_env_path = sys.executable\n",
    "print(f\"Current environment path: {current_env_path}\")\n",
    "current_env_path = Path(current_env_path)\n",
    "py_version = !python --version\n",
    "if current_env_path.parts[-2] == 'temp_env':\n",
    "    print(f\"Manual switched to environment '{current_env_path.parts[-2]}' succesfully, python version: {py_version}\")\n",
    "else:\n",
    "    print('SELECT THE TEMP_ENV AS YOUR INTERPRETER -> cntr + P: python:Select Interpreter')"
   ]
  },
  {
   "cell_type": "markdown",
   "metadata": {},
   "source": [
    "Step three:\n",
    "- Install requirements."
   ]
  },
  {
   "cell_type": "code",
   "execution_count": 2,
   "metadata": {},
   "outputs": [
    {
     "name": "stdout",
     "output_type": "stream",
     "text": [
      "0.00s - Debugger warning: It seems that frozen modules are being used, which may\n",
      "0.00s - make the debugger miss breakpoints. Please pass -Xfrozen_modules=off\n",
      "0.00s - to python to disable frozen modules.\n",
      "0.00s - Note: Debugging will proceed. Set PYDEVD_DISABLE_FILE_VALIDATION=1 to disable this validation.\n",
      "Installed kernelspec temp_medshapenet_env in /Users/jana/Library/Jupyter/kernels/temp_medshapenet_env\n",
      "Collecting MedShapeNet\n",
      "  Downloading MedShapeNet-0.1.25-py3-none-any.whl.metadata (5.8 kB)\n",
      "Collecting minio>=7.2.8 (from MedShapeNet)\n",
      "  Using cached minio-7.2.9-py3-none-any.whl.metadata (6.5 kB)\n",
      "Collecting tqdm>=4.66.5 (from MedShapeNet)\n",
      "  Using cached tqdm-4.66.5-py3-none-any.whl.metadata (57 kB)\n",
      "Collecting numpy<1.26.0,>=1.18.5 (from MedShapeNet)\n",
      "  Using cached numpy-1.25.2-cp311-cp311-macosx_10_9_x86_64.whl.metadata (5.6 kB)\n",
      "Collecting numpy-stl>=3.1.2 (from MedShapeNet)\n",
      "  Using cached numpy_stl-3.1.2-py3-none-any.whl.metadata (16 kB)\n",
      "Collecting requests>=2.32.3 (from MedShapeNet)\n",
      "  Using cached requests-2.32.3-py3-none-any.whl.metadata (4.6 kB)\n",
      "Collecting fire>=0.6.0 (from MedShapeNet)\n",
      "  Using cached fire-0.7.0-py3-none-any.whl\n",
      "Collecting trimesh>=4.4.9 (from MedShapeNet)\n",
      "  Using cached trimesh-4.4.9-py3-none-any.whl.metadata (18 kB)\n",
      "Collecting pydicom>=2.2.0 (from MedShapeNet)\n",
      "  Using cached pydicom-3.0.1-py3-none-any.whl.metadata (9.4 kB)\n",
      "Collecting python-gdcm (from MedShapeNet)\n",
      "  Using cached python_gdcm-3.0.24.1-cp311-cp311-macosx_10_9_x86_64.whl.metadata (3.7 kB)\n",
      "Requirement already satisfied: pygments>=2.4.0 in /Users/jana/opt/anaconda3/envs/temp_env/lib/python3.11/site-packages (from MedShapeNet) (2.15.1)\n",
      "Requirement already satisfied: jupyter-core>=4.9.2 in /Users/jana/opt/anaconda3/envs/temp_env/lib/python3.11/site-packages (from MedShapeNet) (5.7.2)\n",
      "Requirement already satisfied: packaging>=17.0 in /Users/jana/opt/anaconda3/envs/temp_env/lib/python3.11/site-packages (from MedShapeNet) (24.1)\n",
      "Requirement already satisfied: traitlets>=5.1.0 in /Users/jana/opt/anaconda3/envs/temp_env/lib/python3.11/site-packages (from MedShapeNet) (5.14.3)\n",
      "Collecting termcolor (from fire>=0.6.0->MedShapeNet)\n",
      "  Using cached termcolor-2.4.0-py3-none-any.whl.metadata (6.1 kB)\n",
      "Requirement already satisfied: platformdirs>=2.5 in /Users/jana/opt/anaconda3/envs/temp_env/lib/python3.11/site-packages (from jupyter-core>=4.9.2->MedShapeNet) (3.10.0)\n",
      "Collecting certifi (from minio>=7.2.8->MedShapeNet)\n",
      "  Using cached certifi-2024.8.30-py3-none-any.whl.metadata (2.2 kB)\n",
      "Collecting urllib3 (from minio>=7.2.8->MedShapeNet)\n",
      "  Using cached urllib3-2.2.3-py3-none-any.whl.metadata (6.5 kB)\n",
      "Collecting argon2-cffi (from minio>=7.2.8->MedShapeNet)\n",
      "  Using cached argon2_cffi-23.1.0-py3-none-any.whl.metadata (5.2 kB)\n",
      "Collecting pycryptodome (from minio>=7.2.8->MedShapeNet)\n",
      "  Using cached pycryptodome-3.21.0-cp36-abi3-macosx_10_9_x86_64.whl.metadata (3.4 kB)\n",
      "Requirement already satisfied: typing-extensions in /Users/jana/opt/anaconda3/envs/temp_env/lib/python3.11/site-packages (from minio>=7.2.8->MedShapeNet) (4.11.0)\n",
      "Collecting python-utils>=3.4.5 (from numpy-stl>=3.1.2->MedShapeNet)\n",
      "  Using cached python_utils-3.9.0-py2.py3-none-any.whl.metadata (9.8 kB)\n",
      "Collecting charset-normalizer<4,>=2 (from requests>=2.32.3->MedShapeNet)\n",
      "  Using cached charset_normalizer-3.3.2-cp311-cp311-macosx_10_9_x86_64.whl.metadata (33 kB)\n",
      "Collecting idna<4,>=2.5 (from requests>=2.32.3->MedShapeNet)\n",
      "  Using cached idna-3.10-py3-none-any.whl.metadata (10 kB)\n",
      "Collecting argon2-cffi-bindings (from argon2-cffi->minio>=7.2.8->MedShapeNet)\n",
      "  Using cached argon2_cffi_bindings-21.2.0-cp38-abi3-macosx_10_9_universal2.whl.metadata (6.7 kB)\n",
      "Collecting cffi>=1.0.1 (from argon2-cffi-bindings->argon2-cffi->minio>=7.2.8->MedShapeNet)\n",
      "  Using cached cffi-1.17.1-cp311-cp311-macosx_10_9_x86_64.whl.metadata (1.5 kB)\n",
      "Collecting pycparser (from cffi>=1.0.1->argon2-cffi-bindings->argon2-cffi->minio>=7.2.8->MedShapeNet)\n",
      "  Using cached pycparser-2.22-py3-none-any.whl.metadata (943 bytes)\n",
      "Downloading MedShapeNet-0.1.25-py3-none-any.whl (26 kB)\n",
      "Using cached minio-7.2.9-py3-none-any.whl (93 kB)\n",
      "Using cached numpy-1.25.2-cp311-cp311-macosx_10_9_x86_64.whl (20.8 MB)\n",
      "Using cached numpy_stl-3.1.2-py3-none-any.whl (20 kB)\n",
      "Using cached pydicom-3.0.1-py3-none-any.whl (2.4 MB)\n",
      "Using cached requests-2.32.3-py3-none-any.whl (64 kB)\n",
      "Using cached tqdm-4.66.5-py3-none-any.whl (78 kB)\n",
      "Using cached trimesh-4.4.9-py3-none-any.whl (700 kB)\n",
      "Using cached python_gdcm-3.0.24.1-cp311-cp311-macosx_10_9_x86_64.whl (12.7 MB)\n",
      "Using cached certifi-2024.8.30-py3-none-any.whl (167 kB)\n",
      "Using cached charset_normalizer-3.3.2-cp311-cp311-macosx_10_9_x86_64.whl (121 kB)\n",
      "Using cached idna-3.10-py3-none-any.whl (70 kB)\n",
      "Using cached python_utils-3.9.0-py2.py3-none-any.whl (32 kB)\n",
      "Using cached urllib3-2.2.3-py3-none-any.whl (126 kB)\n",
      "Using cached argon2_cffi-23.1.0-py3-none-any.whl (15 kB)\n",
      "Using cached pycryptodome-3.21.0-cp36-abi3-macosx_10_9_x86_64.whl (1.6 MB)\n",
      "Using cached termcolor-2.4.0-py3-none-any.whl (7.7 kB)\n",
      "Using cached argon2_cffi_bindings-21.2.0-cp38-abi3-macosx_10_9_universal2.whl (53 kB)\n",
      "Using cached cffi-1.17.1-cp311-cp311-macosx_10_9_x86_64.whl (182 kB)\n",
      "Using cached pycparser-2.22-py3-none-any.whl (117 kB)\n",
      "Installing collected packages: urllib3, tqdm, termcolor, python-utils, python-gdcm, pydicom, pycryptodome, pycparser, numpy, idna, charset-normalizer, certifi, trimesh, requests, numpy-stl, fire, cffi, argon2-cffi-bindings, argon2-cffi, minio, MedShapeNet\n",
      "Successfully installed MedShapeNet-0.1.25 argon2-cffi-23.1.0 argon2-cffi-bindings-21.2.0 certifi-2024.8.30 cffi-1.17.1 charset-normalizer-3.3.2 fire-0.7.0 idna-3.10 minio-7.2.9 numpy-1.25.2 numpy-stl-3.1.2 pycparser-2.22 pycryptodome-3.21.0 pydicom-3.0.1 python-gdcm-3.0.24.1 python-utils-3.9.0 requests-2.32.3 termcolor-2.4.0 tqdm-4.66.5 trimesh-4.4.9 urllib3-2.2.3\n"
     ]
    }
   ],
   "source": [
    "# Install ipykernall for temp_env\n",
    "!python -m ipykernel install --user --name temp_medshapenet_env --display-name \"Python (temp_env)\"\n",
    "\n",
    "# Install MedShapeNet\n",
    "!pip install MedShapeNet"
   ]
  },
  {
   "cell_type": "markdown",
   "metadata": {},
   "source": [
    "Step four: \n",
    "- Sanity Check if the installed requirements are actually installed."
   ]
  },
  {
   "cell_type": "code",
   "execution_count": 3,
   "metadata": {},
   "outputs": [
    {
     "name": "stdout",
     "output_type": "stream",
     "text": [
      "Package              Version\n",
      "-------------------- -----------\n",
      "appnope              0.1.2\n",
      "argon2-cffi          23.1.0\n",
      "argon2-cffi-bindings 21.2.0\n",
      "asttokens            2.0.5\n",
      "certifi              2024.8.30\n",
      "cffi                 1.17.1\n",
      "charset-normalizer   3.3.2\n",
      "comm                 0.2.1\n",
      "debugpy              1.6.7\n",
      "decorator            5.1.1\n",
      "executing            0.8.3\n",
      "fire                 0.7.0\n",
      "idna                 3.10\n",
      "ipykernel            6.28.0\n",
      "ipython              8.27.0\n",
      "jedi                 0.19.1\n",
      "jupyter_client       8.6.0\n",
      "jupyter_core         5.7.2\n",
      "matplotlib-inline    0.1.6\n",
      "MedShapeNet          0.1.25\n",
      "minio                7.2.9\n",
      "nest-asyncio         1.6.0\n",
      "numpy                1.25.2\n",
      "numpy-stl            3.1.2\n",
      "packaging            24.1\n",
      "parso                0.8.3\n",
      "pexpect              4.8.0\n",
      "pip                  24.2\n",
      "platformdirs         3.10.0\n",
      "prompt-toolkit       3.0.43\n",
      "psutil               5.9.0\n",
      "ptyprocess           0.7.0\n",
      "pure-eval            0.2.2\n",
      "pycparser            2.22\n",
      "pycryptodome         3.21.0\n",
      "pydicom              3.0.1\n",
      "Pygments             2.15.1\n",
      "python-dateutil      2.9.0.post0\n",
      "python-gdcm          3.0.24.1\n",
      "python-utils         3.9.0\n",
      "pyzmq                25.1.2\n",
      "requests             2.32.3\n",
      "setuptools           75.1.0\n",
      "six                  1.16.0\n",
      "stack-data           0.2.0\n",
      "termcolor            2.4.0\n",
      "tornado              6.4.1\n",
      "tqdm                 4.66.5\n",
      "traitlets            5.14.3\n",
      "trimesh              4.4.9\n",
      "typing_extensions    4.11.0\n",
      "urllib3              2.2.3\n",
      "wcwidth              0.2.5\n",
      "wheel                0.44.0\n"
     ]
    }
   ],
   "source": [
    "!pip list"
   ]
  },
  {
   "cell_type": "markdown",
   "metadata": {},
   "source": [
    "Successfully set up MedShapenet! <br> <br>\n",
    "Now you can import Medshapenet."
   ]
  },
  {
   "cell_type": "code",
   "execution_count": 4,
   "metadata": {},
   "outputs": [
    {
     "name": "stdout",
     "output_type": "stream",
     "text": [
      "\n",
      "        This message only displays once when importing MedShapeNet for the first time.\n",
      "\n",
      "        MedShapeNet API is under construction, more functionality will come soon!\n",
      "\n",
      "        For information use MedShapeNet.msn_help().\n",
      "        Alternatively, check the GitHub Page: https://github.com/GLARKI/MedShapeNet2.0\n",
      "\n",
      "        PLEASE CITE US If you used MedShapeNet API for your (research) project:\n",
      "        \n",
      "        @article{li2023medshapenet,\n",
      "        title={MedShapeNet--A Large-Scale Dataset of 3D Medical Shapes for Computer Vision},\n",
      "        author={Li, Jianning and Pepe, Antonio and Gsaxner, Christina and Luijten, Gijs and Jin, Yuan and Ambigapathy, Narmada, and others},\n",
      "        journal={arXiv preprint arXiv:2308.16139},\n",
      "        year={2023}\n",
      "        }\n",
      "\n",
      "        PLEASE USE the def dataset_info(self, bucket_name: str) to find the proper citation alongside MedShapeNet when utilizing a dataset for your resarch project.\n",
      "        \n"
     ]
    }
   ],
   "source": [
    "from MedShapeNet import MedShapeNet as msn"
   ]
  },
  {
   "cell_type": "code",
   "execution_count": 5,
   "metadata": {},
   "outputs": [
    {
     "name": "stdout",
     "output_type": "stream",
     "text": [
      "________________________________________________________________________________\n",
      "\n",
      "                NOTE:\n",
      "                This package is currently under heavy construction, more functionality will come soon!\n",
      "                Current S3 access is for development only and reachable via https://xrlab.ikim.nrw wifi, full access will come soon!\n",
      "                Want to contribute, contact me Gijs Luijten via LinkedIn, my work email or the MedShapeNet 2.0 GitHub.\n",
      "                \n",
      "                SAMPLE USAGE - With Jupyter Notebook examples:\n",
      "                https://github.com/GLARKI/MedShapeNet2.0/tree/main/Samples\n",
      "\n",
      "                CITE:\n",
      "                If you used MedShapeNet within your research please CITE:\n",
      "                @article{li2023medshapenet,\n",
      "                title={MedShapeNet--A Large-Scale Dataset of 3D Medical Shapes for Computer Vision},\n",
      "                author={Li, Jianning and Pepe, Antonio and Gsaxner, Christina and Luijten, Gijs and Jin, Yuan and Ambigapathy, Narmada and Nasca, Enrico and Solak, Naida and Melito, Gian Marco and Memon, Afaque R and others},\n",
      "                journal={arXiv preprint arXiv:2308.16139},\n",
      "                year={2023}\n",
      "                }\n",
      "              \n",
      "                CALL DOCSTRING/INFO of MedShapeNet class or method (in Python) using:\n",
      "                print(MedShapeNet.__doc__) OR print(MedShapeNet.'{'method_name'}'.__doc__)\n",
      "              \n",
      "                CURRENT (PYTHON) METHODS:\n",
      "                    - def __init__: Setup connection with the database as an object through the MedShapeNet init, and create a directory to store related downloads.\n",
      "                    - def help(): Ask for help specifying all functions.\n",
      "                    - def datasets(): Get a list of all datasets included in MedShapeNet and stored on the S3 storage. \n",
      "                    - def dataset_info(): Print licence, citation and number of files for a dataset.\n",
      "                    - def dataset_files(): Get a list of files inside the dataset.\n",
      "                    - def download_file(): Download a file from a dataset\n",
      "                    - def download_dataset(): Download seperate datasets completely based on the name.\n",
      "                    - def stl_to_npz(): Convert a STL file to a numpy mask.\n",
      "                    - def dataset_stl_to_npz(): Convert an already downloaded dataset to numpy masks stored in the same directory.\n",
      "                    - def download_stl_as_numpy(): Download a shape from the database directly as numpy mask, conversion from stl to npz happens in memory.\n",
      "                    - def download_dataset_masks(): Download a complete dataset but get masks instead of stl files, conversion from stl to npz happens in memory.\n",
      "                    - def search_by_name(): Search the original MedShapeNet (Sciebo storage) by name and get a list of all download urls, downside: you have to look up the reference and licence manually based on the paper. \n",
      "                    - def search_and_download_by_name(): Search and download the original MedShapeNet (Sciebo storage) by name, downside: you have to look up the reference and licence manually based on the paper.\n",
      "\n",
      "                COMMAND LINE INTERFACE\n",
      "                    - Methods are callable via the command line interface as well.\n",
      "                    e.g., call in cli using: python CLI.py download_file --bucket_name \"example-bucket\" --object_name \"file.stl\" --file_path \"./local/path/\"\n",
      "                    CLI Methods:\n",
      "                        'MedShapeNet': MedShapeNet,\n",
      "                        'help':MedShapeNet.help,\n",
      "                        'datasets':MedShapeNet.datasets,\n",
      "                        'dataset_info': MedShapeNet.dataset_info,\n",
      "                        'dataset_files':MedShapeNet.dataset_files,\n",
      "                        'download_file':MedShapeNet.download_file,\n",
      "                        'download_dataset':MedShapeNet.download_dataset,\n",
      "                        'stl_to_npz':MedShapeNet.stl_to_npz,\n",
      "                        'dataset_stl_to_npz':MedShapeNet.dataset_stl_to_npz,\n",
      "                        'download_stl_as_numpy':MedShapeNet.download_stl_as_numpy,\n",
      "                        'download_dataset_masks':MedShapeNet.download_dataset_masks,\n",
      "                        'search_by_name':MedShapeNet.search_by_name,\n",
      "                        'search_and_download_by_name':MedShapeNet.search_and_download_by_name\n",
      "\n",
      "                Datasets within the s3 bucket:\n",
      "                *under construction*\n",
      "              \n",
      "                \n",
      "________________________________________________________________________________\n",
      "\n",
      "                METHODS IN DETAIL\n",
      "              \n",
      "                    - def __init__(self, minio_endpoint: str, minio_endpoint: str, access_key: str, secret_key: str, secure: bool, timeout: int) -> None:\n",
      "                        Initializes an instance of the class with a MinIO client and sets up a default download directory.\n",
      "                        Configures the MinIO client with the provided endpoint, access credentials, and security settings. Also creates a \n",
      "                        local directory for storing downloaded files if it does not already exist.\n",
      "\n",
      "                        :param minio_endpoint: Endpoint for the MinIO server (e.g., 'localhost:9000'). \n",
      "                                                Can also be set to a remote server address.\n",
      "                        :param access_key: Access key for authenticating with the MinIO server.\n",
      "                        :param secret_key: Secret key for authenticating with the MinIO server.\n",
      "                        :param secure: Boolean flag indicating whether to use HTTPS for communication with the MinIO server. Defaults to False.\n",
      "                        :param timeout: Timeout duration in seconds for connection and read operations. Defaults to 5 seconds.\n",
      "\n",
      "                        :raises urllib3.exceptions.TimeoutError: If the connection to MinIO times out.\n",
      "                        :raises urllib3.exceptions.HTTPError: For general HTTP errors during connection.\n",
      "                        :raises S3Error: If an error occurs related to MinIO operations.\n",
      "                        :raises socket.timeout: If a socket operation times out.\n",
      "\n",
      "                        Initializes the `self.minio_client` with the provided settings and verifies the connection by listing the buckets. \n",
      "                        Creates the download directory at `self.download_dir` if it does not exist.\n",
      "              \n",
      "                    - def help() -> None:\n",
      "                        Prints a help message regarding current functionality of MedShapeNet API.\n",
      "                        Returns: None\n",
      "              \n",
      "                    - def datasets(self, print_output: bool = False) -> list:\n",
      "                        Retrieves a list of top-level datasets from the MinIO server. This includes both bucket names and top-level folders \n",
      "                        within the buckets. It excludes nested folders to provide a clear list of primary datasets.\n",
      "                        This method first lists all buckets and then inspects each bucket to find top-level folders. It ensures that nested \n",
      "                        folders are not included in the final dataset list. \n",
      "\n",
      "                        :param print_output: If True, prints the list of datasets with corresponding indices. Defaults to False.\n",
      "                        :return: A list of dataset names, including both bucket names and top-level folder names. Nested folders are excluded.\n",
      "              \n",
      "                    - def dataset_info(self, bucket_name: str) -> None:\n",
      "                        Displays detailed information about a dataset stored in a specified bucket.\n",
      "                        \n",
      "                        This method performs the following actions:\n",
      "                        1. Prints the contents of 'cite.txt' and 'licence.txt' files if they exist in the dataset.\n",
      "                        2. Counts and prints the total number of '.txt', '.json', and '.stl' files in the dataset.\n",
      "\n",
      "                        :param bucket_name: Name of the bucket or a path within a bucket from which to extract dataset information.\n",
      "                        :raises S3Error: If an error occurs while accessing or reading files from the bucket.\n",
      "                    \n",
      "                    - def dataset_files(self, bucket_name: str, file_extension: str = None, print_output: bool = False) -> list:\n",
      "                        Lists all files in a specified bucket and optionally filters by file extension.\n",
      "\n",
      "                        This method performs the following actions:\n",
      "                        1. Lists all files in the specified bucket, optionally filtering by a given file extension.\n",
      "                        2. Counts and prints the total number of '.txt', '.json', and '.stl' files in the bucket.\n",
      "                        3. Prints the file names and summary statistics if requested.\n",
      "\n",
      "                        :param bucket_name: Name of the bucket or dataset to list files from. May include a folder prefix.\n",
      "                        :param file_extension: (Optional) File extension to filter the files by (e.g., '.stl', '.txt', '.json'). If None, all files are listed.\n",
      "                        :param print_output: Whether to print the file names and file type counts to the console.\n",
      "                        :return: A list of file names in the bucket, filtered by the specified file extension if provided.\n",
      "                        :raises S3Error: If an error occurs while listing objects from the bucket.\n",
      "              \n",
      "                    - def download_file(self, bucket_name: str, object_name: str, file_path: Path = None, print_output: bool = True) -> None:\n",
      "                        Downloads a file from a specified bucket in MinIO to a local path.\n",
      "\n",
      "                        This method handles both cases where the bucket name includes a folder path or not:\n",
      "                        - If no file path is provided, it automatically creates a directory structure based on the bucket name and saves the file there.\n",
      "                        - If a folder path is included in the bucket name, it extracts the bucket name and creates a subdirectory for the dataset.\n",
      "\n",
      "                        :param bucket_name: Name of the bucket from which the file is to be downloaded. It may include a folder path.\n",
      "                        :param object_name: Name of the file (object) within the bucket.\n",
      "                        :param file_path: (Optional) Local path where the downloaded file should be saved. If None, the file is saved in a directory created based on the bucket name.\n",
      "                        :param print_output: Whether to print a success message after the file is downloaded.\n",
      "                        :raises S3Error: If an error occurs during the download process.\n",
      "              \n",
      "                    - def download_dataset(self, dataset_name: str, download_dir: Path = None, num_threads: int = 4, print_output: bool = True) -> list:\n",
      "                        Downloads all files from a specified dataset to a local directory, with parallel downloading for increased speed.\n",
      "                        Retries failed downloads once and returns a list of failed downloads after retry attempts.\n",
      "\n",
      "                        :param dataset_name: Name of the dataset, which can be a bucket name or a folder within a bucket.\n",
      "                        :param download_dir: Path to the local directory where files will be saved. If None, a default directory based on \n",
      "                                            the dataset name is created.\n",
      "                        :param num_threads: Number of threads to use for parallel downloading.\n",
      "                        :param print_output: Whether to print progress and error messages during the download process.\n",
      "                        :return: A list of tuples, each containing (bucket_name, file, file_path) for downloads that failed after retrying.\n",
      "              \n",
      "                    - def stl_to_npz(self, stl_file: str, npz_file: str, print_output = True) -> None:\n",
      "                        Converts an STL file to a NumPy .npz file, compressing the data.\n",
      "\n",
      "                        :param stl_file: Path to the input .stl file containing 3D shape data.\n",
      "                        :param npz_file: Path where the converted .npz file will be saved.\n",
      "                        :param print_output: Whether to print a success message upon successful conversion\n",
      "\n",
      "                    - def dataset_stl_to_npz(self, dataset: str, num_threads: int = 4, output_dir: Path = None, print_output: bool = False) -> None:                \n",
      "                        Converts all .stl files in the specified dataset directory to NumPy .npz format and saves them in a designated output directory.\n",
      "                        Additionally, copies any .txt and .json files from the dataset to the output directory.\n",
      "\n",
      "                        :param dataset: Name of the dataset, which can be a bucket or folder name.\n",
      "                        :param num_threads: Number of threads for parallel processing of .stl files.\n",
      "                        :param output_dir: Directory to save the converted .npz files. Defaults to 'masks_numpy' within the dataset directory.\n",
      "                        :param print_output: Whether to print progress messages during the conversion process.\n",
      "\n",
      "                    - def download_stl_as_numpy(self, bucket_name: str, stl_file: str, output_dir: Path, print_output: True) -> None:\n",
      "                        Downloads an STL file from a specified bucket, converts it to a NumPy .npz file, and saves it in the given directory.\n",
      "\n",
      "                        :param bucket_name: Name of the bucket or dataset where the STL file is located.\n",
      "                        :param stl_file: Path to the STL file within the bucket.\n",
      "                        :param output_dir: Directory where the converted .npz file will be saved.\n",
      "                        :param print_output: Whether to print progress messages.\n",
      "              \n",
      "                    - def download_dataset_masks(self, dataset_name: str, download_dir: Path = None, num_threads: int = 4, print_output: bool = True) -> list:\n",
      "                        Downloads files from a dataset, converting STL files to NumPy masks and saving them as .npz files,\n",
      "                        while directly saving non-STL files to the specified directory.\n",
      "\n",
      "                        STL files are processed in memory and converted to NumPy arrays, which are saved as compressed .npz files.\n",
      "                        Non-STL files (e.g., .txt, .json) are copied directly to the download directory.\n",
      "\n",
      "                        :param dataset_name: Name of the dataset, which may include a bucket name and an optional folder path.\n",
      "                        :param download_dir: Directory where the converted and non-STL files should be saved. If None, a default directory\n",
      "                                            within the class's download directory is used.\n",
      "                        :param num_threads: Number of threads for parallel downloading and processing.\n",
      "                        :param print_output: Whether to print progress messages.\n",
      "                        :return: A list of STL files that failed to download or convert, even after retry attempts.\n",
      "              \n",
      "                    - def search_and_download_by_name(self, name: str = None, max_threads: int = 5, save_folder: Path = None, extension: str = '.stl', print_output = True) -> list:\n",
      "                        This is a function that still uses the download links from sciebo and will be eventually replaced.\n",
      "                        Make sure to look up the correct citations/licence per shape based on the paper \"https://arxiv.org/abs/2308.16139\"\n",
      "                        \n",
      "                        Searches for and downloads files based on a name search. STL files will be downloaded in parallel.\n",
      "\n",
      "                        The method searches for files related to the specified name, downloads them, and saves them in the designated folder.\n",
      "                        Failed downloads are retried.\n",
      "\n",
      "                        :param name: The name of the organ or disease to search for.\n",
      "                        :param max_threads: Maximum number of threads to use for downloading files.\n",
      "                        :param save_folder: Path to the folder where the found STL files should be saved. If None, a folder named after the search query with \"_stl\" appended will be created.\n",
      "                        :param extension: File extension to use when saving files (default is '.stl').\n",
      "                        :param print_output: Whether to print progress messages.\n",
      "                        :return: A list of URLs for downloads that failed even after retry attempts.\n",
      "              \n",
      "                HELPER FUNCTIONS WITHIN THE CLASS\n",
      "                - def print_dynamic_line():\n",
      "                    Prints a line of underscores across the terminal width for visual separation between commands.\n",
      "                    This function determines the terminal width and prints a line of underscores to enhance readability between terminal outputs.\n",
      "                    If the terminal width cannot be determined, a default width of 80 characters is used.\n",
      "\n",
      "                - def download_file(minio_client: Minio, bucket_name: str, object_name: str, file_path: Path) -> None:\n",
      "                    Downloads a file from a specified bucket in MinIO.\n",
      "                    :param minio_client: MinIO client object used to interact with the MinIO server.\n",
      "                    :param bucket_name: Name of the bucket containing the file.\n",
      "                    :param object_name: Name of the object (file) in the bucket.\n",
      "                    :param file_path: Path where the downloaded file will be saved.\n",
      "\n",
      "                - def download_file_from_url(url: str, save_folder: str, filename: str = None, extension: str = '.stl', print_output=False) -> None:\n",
      "                    Downloads a file from a URL and saves it to a specified folder.\n",
      "                    :param url: URL of the file to be downloaded.\n",
      "                    :param save_folder: Directory where the downloaded file will be saved.\n",
      "                    :param filename: Optional custom filename for the downloaded file. If None, filename is extracted from the URL.\n",
      "                    :param extension: File extension to be used if filename is not provided. Defaults to '.stl'.\n",
      "                    :param print_output: Whether to print progress messages.\n",
      "                \n",
      "________________________________________________________________________________\n"
     ]
    }
   ],
   "source": [
    "msn.help()"
   ]
  },
  {
   "cell_type": "markdown",
   "metadata": {},
   "source": [
    "Create an instance. Automatically creates a folder for the downloaded data where the notebook is saved."
   ]
  },
  {
   "cell_type": "code",
   "execution_count": 6,
   "metadata": {},
   "outputs": [
    {
     "name": "stdout",
     "output_type": "stream",
     "text": [
      "Connection to MinIO server successful.\n",
      "\n",
      "Download directory already exists at: /Users/jana/Desktop/MedShapeNet2.0-main/Samples/GettingStarted/msn_downloads\n"
     ]
    }
   ],
   "source": [
    "msn_instance = msn()"
   ]
  },
  {
   "cell_type": "markdown",
   "metadata": {},
   "source": [
    "Show the available datasets in MedShapeNet:"
   ]
  },
  {
   "cell_type": "code",
   "execution_count": 7,
   "metadata": {},
   "outputs": [
    {
     "name": "stdout",
     "output_type": "stream",
     "text": [
      "________________________________________________________________________________\n",
      "1. medshapenetcore/3DTeethSeg\n",
      "2. medshapenetcore/ASOCA\n",
      "3. medshapenetcore/AVT\n",
      "4. medshapenetcore/AutoImplantCraniotomy\n",
      "5. medshapenetcore/CoronaryArteries\n",
      "6. medshapenetcore/FLARE\n",
      "7. medshapenetcore/FaceVR\n",
      "8. medshapenetcore/KITS\n",
      "9. medshapenetcore/PULMONARY\n",
      "10. medshapenetcore/SurgicalInstruments\n",
      "11. medshapenetcore/ThoracicAorta_Saitta\n",
      "12. medshapenetcore/ToothFairy\n",
      "________________________________________________________________________________\n"
     ]
    }
   ],
   "source": [
    "list_of_datasets = msn_instance.datasets(True)"
   ]
  },
  {
   "cell_type": "markdown",
   "metadata": {},
   "source": [
    "Choose one dataset."
   ]
  },
  {
   "cell_type": "code",
   "execution_count": 16,
   "metadata": {},
   "outputs": [],
   "source": [
    "dataset = list_of_datasets[6]"
   ]
  },
  {
   "cell_type": "markdown",
   "metadata": {},
   "source": [
    "Print types and numbers of files of the dataset:"
   ]
  },
  {
   "cell_type": "code",
   "execution_count": 17,
   "metadata": {},
   "outputs": [
    {
     "name": "stdout",
     "output_type": "stream",
     "text": [
      "________________________________________________________________________________\n",
      "\n",
      "DATASET: medshapenetcore/FaceVR\n",
      "\n",
      "\n",
      "CITATION INFO:\n",
      "Please cite MedShapeNet if you came to find this dataset through us or used MedShapeNet:\n",
      "    - https://arxiv.org/abs/2308.16139 \n",
      "    - Li, J. et al. MedShapeNet -- A Large-Scale Dataset of 3D Medical Shapes for Computer Vision. Preprint at https://doi.org/10.48550/arXiv.2308.16139 (2023).\n",
      "\n",
      "Please also cite the manuscript and data descriptor:\n",
      "    - C. Gsaxner, J. Wallner, X. Chen, W. Zemann, and J. Egger, “Facial model collection for medical augmented reality in oncologic cranio-maxillofacial surgery,” Scientific data, vol. 6, no. 1, pp. 1–7, 2019.\n",
      "\n",
      "The original data comes from: Li, J. (2023). MedShapeNetCore [Data set]. Zenodo. https://doi.org/10.5281/zenodo.10623506\n",
      "The full data can be accessed at https://figshare.com/articles/dataset/Medical_Augmented_Reality_Facial_Data_Collection/8857007/2\n",
      "    - Original data is much nicer than the downsized version from MedShapeNetCore https://doi.org/10.5281/zenodo.10623506.\n",
      "\n",
      "LICENCE INFO:\n",
      "The author of this work allowed this data to be part of the work done for MedShapeNet (https://arxiv.org/pdf/2308.16139) and its API.\n",
      "    - Licence: CC BY 4.0 (https://creativecommons.org/licenses/by/4.0/deed.en)\n",
      "    - Data comes from: Li, J. (2023). MedShapeNetCore [Data set]. Zenodo. https://doi.org/10.5281/zenodo.10623506 and includes 11 3D shapes of faces.\n",
      "    - Interested in the full licence, check the MedShapeNet Paper or access the full original data including (CB)CT via https://figshare.com/articles/dataset/Medical_Augmented_Reality_Facial_Data_Collection/8857007/2\n",
      "    - Original data is much nicer than the downsized version from MedShapeNetCore https://doi.org/10.5281/zenodo.10623506.\n",
      "    - Please check the FaceVR_cite.txt to cite all sources ackordingly.\n",
      "\n",
      "CC BY 4.0 (https://creativecommons.org/licenses/by/4.0/deed.en)\n",
      "\n",
      "Total .txt files (how to cite, license file):                    2\n",
      "Total .json files (labels, if in dataset as json):               1\n",
      "Total .stl files (shapes):                                      11\n",
      "\n",
      "\n",
      "            THANK YOU FOR USING MedShapeNet  2.0 API\n",
      "            If you used MedShapeNet within your research please CITE:\n",
      "                @article{li2023medshapenet,\n",
      "                title={MedShapeNet--A Large-Scale Dataset of 3D Medical Shapes for Computer Vision},\n",
      "                author={Li, Jianning and Pepe, Antonio and Gsaxner, Christina and Luijten, Gijs and Jin, Yuan and \n",
      "                Ambigapathy, Narmada and Nasca, Enrico and Solak, Naida and Melito, Gian Marco and Memon, Afaque R and others},\n",
      "                journal={arXiv preprint arXiv:2308.16139},\n",
      "                year={2023}}\n",
      "            THANK YOU AGAIN, ALL FEEDBACK IS WELCOME AT https://github.com/GLARKI/MedShapeNet2.0 or email me https://ait.ikim.nrw/authors/gijs-luijten/ !!!\n",
      "            \n",
      "________________________________________________________________________________\n"
     ]
    }
   ],
   "source": [
    "msn_instance.dataset_info(dataset)"
   ]
  },
  {
   "cell_type": "markdown",
   "metadata": {},
   "source": [
    "Download an entire dataset. <br>\n",
    "Note that we always print licence and citation info, the print_output also returns the number of failed downloads."
   ]
  },
  {
   "cell_type": "code",
   "execution_count": 18,
   "metadata": {},
   "outputs": [
    {
     "name": "stderr",
     "output_type": "stream",
     "text": [
      "Downloading files: 100%|██████████| 14/14 [00:12<00:00,  1.16it/s]"
     ]
    },
    {
     "name": "stdout",
     "output_type": "stream",
     "text": [
      "________________________________________________________________________________\n",
      "\n",
      "DATASET: medshapenetcore/FaceVR\n",
      "\n",
      "\n",
      "CITATION INFO:\n",
      "Please cite MedShapeNet if you came to find this dataset through us or used MedShapeNet:\n",
      "    - https://arxiv.org/abs/2308.16139 \n",
      "    - Li, J. et al. MedShapeNet -- A Large-Scale Dataset of 3D Medical Shapes for Computer Vision. Preprint at https://doi.org/10.48550/arXiv.2308.16139 (2023).\n",
      "\n",
      "Please also cite the manuscript and data descriptor:\n",
      "    - C. Gsaxner, J. Wallner, X. Chen, W. Zemann, and J. Egger, “Facial model collection for medical augmented reality in oncologic cranio-maxillofacial surgery,” Scientific data, vol. 6, no. 1, pp. 1–7, 2019.\n",
      "\n",
      "The original data comes from: Li, J. (2023). MedShapeNetCore [Data set]. Zenodo. https://doi.org/10.5281/zenodo.10623506\n",
      "The full data can be accessed at https://figshare.com/articles/dataset/Medical_Augmented_Reality_Facial_Data_Collection/8857007/2\n",
      "    - Original data is much nicer than the downsized version from MedShapeNetCore https://doi.org/10.5281/zenodo.10623506.\n",
      "\n",
      "LICENCE INFO:\n",
      "The author of this work allowed this data to be part of the work done for MedShapeNet (https://arxiv.org/pdf/2308.16139) and its API.\n",
      "    - Licence: CC BY 4.0 (https://creativecommons.org/licenses/by/4.0/deed.en)\n",
      "    - Data comes from: Li, J. (2023). MedShapeNetCore [Data set]. Zenodo. https://doi.org/10.5281/zenodo.10623506 and includes 11 3D shapes of faces.\n",
      "    - Interested in the full licence, check the MedShapeNet Paper or access the full original data including (CB)CT via https://figshare.com/articles/dataset/Medical_Augmented_Reality_Facial_Data_Collection/8857007/2\n",
      "    - Original data is much nicer than the downsized version from MedShapeNetCore https://doi.org/10.5281/zenodo.10623506.\n",
      "    - Please check the FaceVR_cite.txt to cite all sources ackordingly.\n",
      "\n",
      "CC BY 4.0 (https://creativecommons.org/licenses/by/4.0/deed.en)\n",
      "\n",
      "Total .txt files (how to cite, license file):                    2\n",
      "Total .json files (labels, if in dataset as json):               1\n",
      "Total .stl files (shapes):                                      11\n",
      "\n",
      "\n",
      "            THANK YOU FOR USING MedShapeNet  2.0 API\n",
      "            If you used MedShapeNet within your research please CITE:\n",
      "                @article{li2023medshapenet,\n",
      "                title={MedShapeNet--A Large-Scale Dataset of 3D Medical Shapes for Computer Vision},\n",
      "                author={Li, Jianning and Pepe, Antonio and Gsaxner, Christina and Luijten, Gijs and Jin, Yuan and \n",
      "                Ambigapathy, Narmada and Nasca, Enrico and Solak, Naida and Melito, Gian Marco and Memon, Afaque R and others},\n",
      "                journal={arXiv preprint arXiv:2308.16139},\n",
      "                year={2023}}\n",
      "            THANK YOU AGAIN, ALL FEEDBACK IS WELCOME AT https://github.com/GLARKI/MedShapeNet2.0 or email me https://ait.ikim.nrw/authors/gijs-luijten/ !!!\n",
      "            \n",
      "________________________________________________________________________________\n",
      "\n",
      "Dataset medshapenetcore/FaceVR is downloaded with 0 failures\n"
     ]
    },
    {
     "name": "stderr",
     "output_type": "stream",
     "text": [
      "\n"
     ]
    },
    {
     "data": {
      "text/plain": [
       "[]"
      ]
     },
     "execution_count": 18,
     "metadata": {},
     "output_type": "execute_result"
    }
   ],
   "source": [
    "msn_instance.download_dataset(dataset_name = dataset, download_dir = None, num_threads=4)"
   ]
  },
  {
   "cell_type": "markdown",
   "metadata": {},
   "source": [
    "Convert a file of the downloaded dataset from .stl to a .npz:"
   ]
  },
  {
   "cell_type": "code",
   "execution_count": 19,
   "metadata": {},
   "outputs": [],
   "source": [
    "# get file name\n",
    "stl_file_1 = msn_instance.dataset_files(dataset, '.stl')[1]\n",
    "\n",
    "# create the paths to the stl files to be converted, and where to store the converted npz files\n",
    "stl_1_path = msn_instance.download_dir  / dataset.split('/')[-1] / stl_file_1.split('/')[-1]\n"
   ]
  },
  {
   "cell_type": "code",
   "execution_count": 20,
   "metadata": {},
   "outputs": [
    {
     "name": "stdout",
     "output_type": "stream",
     "text": [
      "Successfully converted msn_downloads/FaceVR/10_FaceVR.stl to msn_downloads/FaceVR/10_FaceVR.npz\n"
     ]
    }
   ],
   "source": [
    "msn_instance.stl_to_npz(stl_file=stl_1_path, npz_file=stl_1_path.with_suffix('.npz'), print_output=True)"
   ]
  },
  {
   "cell_type": "markdown",
   "metadata": {},
   "source": [
    "If you are not interested in a specific dataset, but in specific shapes you can search for them by name, e.g. 'instrument' and get a list with urls:"
   ]
  },
  {
   "cell_type": "code",
   "execution_count": 22,
   "metadata": {},
   "outputs": [
    {
     "name": "stdout",
     "output_type": "stream",
     "text": [
      "_________ URLs:\n",
      "https://uni-duisburg-essen.sciebo.de/s/HeShw1G4da15OOZ/download?path=%2F&files=face_1.stl\n",
      "https://uni-duisburg-essen.sciebo.de/s/HeShw1G4da15OOZ/download?path=%2F&files=face_10.stl\n",
      "https://uni-duisburg-essen.sciebo.de/s/HeShw1G4da15OOZ/download?path=%2F&files=face_11.stl\n",
      "https://uni-duisburg-essen.sciebo.de/s/HeShw1G4da15OOZ/download?path=%2F&files=face_12.stl\n",
      "https://uni-duisburg-essen.sciebo.de/s/HeShw1G4da15OOZ/download?path=%2F&files=face_2.stl\n",
      "https://uni-duisburg-essen.sciebo.de/s/HeShw1G4da15OOZ/download?path=%2F&files=face_3.stl\n",
      "https://uni-duisburg-essen.sciebo.de/s/HeShw1G4da15OOZ/download?path=%2F&files=face_4.stl\n",
      "https://uni-duisburg-essen.sciebo.de/s/HeShw1G4da15OOZ/download?path=%2F&files=face_5.stl\n",
      "https://uni-duisburg-essen.sciebo.de/s/HeShw1G4da15OOZ/download?path=%2F&files=face_6.stl\n",
      "https://uni-duisburg-essen.sciebo.de/s/HeShw1G4da15OOZ/download?path=%2F&files=face_7.stl\n",
      "https://uni-duisburg-essen.sciebo.de/s/HeShw1G4da15OOZ/download?path=%2F&files=face_8.stl\n",
      "https://uni-duisburg-essen.sciebo.de/s/HeShw1G4da15OOZ/download?path=%2F&files=face_9.stl\n",
      "\n",
      "\n",
      "Found 12 entries for \"face\"\n"
     ]
    }
   ],
   "source": [
    "list_face_urls = msn.search_by_name(name='face')"
   ]
  },
  {
   "cell_type": "markdown",
   "metadata": {},
   "source": [
    "Download a file from the url list:"
   ]
  },
  {
   "cell_type": "code",
   "execution_count": 24,
   "metadata": {},
   "outputs": [],
   "source": [
    "from MedShapeNet import download_file_from_url"
   ]
  },
  {
   "cell_type": "code",
   "execution_count": 25,
   "metadata": {},
   "outputs": [
    {
     "name": "stdout",
     "output_type": "stream",
     "text": [
      "Download from url: https://uni-duisburg-essen.sciebo.de/s/HeShw1G4da15OOZ/download?path=%2F&files=face_1.stl\n",
      "Downloaded face_1.stl, to directory single_downloads_from_url\n"
     ]
    }
   ],
   "source": [
    "download_file_from_url(list_face_urls[0], save_folder='single_downloads_from_url', filename=None, extension='.stl', print_output=True)"
   ]
  },
  {
   "cell_type": "markdown",
   "metadata": {},
   "source": [
    "You can also directly combine searching and downloading the data: <br>\n",
    "MedShapeNet.search_and_download_by_name(): search and download the original MedShapeNet (Sciebo storage) by name -> check references manually in the paper: https://arxiv.org/abs/2308.16139"
   ]
  },
  {
   "cell_type": "code",
   "execution_count": 26,
   "metadata": {},
   "outputs": [
    {
     "name": "stderr",
     "output_type": "stream",
     "text": [
      "Downloading files: 100%|██████████| 12/12 [01:16<00:00,  6.34s/it]\n"
     ]
    }
   ],
   "source": [
    "failed_downloads = msn_instance.search_and_download_by_name(name='face', max_threads = 5, save_folder=None, extension='.stl', print_output=False, sample_size=None)"
   ]
  },
  {
   "cell_type": "markdown",
   "metadata": {},
   "source": [
    "You can also define the folder to store the data at:"
   ]
  },
  {
   "cell_type": "code",
   "execution_count": 27,
   "metadata": {},
   "outputs": [
    {
     "name": "stdout",
     "output_type": "stream",
     "text": [
      "Starting download of 12 files for search 'face'...\n"
     ]
    },
    {
     "name": "stderr",
     "output_type": "stream",
     "text": [
      "Downloading files: 100%|██████████| 12/12 [01:11<00:00,  5.93s/it]"
     ]
    },
    {
     "name": "stdout",
     "output_type": "stream",
     "text": [
      "Download complete! Files are stored in folder: faces\n",
      "0 downloads failed.\n"
     ]
    },
    {
     "name": "stderr",
     "output_type": "stream",
     "text": [
      "\n"
     ]
    }
   ],
   "source": [
    "folder = 'faces'\n",
    "failed_downloads = msn_instance.search_and_download_by_name(name='face', save_folder=folder)"
   ]
  },
  {
   "cell_type": "code",
   "execution_count": null,
   "metadata": {},
   "outputs": [],
   "source": []
  }
 ],
 "metadata": {
  "kernelspec": {
   "display_name": "temp_msn_env",
   "language": "python",
   "name": "python3"
  },
  "language_info": {
   "codemirror_mode": {
    "name": "ipython",
    "version": 3
   },
   "file_extension": ".py",
   "mimetype": "text/x-python",
   "name": "python",
   "nbconvert_exporter": "python",
   "pygments_lexer": "ipython3",
   "version": "3.11.10"
  }
 },
 "nbformat": 4,
 "nbformat_minor": 2
}
